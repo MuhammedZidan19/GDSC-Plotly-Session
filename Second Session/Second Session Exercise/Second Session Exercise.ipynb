{
 "cells": [
  {
   "cell_type": "markdown",
   "id": "90b3f6c4",
   "metadata": {},
   "source": [
    "## What Are The Percentages Of Robbery, Theft, and Drugs Combined For Each District \" Berlin_crimes \""
   ]
  },
  {
   "cell_type": "code",
   "execution_count": null,
   "id": "fe826fcc",
   "metadata": {},
   "outputs": [],
   "source": []
  },
  {
   "cell_type": "markdown",
   "id": "fc426d30",
   "metadata": {},
   "source": [
    "## What is The Distribution Of Frequency Total Bill at Dinner And Lunch At Friday ? \" Tips Plotly Data Set \""
   ]
  },
  {
   "cell_type": "code",
   "execution_count": null,
   "id": "cc5d80e0",
   "metadata": {},
   "outputs": [],
   "source": []
  },
  {
   "cell_type": "markdown",
   "id": "62963c36",
   "metadata": {},
   "source": [
    "## Show The Relation  Of Total Bill Between Each Day And Each Order Size<br> \" Tips Plotly Data Set \""
   ]
  },
  {
   "cell_type": "code",
   "execution_count": null,
   "id": "8a002cbd",
   "metadata": {},
   "outputs": [],
   "source": []
  }
 ],
 "metadata": {
  "kernelspec": {
   "display_name": "Python 3",
   "language": "python",
   "name": "python3"
  },
  "language_info": {
   "codemirror_mode": {
    "name": "ipython",
    "version": 3
   },
   "file_extension": ".py",
   "mimetype": "text/x-python",
   "name": "python",
   "nbconvert_exporter": "python",
   "pygments_lexer": "ipython3",
   "version": "3.8.8"
  }
 },
 "nbformat": 4,
 "nbformat_minor": 5
}
