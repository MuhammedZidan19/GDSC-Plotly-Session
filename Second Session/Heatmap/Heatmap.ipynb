{
 "cells": [
  {
   "cell_type": "markdown",
   "id": "95bd7a0b",
   "metadata": {},
   "source": [
    "# HeatMap"
   ]
  },
  {
   "attachments": {
    "image.png": {
     "image/png": "[encoded data removed]"
    }
   },
   "cell_type": "markdown",
   "id": "370f0a8f",
   "metadata": {},
   "source": [
    "![image.png](attachment:image.png)"
   ]
  },
  {
   "cell_type": "code",
   "execution_count": 1,
   "id": "61ef4241",
   "metadata": {},
   "outputs": [],
   "source": [
    "# Import Libs Will Be Used\n",
    "import pandas as pd\n",
    "import plotly.express as px\n",
    "\n",
    "#load Data Frame From internet\n",
    "df = pd.read_csv('https://raw.githubusercontent.com/Coding-with-Adam/Dash-by-Plotly/master/Plotly_Graphs/Heatmaps/Historical%20NBA%20Performance.csv')"
   ]
  },
  {
   "cell_type": "code",
   "execution_count": 36,
   "id": "2f932a07",
   "metadata": {},
   "outputs": [
    {
     "data": {
      "text/html": [
       "<div>\n",
       "<style scoped>\n",
       "    .dataframe tbody tr th:only-of-type {\n",
       "        vertical-align: middle;\n",
       "    }\n",
       "\n",
       "    .dataframe tbody tr th {\n",
       "        vertical-align: top;\n",
       "    }\n",
       "\n",
       "    .dataframe thead th {\n",
       "        text-align: right;\n",
       "    }\n",
       "</style>\n",
       "<table border=\"1\" class=\"dataframe\">\n",
       "  <thead>\n",
       "    <tr style=\"text-align: right;\">\n",
       "      <th></th>\n",
       "      <th>Year</th>\n",
       "      <th>Team</th>\n",
       "      <th>Record</th>\n",
       "      <th>Winning Percentage</th>\n",
       "    </tr>\n",
       "  </thead>\n",
       "  <tbody>\n",
       "    <tr>\n",
       "      <th>0</th>\n",
       "      <td>2016</td>\n",
       "      <td>Celtics</td>\n",
       "      <td>25-15</td>\n",
       "      <td>0.625</td>\n",
       "    </tr>\n",
       "    <tr>\n",
       "      <th>1</th>\n",
       "      <td>2015</td>\n",
       "      <td>Celtics</td>\n",
       "      <td>48-34</td>\n",
       "      <td>0.585</td>\n",
       "    </tr>\n",
       "    <tr>\n",
       "      <th>2</th>\n",
       "      <td>2014</td>\n",
       "      <td>Celtics</td>\n",
       "      <td>40-42</td>\n",
       "      <td>0.488</td>\n",
       "    </tr>\n",
       "    <tr>\n",
       "      <th>3</th>\n",
       "      <td>2013</td>\n",
       "      <td>Celtics</td>\n",
       "      <td>25-57</td>\n",
       "      <td>0.305</td>\n",
       "    </tr>\n",
       "    <tr>\n",
       "      <th>4</th>\n",
       "      <td>2012</td>\n",
       "      <td>Celtics</td>\n",
       "      <td>41-40</td>\n",
       "      <td>0.506</td>\n",
       "    </tr>\n",
       "  </tbody>\n",
       "</table>\n",
       "</div>"
      ],
      "text/plain": [
       "   Year     Team Record  Winning Percentage\n",
       "0  2016  Celtics  25-15               0.625\n",
       "1  2015  Celtics  48-34               0.585\n",
       "2  2014  Celtics  40-42               0.488\n",
       "3  2013  Celtics  25-57               0.305\n",
       "4  2012  Celtics  41-40               0.506"
      ]
     },
     "execution_count": 36,
     "metadata": {},
     "output_type": "execute_result"
    }
   ],
   "source": [
    "df.head()"
   ]
  },
  {
   "cell_type": "code",
   "execution_count": 5,
   "id": "33fec289",
   "metadata": {
    "scrolled": true
   },
   "outputs": [
    {
     "name": "stdout",
     "output_type": "stream",
     "text": [
      "Year            1946   1947   1948   1949   1950   1951   1952   1953   1954  \\\n",
      "Team                                                                           \n",
      "76ers            NaN    NaN    NaN    NaN    NaN    NaN    NaN    NaN    NaN   \n",
      "Blackhawks       NaN    NaN    NaN  0.453  0.368    NaN    NaN    NaN    NaN   \n",
      "Bobcats          NaN    NaN    NaN    NaN    NaN    NaN    NaN    NaN    NaN   \n",
      "Braves           NaN    NaN    NaN    NaN    NaN    NaN    NaN    NaN    NaN   \n",
      "Bucks            NaN    NaN    NaN    NaN    NaN    NaN    NaN    NaN    NaN   \n",
      "Bullets          NaN    NaN    NaN    NaN    NaN    NaN    NaN    NaN    NaN   \n",
      "Bulls            NaN    NaN    NaN    NaN    NaN    NaN    NaN    NaN    NaN   \n",
      "Cavaliers        NaN    NaN    NaN    NaN    NaN    NaN    NaN    NaN    NaN   \n",
      "Celtics        0.367  0.417  0.417  0.324  0.565  0.591  0.648  0.583  0.500   \n",
      "Clippers         NaN    NaN    NaN    NaN    NaN    NaN    NaN    NaN    NaN   \n",
      "Grizzlies        NaN    NaN    NaN    NaN    NaN    NaN    NaN    NaN    NaN   \n",
      "Hawks            NaN    NaN    NaN    NaN    NaN  0.258  0.380  0.292  0.361   \n",
      "Heat             NaN    NaN    NaN    NaN    NaN    NaN    NaN    NaN    NaN   \n",
      "Hornets          NaN    NaN    NaN    NaN    NaN    NaN    NaN    NaN    NaN   \n",
      "Jazz             NaN    NaN    NaN    NaN    NaN    NaN    NaN    NaN    NaN   \n",
      "Kings            NaN    NaN    NaN    NaN    NaN    NaN    NaN    NaN    NaN   \n",
      "Knicks         0.550  0.542  0.533  0.588  0.545  0.561  0.671  0.611  0.528   \n",
      "Lakers           NaN    NaN  0.733  0.750  0.647  0.606  0.686  0.639  0.556   \n",
      "Magic            NaN    NaN    NaN    NaN    NaN    NaN    NaN    NaN    NaN   \n",
      "Mavericks        NaN    NaN    NaN    NaN    NaN    NaN    NaN    NaN    NaN   \n",
      "Nationals        NaN    NaN    NaN  0.797  0.485  0.606  0.662  0.583  0.597   \n",
      "Nets             NaN    NaN    NaN    NaN    NaN    NaN    NaN    NaN    NaN   \n",
      "Nuggets          NaN    NaN    NaN    NaN    NaN    NaN    NaN    NaN    NaN   \n",
      "Pacers           NaN    NaN    NaN    NaN    NaN    NaN    NaN    NaN    NaN   \n",
      "Packers          NaN    NaN    NaN    NaN    NaN    NaN    NaN    NaN    NaN   \n",
      "Pelicans         NaN    NaN    NaN    NaN    NaN    NaN    NaN    NaN    NaN   \n",
      "Pistons          NaN    NaN  0.367  0.588  0.471  0.439  0.522  0.556  0.597   \n",
      "Raptors          NaN    NaN    NaN    NaN    NaN    NaN    NaN    NaN    NaN   \n",
      "Rockets          NaN    NaN    NaN    NaN    NaN    NaN    NaN    NaN    NaN   \n",
      "Royals           NaN    NaN  0.750  0.750  0.603  0.621  0.629  0.611  0.403   \n",
      "Spurs            NaN    NaN    NaN    NaN    NaN    NaN    NaN    NaN    NaN   \n",
      "Suns             NaN    NaN    NaN    NaN    NaN    NaN    NaN    NaN    NaN   \n",
      "Supersonics      NaN    NaN    NaN    NaN    NaN    NaN    NaN    NaN    NaN   \n",
      "Thunder          NaN    NaN    NaN    NaN    NaN    NaN    NaN    NaN    NaN   \n",
      "Timberwolves     NaN    NaN    NaN    NaN    NaN    NaN    NaN    NaN    NaN   \n",
      "Trail Blazers    NaN    NaN    NaN    NaN    NaN    NaN    NaN    NaN    NaN   \n",
      "Warriors       0.583  0.563  0.467  0.382  0.606  0.500  0.174  0.403  0.458   \n",
      "Wizards          NaN    NaN    NaN    NaN    NaN    NaN    NaN    NaN    NaN   \n",
      "Zephyrs          NaN    NaN    NaN    NaN    NaN    NaN    NaN    NaN    NaN   \n",
      "\n",
      "Year            1955  ...   2007   2008   2009   2010   2011   2012   2013  \\\n",
      "Team                  ...                                                    \n",
      "76ers            NaN  ...  0.488  0.500  0.329  0.500  0.530  0.415  0.232   \n",
      "Blackhawks       NaN  ...    NaN    NaN    NaN    NaN    NaN    NaN    NaN   \n",
      "Bobcats          NaN  ...  0.390  0.427  0.537  0.415  0.106  0.256  0.524   \n",
      "Braves           NaN  ...    NaN    NaN    NaN    NaN    NaN    NaN    NaN   \n",
      "Bucks            NaN  ...  0.317  0.415  0.561  0.427  0.470  0.463  0.183   \n",
      "Bullets          NaN  ...    NaN    NaN    NaN    NaN    NaN    NaN    NaN   \n",
      "Bulls            NaN  ...  0.402  0.500  0.500  0.756  0.758  0.549  0.585   \n",
      "Cavaliers        NaN  ...  0.549  0.805  0.744  0.232  0.318  0.293  0.402   \n",
      "Celtics        0.542  ...  0.805  0.756  0.610  0.683  0.591  0.506  0.305   \n",
      "Clippers         NaN  ...  0.280  0.232  0.354  0.390  0.606  0.683  0.695   \n",
      "Grizzlies        NaN  ...  0.268  0.293  0.488  0.561  0.621  0.683  0.610   \n",
      "Hawks          0.458  ...  0.451  0.573  0.646  0.537  0.606  0.537  0.463   \n",
      "Heat             NaN  ...  0.183  0.524  0.573  0.707  0.697  0.805  0.659   \n",
      "Hornets          NaN  ...  0.683  0.598  0.451  0.561  0.318  0.329    NaN   \n",
      "Jazz             NaN  ...  0.659  0.585  0.646  0.476  0.545  0.524  0.305   \n",
      "Kings            NaN  ...  0.463  0.207  0.305  0.293  0.333  0.341  0.341   \n",
      "Knicks         0.486  ...  0.280  0.390  0.354  0.512  0.545  0.659  0.451   \n",
      "Lakers         0.458  ...  0.695  0.793  0.695  0.695  0.621  0.549  0.329   \n",
      "Magic            NaN  ...  0.634  0.720  0.720  0.634  0.561  0.244  0.280   \n",
      "Mavericks        NaN  ...  0.622  0.610  0.671  0.695  0.545  0.500  0.598   \n",
      "Nationals      0.486  ...    NaN    NaN    NaN    NaN    NaN    NaN    NaN   \n",
      "Nets             NaN  ...  0.415  0.415  0.146  0.293  0.333  0.598  0.537   \n",
      "Nuggets          NaN  ...  0.610  0.659  0.646  0.610  0.576  0.695  0.439   \n",
      "Pacers           NaN  ...  0.439  0.439  0.390  0.451  0.636  0.605  0.683   \n",
      "Packers          NaN  ...    NaN    NaN    NaN    NaN    NaN    NaN    NaN   \n",
      "Pelicans         NaN  ...    NaN    NaN    NaN    NaN    NaN    NaN  0.415   \n",
      "Pistons        0.514  ...  0.720  0.476  0.329  0.366  0.379  0.354  0.354   \n",
      "Raptors          NaN  ...  0.500  0.402  0.488  0.268  0.348  0.415  0.585   \n",
      "Rockets          NaN  ...  0.671  0.646  0.512  0.524  0.515  0.549  0.659   \n",
      "Royals         0.431  ...    NaN    NaN    NaN    NaN    NaN    NaN    NaN   \n",
      "Spurs            NaN  ...  0.683  0.659  0.610  0.744  0.758  0.707  0.756   \n",
      "Suns             NaN  ...  0.671  0.561  0.659  0.488  0.500  0.305  0.585   \n",
      "Supersonics      NaN  ...  0.244    NaN    NaN    NaN    NaN    NaN    NaN   \n",
      "Thunder          NaN  ...    NaN  0.280  0.610  0.671  0.712  0.732  0.720   \n",
      "Timberwolves     NaN  ...  0.268  0.293  0.183  0.207  0.394  0.378  0.488   \n",
      "Trail Blazers    NaN  ...  0.500  0.659  0.610  0.585  0.424  0.402  0.659   \n",
      "Warriors       0.625  ...  0.585  0.354  0.317  0.439  0.348  0.573  0.622   \n",
      "Wizards          NaN  ...  0.524  0.232  0.317  0.280  0.303  0.354  0.537   \n",
      "Zephyrs          NaN  ...    NaN    NaN    NaN    NaN    NaN    NaN    NaN   \n",
      "\n",
      "Year            2014   2015   2016  \n",
      "Team                                \n",
      "76ers          0.220  0.122  0.357  \n",
      "Blackhawks       NaN    NaN    NaN  \n",
      "Bobcats          NaN    NaN    NaN  \n",
      "Braves           NaN    NaN    NaN  \n",
      "Bucks          0.500  0.402  0.465  \n",
      "Bullets          NaN    NaN    NaN  \n",
      "Bulls          0.610  0.512  0.477  \n",
      "Cavaliers      0.646  0.695  0.714  \n",
      "Celtics        0.488  0.585  0.625  \n",
      "Clippers       0.683  0.646  0.644  \n",
      "Grizzlies      0.671  0.512  0.565  \n",
      "Hawks          0.732  0.585  0.575  \n",
      "Heat           0.451  0.585  0.318  \n",
      "Hornets        0.402  0.585  0.512  \n",
      "Jazz           0.463  0.488  0.644  \n",
      "Kings          0.354  0.402  0.372  \n",
      "Knicks         0.207  0.390  0.378  \n",
      "Lakers         0.256  0.207  0.333  \n",
      "Magic          0.305  0.427  0.391  \n",
      "Mavericks      0.610  0.512  0.341  \n",
      "Nationals        NaN    NaN    NaN  \n",
      "Nets           0.463  0.256  0.214  \n",
      "Nuggets        0.366  0.402  0.419  \n",
      "Pacers         0.463  0.549  0.512  \n",
      "Packers          NaN    NaN    NaN  \n",
      "Pelicans       0.549  0.366  0.386  \n",
      "Pistons        0.390  0.537  0.467  \n",
      "Raptors        0.598  0.683  0.636  \n",
      "Rockets        0.683  0.500  0.723  \n",
      "Royals           NaN    NaN    NaN  \n",
      "Spurs          0.671  0.817  0.791  \n",
      "Suns           0.476  0.280  0.341  \n",
      "Supersonics      NaN    NaN    NaN  \n",
      "Thunder        0.549  0.671  0.568  \n",
      "Timberwolves   0.195  0.354  0.364  \n",
      "Trail Blazers  0.622  0.537  0.413  \n",
      "Warriors       0.817  0.890  0.864  \n",
      "Wizards        0.561  0.500  0.535  \n",
      "Zephyrs          NaN    NaN    NaN  \n",
      "\n",
      "[39 rows x 71 columns]\n"
     ]
    }
   ],
   "source": [
    "# Create Pivot Table \n",
    "pv1 = df.pivot('Team','Year','Winning Percentage')#[0:5]  # pivot( Y , X , Values)\n",
    "\n",
    "# Show It\n",
    "print(pv1)"
   ]
  },
  {
   "cell_type": "code",
   "execution_count": 6,
   "id": "9b742f27",
   "metadata": {},
   "outputs": [
    {
     "data": {
      "application/vnd.plotly.v1+json": {
       "config": {
        "plotlyServerURL": "https://plot.ly"
       },
       "data": [
        {
         "coloraxis": "coloraxis",
         "hovertemplate": "Year: %{x}<br>Team: %{y}<br>color: %{z}<extra></extra>",
         "name": "0",
         "type": "heatmap",
         "x": [
          1946,
          1947,
          1948,
          1949,
          1950,
          1951,
          1952,
          1953,
          1954,
          1955,
          1956,
          1957,
          1958,
          1959,
          1960,
          1961,
          1962,
          1963,
          1964,
          1965,
          1966,
          1967,
          1968,
          1969,
          1970,
          1971,
          1972,
          1973,
          1974,
          1975,
          1976,
          1977,
          1978,
          1979,
          1980,
          1981,
          1982,
          1983,
          1984,
          1985,
          1986,
          1987,
          1988,
          1989,
          1990,
          1991,
          1992,
          1993,
          1994,
          1995,
          1996,
          1997,
          1998,
          1999,
          2000,
          2001,
          2002,
          2003,
          2004,
          2005,
          2006,
          2007,
          2008,
          2009,
          2010,
          2011,
          2012,
          2013,
          2014,
          2015,
          2016
         ],
         "xaxis": "x",
         "y": [
          "76ers",
          "Blackhawks",
          "Bobcats",
          "Braves",
          "Bucks",
          "Bullets",
          "Bulls",
          "Cavaliers",
          "Celtics",
          "Clippers",
          "Grizzlies",
          "Hawks",
          "Heat",
          "Hornets",
          "Jazz",
          "Kings",
          "Knicks",
          "Lakers",
          "Magic",
          "Mavericks",
          "Nationals",
          "Nets",
          "Nuggets",
          "Pacers",
          "Packers",
          "Pelicans",
          "Pistons",
          "Raptors",
          "Rockets",
          "Royals",
          "Spurs",
          "Suns",
          "Supersonics",
          "Thunder",
          "Timberwolves",
          "Trail Blazers",
          "Warriors",
          "Wizards",
          "Zephyrs"
         ],
         "yaxis": "y",
         "z": [
          [
           null,
           null,
           null,
           null,
           null,
           null,
           null,
           null,
           null,
           null,
           null,
           null,
           null,
           null,
           null,
           null,
           null,
           0.425,
           0.5,
           0.688,
           0.84,
           0.756,
           0.671,
           0.512,
           0.573,
           0.366,
           0.11,
           0.305,
           0.415,
           0.561,
           0.61,
           0.671,
           0.573,
           0.72,
           0.756,
           0.707,
           0.793,
           0.634,
           0.707,
           0.659,
           0.549,
           0.439,
           0.561,
           0.646,
           0.537,
           0.427,
           0.317,
           0.305,
           0.293,
           0.22,
           0.268,
           0.378,
           0.56,
           0.598,
           0.683,
           0.524,
           0.585,
           0.402,
           0.524,
           0.463,
           0.427,
           0.488,
           0.5,
           0.329,
           0.5,
           0.53,
           0.415,
           0.232,
           0.22,
           0.122,
           0.357
          ],
          [
           null,
           null,
           null,
           0.453,
           0.368,
           null,
           null,
           null,
           null,
           null,
           null,
           null,
           null,
           null,
           null,
           null,
           null,
           null,
           null,
           null,
           null,
           null,
           null,
           null,
           null,
           null,
           null,
           null,
           null,
           null,
           null,
           null,
           null,
           null,
           null,
           null,
           null,
           null,
           null,
           null,
           null,
           null,
           null,
           null,
           null,
           null,
           null,
           null,
           null,
           null,
           null,
           null,
           null,
           null,
           null,
           null,
           null,
           null,
           null,
           null,
           null,
           null,
           null,
           null,
           null,
           null,
           null,
           null,
           null,
           null,
           null
          ],
          [
           null,
           null,
           null,
           null,
           null,
           null,
           null,
           null,
           null,
           null,
           null,
           null,
           null,
           null,
           null,
           null,
           null,
           null,
           null,
           null,
           null,
           null,
           null,
           null,
           null,
           null,
           null,
           null,
           null,
           null,
           null,
           null,
           null,
           null,
           null,
           null,
           null,
           null,
           null,
           null,
           null,
           null,
           null,
           null,
           null,
           null,
           null,
           null,
           null,
           null,
           null,
           null,
           null,
           null,
           null,
           null,
           null,
           null,
           0.22,
           0.317,
           0.402,
           0.39,
           0.427,
           0.537,
           0.415,
           0.106,
           0.256,
           0.524,
           null,
           null,
           null
          ],
          [
           null,
           null,
           null,
           null,
           null,
           null,
           null,
           null,
           null,
           null,
           null,
           null,
           null,
           null,
           null,
           null,
           null,
           null,
           null,
           null,
           null,
           null,
           null,
           null,
           0.268,
           0.268,
           0.256,
           0.512,
           0.598,
           0.561,
           0.366,
           0.329,
           null,
           null,
           null,
           null,
           null,
           null,
           null,
           null,
           null,
           null,
           null,
           null,
           null,
           null,
           null,
           null,
           null,
           null,
           null,
           null,
           null,
           null,
           null,
           null,
           null,
           null,
           null,
           null,
           null,
           null,
           null,
           null,
           null,
           null,
           null,
           null,
           null,
           null,
           null
          ],
          [
           null,
           null,
           null,
           null,
           null,
           null,
           null,
           null,
           null,
           null,
           null,
           null,
           null,
           null,
           null,
           null,
           null,
           null,
           null,
           null,
           null,
           null,
           0.329,
           0.683,
           0.805,
           0.768,
           0.732,
           0.72,
           0.463,
           0.463,
           0.366,
           0.537,
           0.463,
           0.598,
           0.732,
           0.671,
           0.622,
           0.61,
           0.72,
           0.695,
           0.61,
           0.512,
           0.598,
           0.537,
           0.585,
           0.378,
           0.341,
           0.244,
           0.415,
           0.305,
           0.402,
           0.439,
           0.56,
           0.512,
           0.634,
           0.5,
           0.512,
           0.5,
           0.366,
           0.488,
           0.341,
           0.317,
           0.415,
           0.561,
           0.427,
           0.47,
           0.463,
           0.183,
           0.5,
           0.402,
           0.465
          ],
          [
           null,
           null,
           null,
           null,
           null,
           null,
           null,
           null,
           null,
           null,
           null,
           null,
           null,
           null,
           null,
           null,
           null,
           0.388,
           0.463,
           0.475,
           0.247,
           0.439,
           0.695,
           0.61,
           0.512,
           0.463,
           0.634,
           0.573,
           0.732,
           0.585,
           0.585,
           0.537,
           0.659,
           0.476,
           0.476,
           0.524,
           0.512,
           0.427,
           0.488,
           0.476,
           0.512,
           0.463,
           0.488,
           0.378,
           0.366,
           0.305,
           0.268,
           0.293,
           0.256,
           0.476,
           0.537,
           null,
           null,
           null,
           null,
           null,
           null,
           null,
           null,
           null,
           null,
           null,
           null,
           null,
           null,
           null,
           null,
           null,
           null,
           null,
           null
          ],
          [
           null,
           null,
           null,
           null,
           null,
           null,
           null,
           null,
           null,
           null,
           null,
           null,
           null,
           null,
           null,
           null,
           null,
           null,
           null,
           null,
           0.407,
           0.354,
           0.402,
           0.476,
           0.622,
           0.695,
           0.622,
           0.659,
           0.573,
           0.293,
           0.537,
           0.488,
           0.378,
           0.366,
           0.549,
           0.415,
           0.341,
           0.329,
           0.463,
           0.366,
           0.488,
           0.61,
           0.573,
           0.671,
           0.744,
           0.817,
           0.695,
           0.671,
           0.573,
           0.878,
           0.841,
           0.756,
           0.26,
           0.207,
           0.183,
           0.256,
           0.366,
           0.28,
           0.573,
           0.5,
           0.598,
           0.402,
           0.5,
           0.5,
           0.756,
           0.758,
           0.549,
           0.585,
           0.61,
           0.512,
           0.477
          ],
          [
           null,
           null,
           null,
           null,
           null,
           null,
           null,
           null,
           null,
           null,
           null,
           null,
           null,
           null,
           null,
           null,
           null,
           null,
           null,
           null,
           null,
           null,
           null,
           null,
           0.183,
           0.28,
           0.39,
           0.354,
           0.488,
           0.598,
           0.524,
           0.524,
           0.366,
           0.451,
           0.341,
           0.183,
           0.28,
           0.341,
           0.439,
           0.354,
           0.378,
           0.512,
           0.695,
           0.512,
           0.402,
           0.695,
           0.659,
           0.573,
           0.524,
           0.573,
           0.512,
           0.573,
           0.44,
           0.39,
           0.366,
           0.354,
           0.207,
           0.427,
           0.512,
           0.61,
           0.61,
           0.549,
           0.805,
           0.744,
           0.232,
           0.318,
           0.293,
           0.402,
           0.646,
           0.695,
           0.714
          ],
          [
           0.367,
           0.417,
           0.417,
           0.324,
           0.565,
           0.591,
           0.648,
           0.583,
           0.5,
           0.542,
           0.611,
           0.681,
           0.722,
           0.787,
           0.722,
           0.75,
           0.725,
           0.738,
           0.775,
           0.675,
           0.741,
           0.659,
           0.585,
           0.415,
           0.537,
           0.683,
           0.829,
           0.683,
           0.732,
           0.659,
           0.537,
           0.39,
           0.354,
           0.744,
           0.756,
           0.768,
           0.683,
           0.756,
           0.768,
           0.817,
           0.72,
           0.695,
           0.512,
           0.634,
           0.683,
           0.622,
           0.585,
           0.39,
           0.427,
           0.402,
           0.183,
           0.439,
           0.38,
           0.427,
           0.439,
           0.598,
           0.537,
           0.439,
           0.549,
           0.402,
           0.293,
           0.805,
           0.756,
           0.61,
           0.683,
           0.591,
           0.506,
           0.305,
           0.488,
           0.585,
           0.625
          ],
          [
           null,
           null,
           null,
           null,
           null,
           null,
           null,
           null,
           null,
           null,
           null,
           null,
           null,
           null,
           null,
           null,
           null,
           null,
           null,
           null,
           null,
           null,
           null,
           null,
           null,
           null,
           null,
           null,
           null,
           null,
           null,
           null,
           0.524,
           0.427,
           0.439,
           0.207,
           0.305,
           0.366,
           0.378,
           0.39,
           0.146,
           0.207,
           0.256,
           0.366,
           0.378,
           0.549,
           0.5,
           0.329,
           0.207,
           0.354,
           0.439,
           0.207,
           0.18,
           0.183,
           0.378,
           0.476,
           0.329,
           0.341,
           0.451,
           0.573,
           0.488,
           0.28,
           0.232,
           0.354,
           0.39,
           0.606,
           0.683,
           0.695,
           0.683,
           0.646,
           0.644
          ],
          [
           null,
           null,
           null,
           null,
           null,
           null,
           null,
           null,
           null,
           null,
           null,
           null,
           null,
           null,
           null,
           null,
           null,
           null,
           null,
           null,
           null,
           null,
           null,
           null,
           null,
           null,
           null,
           null,
           null,
           null,
           null,
           null,
           null,
           null,
           null,
           null,
           null,
           null,
           null,
           null,
           null,
           null,
           null,
           null,
           null,
           null,
           null,
           null,
           null,
           0.183,
           0.171,
           0.232,
           0.16,
           0.268,
           0.28,
           0.28,
           0.341,
           0.61,
           0.549,
           0.598,
           0.268,
           0.268,
           0.293,
           0.488,
           0.561,
           0.621,
           0.683,
           0.61,
           0.671,
           0.512,
           0.565
          ],
          [
           null,
           null,
           null,
           null,
           null,
           0.258,
           0.38,
           0.292,
           0.361,
           0.458,
           0.472,
           0.569,
           0.681,
           0.613,
           0.646,
           0.363,
           0.6,
           0.575,
           0.563,
           0.45,
           0.481,
           0.683,
           0.585,
           0.585,
           0.439,
           0.439,
           0.561,
           0.427,
           0.378,
           0.354,
           0.378,
           0.5,
           0.561,
           0.61,
           0.378,
           0.512,
           0.524,
           0.488,
           0.415,
           0.61,
           0.695,
           0.61,
           0.634,
           0.5,
           0.524,
           0.463,
           0.524,
           0.695,
           0.512,
           0.561,
           0.683,
           0.61,
           0.62,
           0.341,
           0.305,
           0.402,
           0.427,
           0.341,
           0.159,
           0.317,
           0.366,
           0.451,
           0.573,
           0.646,
           0.537,
           0.606,
           0.537,
           0.463,
           0.732,
           0.585,
           0.575
          ],
          [
           null,
           null,
           null,
           null,
           null,
           null,
           null,
           null,
           null,
           null,
           null,
           null,
           null,
           null,
           null,
           null,
           null,
           null,
           null,
           null,
           null,
           null,
           null,
           null,
           null,
           null,
           null,
           null,
           null,
           null,
           null,
           null,
           null,
           null,
           null,
           null,
           null,
           null,
           null,
           null,
           null,
           null,
           0.183,
           0.22,
           0.293,
           0.463,
           0.439,
           0.512,
           0.39,
           0.512,
           0.744,
           0.671,
           0.66,
           0.634,
           0.61,
           0.439,
           0.305,
           0.512,
           0.72,
           0.634,
           0.537,
           0.183,
           0.524,
           0.573,
           0.707,
           0.697,
           0.805,
           0.659,
           0.451,
           0.585,
           0.318
          ],
          [
           null,
           null,
           null,
           null,
           null,
           null,
           null,
           null,
           null,
           null,
           null,
           null,
           null,
           null,
           null,
           null,
           null,
           null,
           null,
           null,
           null,
           null,
           null,
           null,
           null,
           null,
           null,
           null,
           null,
           null,
           null,
           null,
           null,
           null,
           null,
           null,
           null,
           null,
           null,
           null,
           null,
           null,
           0.244,
           0.232,
           0.317,
           0.378,
           0.537,
           0.5,
           0.61,
           0.5,
           0.659,
           0.622,
           0.52,
           0.598,
           0.561,
           0.537,
           0.573,
           0.5,
           0.22,
           0.463,
           0.476,
           0.683,
           0.598,
           0.451,
           0.561,
           0.318,
           0.329,
           null,
           0.402,
           0.585,
           0.512
          ],
          [
           null,
           null,
           null,
           null,
           null,
           null,
           null,
           null,
           null,
           null,
           null,
           null,
           null,
           null,
           null,
           null,
           null,
           null,
           null,
           null,
           null,
           null,
           null,
           null,
           null,
           null,
           null,
           null,
           0.28,
           0.463,
           0.427,
           0.476,
           0.317,
           0.293,
           0.341,
           0.305,
           0.366,
           0.549,
           0.5,
           0.512,
           0.537,
           0.573,
           0.622,
           0.671,
           0.659,
           0.671,
           0.573,
           0.646,
           0.732,
           0.671,
           0.78,
           0.756,
           0.74,
           0.671,
           0.646,
           0.537,
           0.573,
           0.512,
           0.317,
           0.5,
           0.622,
           0.659,
           0.585,
           0.646,
           0.476,
           0.545,
           0.524,
           0.305,
           0.463,
           0.488,
           0.644
          ],
          [
           null,
           null,
           null,
           null,
           null,
           null,
           null,
           null,
           null,
           null,
           null,
           null,
           null,
           null,
           null,
           null,
           null,
           null,
           null,
           null,
           null,
           null,
           null,
           null,
           null,
           null,
           0.439,
           0.402,
           0.537,
           0.378,
           0.488,
           0.378,
           0.585,
           0.573,
           0.488,
           0.366,
           0.549,
           0.463,
           0.378,
           0.451,
           0.354,
           0.293,
           0.329,
           0.28,
           0.305,
           0.354,
           0.305,
           0.341,
           0.476,
           0.476,
           0.415,
           0.329,
           0.54,
           0.537,
           0.671,
           0.744,
           0.72,
           0.671,
           0.61,
           0.537,
           0.402,
           0.463,
           0.207,
           0.305,
           0.293,
           0.333,
           0.341,
           0.341,
           0.354,
           0.402,
           0.372
          ],
          [
           0.55,
           0.542,
           0.533,
           0.588,
           0.545,
           0.561,
           0.671,
           0.611,
           0.528,
           0.486,
           0.5,
           0.486,
           0.556,
           0.36,
           0.266,
           0.363,
           0.263,
           0.275,
           0.388,
           0.375,
           0.444,
           0.524,
           0.659,
           0.732,
           0.634,
           0.585,
           0.695,
           0.598,
           0.488,
           0.463,
           0.488,
           0.524,
           0.378,
           0.476,
           0.61,
           0.402,
           0.537,
           0.573,
           0.293,
           0.28,
           0.293,
           0.463,
           0.634,
           0.549,
           0.476,
           0.622,
           0.732,
           0.695,
           0.671,
           0.573,
           0.695,
           0.524,
           0.54,
           0.61,
           0.585,
           0.366,
           0.451,
           0.476,
           0.402,
           0.28,
           0.402,
           0.28,
           0.39,
           0.354,
           0.512,
           0.545,
           0.659,
           0.451,
           0.207,
           0.39,
           0.378
          ],
          [
           null,
           null,
           0.733,
           0.75,
           0.647,
           0.606,
           0.686,
           0.639,
           0.556,
           0.458,
           0.472,
           0.264,
           0.458,
           0.333,
           0.456,
           0.675,
           0.663,
           0.525,
           0.613,
           0.563,
           0.444,
           0.634,
           0.671,
           0.561,
           0.585,
           0.841,
           0.732,
           0.573,
           0.366,
           0.488,
           0.646,
           0.549,
           0.573,
           0.732,
           0.659,
           0.695,
           0.707,
           0.659,
           0.756,
           0.756,
           0.793,
           0.756,
           0.695,
           0.768,
           0.707,
           0.524,
           0.476,
           0.402,
           0.585,
           0.646,
           0.683,
           0.744,
           0.62,
           0.817,
           0.683,
           0.707,
           0.61,
           0.683,
           0.415,
           0.549,
           0.512,
           0.695,
           0.793,
           0.695,
           0.695,
           0.621,
           0.549,
           0.329,
           0.256,
           0.207,
           0.333
          ],
          [
           null,
           null,
           null,
           null,
           null,
           null,
           null,
           null,
           null,
           null,
           null,
           null,
           null,
           null,
           null,
           null,
           null,
           null,
           null,
           null,
           null,
           null,
           null,
           null,
           null,
           null,
           null,
           null,
           null,
           null,
           null,
           null,
           null,
           null,
           null,
           null,
           null,
           null,
           null,
           null,
           null,
           null,
           null,
           0.22,
           0.378,
           0.256,
           0.5,
           0.61,
           0.695,
           0.732,
           0.549,
           0.5,
           0.66,
           0.5,
           0.524,
           0.537,
           0.512,
           0.256,
           0.439,
           0.439,
           0.488,
           0.634,
           0.72,
           0.72,
           0.634,
           0.561,
           0.244,
           0.28,
           0.305,
           0.427,
           0.391
          ],
          [
           null,
           null,
           null,
           null,
           null,
           null,
           null,
           null,
           null,
           null,
           null,
           null,
           null,
           null,
           null,
           null,
           null,
           null,
           null,
           null,
           null,
           null,
           null,
           null,
           null,
           null,
           null,
           null,
           null,
           null,
           null,
           null,
           null,
           null,
           0.183,
           0.341,
           0.463,
           0.524,
           0.537,
           0.537,
           0.671,
           0.646,
           0.463,
           0.573,
           0.341,
           0.268,
           0.134,
           0.159,
           0.439,
           0.317,
           0.293,
           0.244,
           0.38,
           0.488,
           0.646,
           0.695,
           0.732,
           0.634,
           0.707,
           0.732,
           0.817,
           0.622,
           0.61,
           0.671,
           0.695,
           0.545,
           0.5,
           0.598,
           0.61,
           0.512,
           0.341
          ],
          [
           null,
           null,
           null,
           0.797,
           0.485,
           0.606,
           0.662,
           0.583,
           0.597,
           0.486,
           0.528,
           0.569,
           0.486,
           0.6,
           0.481,
           0.513,
           0.6,
           null,
           null,
           null,
           null,
           null,
           null,
           null,
           null,
           null,
           null,
           null,
           null,
           null,
           null,
           null,
           null,
           null,
           null,
           null,
           null,
           null,
           null,
           null,
           null,
           null,
           null,
           null,
           null,
           null,
           null,
           null,
           null,
           null,
           null,
           null,
           null,
           null,
           null,
           null,
           null,
           null,
           null,
           null,
           null,
           null,
           null,
           null,
           null,
           null,
           null,
           null,
           null,
           null,
           null
          ],
          [
           null,
           null,
           null,
           null,
           null,
           null,
           null,
           null,
           null,
           null,
           null,
           null,
           null,
           null,
           null,
           null,
           null,
           null,
           null,
           null,
           null,
           null,
           null,
           null,
           null,
           null,
           null,
           null,
           null,
           null,
           0.268,
           0.293,
           0.451,
           0.415,
           0.293,
           0.537,
           0.598,
           0.549,
           0.512,
           0.476,
           0.293,
           0.232,
           0.317,
           0.207,
           0.317,
           0.488,
           0.524,
           0.549,
           0.366,
           0.366,
           0.317,
           0.524,
           0.32,
           0.378,
           0.317,
           0.634,
           0.598,
           0.573,
           0.512,
           0.598,
           0.5,
           0.415,
           0.415,
           0.146,
           0.293,
           0.333,
           0.598,
           0.537,
           0.463,
           0.256,
           0.214
          ],
          [
           null,
           null,
           null,
           null,
           null,
           null,
           null,
           null,
           null,
           null,
           null,
           null,
           null,
           null,
           null,
           null,
           null,
           null,
           null,
           null,
           null,
           null,
           null,
           null,
           null,
           null,
           null,
           null,
           null,
           null,
           0.61,
           0.585,
           0.573,
           0.366,
           0.451,
           0.561,
           0.549,
           0.463,
           0.634,
           0.573,
           0.451,
           0.659,
           0.537,
           0.524,
           0.244,
           0.293,
           0.439,
           0.512,
           0.5,
           0.427,
           0.256,
           0.134,
           0.28,
           0.427,
           0.488,
           0.329,
           0.207,
           0.524,
           0.598,
           0.537,
           0.549,
           0.61,
           0.659,
           0.646,
           0.61,
           0.576,
           0.695,
           0.439,
           0.366,
           0.402,
           0.419
          ],
          [
           null,
           null,
           null,
           null,
           null,
           null,
           null,
           null,
           null,
           null,
           null,
           null,
           null,
           null,
           null,
           null,
           null,
           null,
           null,
           null,
           null,
           null,
           null,
           null,
           null,
           null,
           null,
           null,
           null,
           null,
           0.439,
           0.378,
           0.463,
           0.451,
           0.537,
           0.427,
           0.244,
           0.317,
           0.268,
           0.317,
           0.5,
           0.463,
           0.341,
           0.512,
           0.5,
           0.488,
           0.5,
           0.573,
           0.634,
           0.634,
           0.476,
           0.707,
           0.66,
           0.683,
           0.5,
           0.512,
           0.585,
           0.744,
           0.537,
           0.5,
           0.427,
           0.439,
           0.439,
           0.39,
           0.451,
           0.636,
           0.605,
           0.683,
           0.463,
           0.549,
           0.512
          ],
          [
           null,
           null,
           null,
           null,
           null,
           null,
           null,
           null,
           null,
           null,
           null,
           null,
           null,
           null,
           null,
           0.225,
           null,
           null,
           null,
           null,
           null,
           null,
           null,
           null,
           null,
           null,
           null,
           null,
           null,
           null,
           null,
           null,
           null,
           null,
           null,
           null,
           null,
           null,
           null,
           null,
           null,
           null,
           null,
           null,
           null,
           null,
           null,
           null,
           null,
           null,
           null,
           null,
           null,
           null,
           null,
           null,
           null,
           null,
           null,
           null,
           null,
           null,
           null,
           null,
           null,
           null,
           null,
           null,
           null,
           null,
           null
          ],
          [
           null,
           null,
           null,
           null,
           null,
           null,
           null,
           null,
           null,
           null,
           null,
           null,
           null,
           null,
           null,
           null,
           null,
           null,
           null,
           null,
           null,
           null,
           null,
           null,
           null,
           null,
           null,
           null,
           null,
           null,
           null,
           null,
           null,
           null,
           null,
           null,
           null,
           null,
           null,
           null,
           null,
           null,
           null,
           null,
           null,
           null,
           null,
           null,
           null,
           null,
           null,
           null,
           null,
           null,
           null,
           null,
           null,
           null,
           null,
           null,
           null,
           null,
           null,
           null,
           null,
           null,
           null,
           0.415,
           0.549,
           0.366,
           0.386
          ],
          [
           null,
           null,
           0.367,
           0.588,
           0.471,
           0.439,
           0.522,
           0.556,
           0.597,
           0.514,
           0.472,
           0.458,
           0.389,
           0.4,
           0.43,
           0.463,
           0.425,
           0.288,
           0.388,
           0.275,
           0.37,
           0.488,
           0.39,
           0.378,
           0.549,
           0.317,
           0.488,
           0.634,
           0.488,
           0.439,
           0.537,
           0.463,
           0.366,
           0.195,
           0.256,
           0.476,
           0.451,
           0.598,
           0.561,
           0.561,
           0.634,
           0.659,
           0.768,
           0.72,
           0.61,
           0.585,
           0.488,
           0.244,
           0.341,
           0.561,
           0.659,
           0.451,
           0.58,
           0.512,
           0.39,
           0.61,
           0.61,
           0.659,
           0.659,
           0.78,
           0.646,
           0.72,
           0.476,
           0.329,
           0.366,
           0.379,
           0.354,
           0.354,
           0.39,
           0.537,
           0.467
          ],
          [
           null,
           null,
           null,
           null,
           null,
           null,
           null,
           null,
           null,
           null,
           null,
           null,
           null,
           null,
           null,
           null,
           null,
           null,
           null,
           null,
           null,
           null,
           null,
           null,
           null,
           null,
           null,
           null,
           null,
           null,
           null,
           null,
           null,
           null,
           null,
           null,
           null,
           null,
           null,
           null,
           null,
           null,
           null,
           null,
           null,
           null,
           null,
           null,
           null,
           0.256,
           0.366,
           0.195,
           0.46,
           0.549,
           0.573,
           0.512,
           0.293,
           0.402,
           0.402,
           0.329,
           0.573,
           0.5,
           0.402,
           0.488,
           0.268,
           0.348,
           0.415,
           0.585,
           0.598,
           0.683,
           0.636
          ],
          [
           null,
           null,
           null,
           null,
           null,
           null,
           null,
           null,
           null,
           null,
           null,
           null,
           null,
           null,
           null,
           null,
           null,
           null,
           null,
           null,
           null,
           0.183,
           0.451,
           0.329,
           0.488,
           0.415,
           0.402,
           0.39,
           0.5,
           0.488,
           0.598,
           0.341,
           0.573,
           0.5,
           0.488,
           0.561,
           0.171,
           0.354,
           0.585,
           0.622,
           0.512,
           0.561,
           0.549,
           0.5,
           0.634,
           0.512,
           0.671,
           0.707,
           0.573,
           0.585,
           0.695,
           0.5,
           0.62,
           0.415,
           0.549,
           0.341,
           0.524,
           0.549,
           0.622,
           0.415,
           0.634,
           0.671,
           0.646,
           0.512,
           0.524,
           0.515,
           0.549,
           0.659,
           0.683,
           0.5,
           0.723
          ],
          [
           null,
           null,
           0.75,
           0.75,
           0.603,
           0.621,
           0.629,
           0.611,
           0.403,
           0.431,
           0.431,
           0.458,
           0.264,
           0.253,
           0.418,
           0.538,
           0.525,
           0.688,
           0.6,
           0.563,
           0.481,
           0.476,
           0.5,
           0.439,
           0.402,
           0.366,
           null,
           null,
           null,
           null,
           null,
           null,
           null,
           null,
           null,
           null,
           null,
           null,
           null,
           null,
           null,
           null,
           null,
           null,
           null,
           null,
           null,
           null,
           null,
           null,
           null,
           null,
           null,
           null,
           null,
           null,
           null,
           null,
           null,
           null,
           null,
           null,
           null,
           null,
           null,
           null,
           null,
           null,
           null,
           null,
           null
          ],
          [
           null,
           null,
           null,
           null,
           null,
           null,
           null,
           null,
           null,
           null,
           null,
           null,
           null,
           null,
           null,
           null,
           null,
           null,
           null,
           null,
           null,
           null,
           null,
           null,
           null,
           null,
           null,
           null,
           null,
           null,
           0.537,
           0.634,
           0.585,
           0.5,
           0.634,
           0.585,
           0.646,
           0.451,
           0.5,
           0.427,
           0.341,
           0.378,
           0.256,
           0.683,
           0.671,
           0.573,
           0.598,
           0.671,
           0.756,
           0.72,
           0.244,
           0.683,
           0.74,
           0.646,
           0.707,
           0.707,
           0.732,
           0.695,
           0.72,
           0.768,
           0.707,
           0.683,
           0.659,
           0.61,
           0.744,
           0.758,
           0.707,
           0.756,
           0.671,
           0.817,
           0.791
          ],
          [
           null,
           null,
           null,
           null,
           null,
           null,
           null,
           null,
           null,
           null,
           null,
           null,
           null,
           null,
           null,
           null,
           null,
           null,
           null,
           null,
           null,
           null,
           0.195,
           0.476,
           0.585,
           0.598,
           0.463,
           0.366,
           0.39,
           0.512,
           0.415,
           0.598,
           0.61,
           0.671,
           0.695,
           0.561,
           0.646,
           0.5,
           0.439,
           0.39,
           0.439,
           0.341,
           0.671,
           0.659,
           0.671,
           0.646,
           0.756,
           0.683,
           0.72,
           0.5,
           0.488,
           0.683,
           0.54,
           0.646,
           0.622,
           0.439,
           0.537,
           0.354,
           0.756,
           0.659,
           0.744,
           0.671,
           0.561,
           0.659,
           0.488,
           0.5,
           0.305,
           0.585,
           0.476,
           0.28,
           0.341
          ],
          [
           null,
           null,
           null,
           null,
           null,
           null,
           null,
           null,
           null,
           null,
           null,
           null,
           null,
           null,
           null,
           null,
           null,
           null,
           null,
           null,
           null,
           0.28,
           0.366,
           0.439,
           0.463,
           0.573,
           0.317,
           0.439,
           0.524,
           0.524,
           0.488,
           0.573,
           0.634,
           0.683,
           0.415,
           0.634,
           0.585,
           0.512,
           0.378,
           0.378,
           0.476,
           0.537,
           0.573,
           0.5,
           0.5,
           0.573,
           0.671,
           0.768,
           0.695,
           0.78,
           0.695,
           0.744,
           0.5,
           0.549,
           0.537,
           0.549,
           0.488,
           0.451,
           0.634,
           0.427,
           0.378,
           0.244,
           null,
           null,
           null,
           null,
           null,
           null,
           null,
           null,
           null
          ],
          [
           null,
           null,
           null,
           null,
           null,
           null,
           null,
           null,
           null,
           null,
           null,
           null,
           null,
           null,
           null,
           null,
           null,
           null,
           null,
           null,
           null,
           null,
           null,
           null,
           null,
           null,
           null,
           null,
           null,
           null,
           null,
           null,
           null,
           null,
           null,
           null,
           null,
           null,
           null,
           null,
           null,
           null,
           null,
           null,
           null,
           null,
           null,
           null,
           null,
           null,
           null,
           null,
           null,
           null,
           null,
           null,
           null,
           null,
           null,
           null,
           null,
           null,
           0.28,
           0.61,
           0.671,
           0.712,
           0.732,
           0.72,
           0.549,
           0.671,
           0.568
          ],
          [
           null,
           null,
           null,
           null,
           null,
           null,
           null,
           null,
           null,
           null,
           null,
           null,
           null,
           null,
           null,
           null,
           null,
           null,
           null,
           null,
           null,
           null,
           null,
           null,
           null,
           null,
           null,
           null,
           null,
           null,
           null,
           null,
           null,
           null,
           null,
           null,
           null,
           null,
           null,
           null,
           null,
           null,
           null,
           0.268,
           0.354,
           0.183,
           0.232,
           0.244,
           0.256,
           0.317,
           0.488,
           0.549,
           0.5,
           0.61,
           0.573,
           0.61,
           0.622,
           0.707,
           0.537,
           0.402,
           0.39,
           0.268,
           0.293,
           0.183,
           0.207,
           0.394,
           0.378,
           0.488,
           0.195,
           0.354,
           0.364
          ],
          [
           null,
           null,
           null,
           null,
           null,
           null,
           null,
           null,
           null,
           null,
           null,
           null,
           null,
           null,
           null,
           null,
           null,
           null,
           null,
           null,
           null,
           null,
           null,
           null,
           0.354,
           0.22,
           0.256,
           0.329,
           0.463,
           0.451,
           0.598,
           0.707,
           0.549,
           0.463,
           0.549,
           0.512,
           0.561,
           0.585,
           0.512,
           0.488,
           0.598,
           0.646,
           0.476,
           0.72,
           0.768,
           0.695,
           0.622,
           0.573,
           0.537,
           0.537,
           0.598,
           0.561,
           0.7,
           0.72,
           0.61,
           0.598,
           0.61,
           0.5,
           0.329,
           0.256,
           0.39,
           0.5,
           0.659,
           0.61,
           0.585,
           0.424,
           0.402,
           0.659,
           0.622,
           0.537,
           0.413
          ],
          [
           0.583,
           0.563,
           0.467,
           0.382,
           0.606,
           0.5,
           0.174,
           0.403,
           0.458,
           0.625,
           0.514,
           0.514,
           0.444,
           0.653,
           0.582,
           0.613,
           0.388,
           0.6,
           0.213,
           0.438,
           0.543,
           0.524,
           0.5,
           0.366,
           0.5,
           0.622,
           0.573,
           0.537,
           0.585,
           0.72,
           0.561,
           0.524,
           0.463,
           0.293,
           0.476,
           0.549,
           0.366,
           0.451,
           0.268,
           0.366,
           0.512,
           0.244,
           0.524,
           0.451,
           0.537,
           0.671,
           0.415,
           0.61,
           0.317,
           0.439,
           0.366,
           0.232,
           0.42,
           0.232,
           0.207,
           0.256,
           0.463,
           0.451,
           0.415,
           0.415,
           0.512,
           0.585,
           0.354,
           0.317,
           0.439,
           0.348,
           0.573,
           0.622,
           0.817,
           0.89,
           0.864
          ],
          [
           null,
           null,
           null,
           null,
           null,
           null,
           null,
           null,
           null,
           null,
           null,
           null,
           null,
           null,
           null,
           null,
           null,
           null,
           null,
           null,
           null,
           null,
           null,
           null,
           null,
           null,
           null,
           null,
           null,
           null,
           null,
           null,
           null,
           null,
           null,
           null,
           null,
           null,
           null,
           null,
           null,
           null,
           null,
           null,
           null,
           null,
           null,
           null,
           null,
           null,
           null,
           0.512,
           0.36,
           0.354,
           0.232,
           0.451,
           0.451,
           0.305,
           0.549,
           0.512,
           0.5,
           0.524,
           0.232,
           0.317,
           0.28,
           0.303,
           0.354,
           0.537,
           0.561,
           0.5,
           0.535
          ],
          [
           null,
           null,
           null,
           null,
           null,
           null,
           null,
           null,
           null,
           null,
           null,
           null,
           null,
           null,
           null,
           null,
           0.313,
           null,
           null,
           null,
           null,
           null,
           null,
           null,
           null,
           null,
           null,
           null,
           null,
           null,
           null,
           null,
           null,
           null,
           null,
           null,
           null,
           null,
           null,
           null,
           null,
           null,
           null,
           null,
           null,
           null,
           null,
           null,
           null,
           null,
           null,
           null,
           null,
           null,
           null,
           null,
           null,
           null,
           null,
           null,
           null,
           null,
           null,
           null,
           null,
           null,
           null,
           null,
           null,
           null,
           null
          ]
         ]
        }
       ],
       "layout": {
        "coloraxis": {
         "colorscale": [
          [
           0,
           "#0d0887"
          ],
          [
           0.1111111111111111,
           "#46039f"
          ],
          [
           0.2222222222222222,
           "#7201a8"
          ],
          [
           0.3333333333333333,
           "#9c179e"
          ],
          [
           0.4444444444444444,
           "#bd3786"
          ],
          [
           0.5555555555555556,
           "#d8576b"
          ],
          [
           0.6666666666666666,
           "#ed7953"
          ],
          [
           0.7777777777777778,
           "#fb9f3a"
          ],
          [
           0.8888888888888888,
           "#fdca26"
          ],
          [
           1,
           "#f0f921"
          ]
         ]
        },
        "margin": {
         "t": 60
        },
        "template": {
         "data": {
          "bar": [
           {
            "error_x": {
             "color": "#2a3f5f"
            },
            "error_y": {
             "color": "#2a3f5f"
            },
            "marker": {
             "line": {
              "color": "#E5ECF6",
              "width": 0.5
             },
             "pattern": {
              "fillmode": "overlay",
              "size": 10,
              "solidity": 0.2
             }
            },
            "type": "bar"
           }
          ],
          "barpolar": [
           {
            "marker": {
             "line": {
              "color": "#E5ECF6",
              "width": 0.5
             },
             "pattern": {
              "fillmode": "overlay",
              "size": 10,
              "solidity": 0.2
             }
            },
            "type": "barpolar"
           }
          ],
          "carpet": [
           {
            "aaxis": {
             "endlinecolor": "#2a3f5f",
             "gridcolor": "white",
             "linecolor": "white",
             "minorgridcolor": "white",
             "startlinecolor": "#2a3f5f"
            },
            "baxis": {
             "endlinecolor": "#2a3f5f",
             "gridcolor": "white",
             "linecolor": "white",
             "minorgridcolor": "white",
             "startlinecolor": "#2a3f5f"
            },
            "type": "carpet"
           }
          ],
          "choropleth": [
           {
            "colorbar": {
             "outlinewidth": 0,
             "ticks": ""
            },
            "type": "choropleth"
           }
          ],
          "contour": [
           {
            "colorbar": {
             "outlinewidth": 0,
             "ticks": ""
            },
            "colorscale": [
             [
              0,
              "#0d0887"
             ],
             [
              0.1111111111111111,
              "#46039f"
             ],
             [
              0.2222222222222222,
              "#7201a8"
             ],
             [
              0.3333333333333333,
              "#9c179e"
             ],
             [
              0.4444444444444444,
              "#bd3786"
             ],
             [
              0.5555555555555556,
              "#d8576b"
             ],
             [
              0.6666666666666666,
              "#ed7953"
             ],
             [
              0.7777777777777778,
              "#fb9f3a"
             ],
             [
              0.8888888888888888,
              "#fdca26"
             ],
             [
              1,
              "#f0f921"
             ]
            ],
            "type": "contour"
           }
          ],
          "contourcarpet": [
           {
            "colorbar": {
             "outlinewidth": 0,
             "ticks": ""
            },
            "type": "contourcarpet"
           }
          ],
          "heatmap": [
           {
            "colorbar": {
             "outlinewidth": 0,
             "ticks": ""
            },
            "colorscale": [
             [
              0,
              "#0d0887"
             ],
             [
              0.1111111111111111,
              "#46039f"
             ],
             [
              0.2222222222222222,
              "#7201a8"
             ],
             [
              0.3333333333333333,
              "#9c179e"
             ],
             [
              0.4444444444444444,
              "#bd3786"
             ],
             [
              0.5555555555555556,
              "#d8576b"
             ],
             [
              0.6666666666666666,
              "#ed7953"
             ],
             [
              0.7777777777777778,
              "#fb9f3a"
             ],
             [
              0.8888888888888888,
              "#fdca26"
             ],
             [
              1,
              "#f0f921"
             ]
            ],
            "type": "heatmap"
           }
          ],
          "heatmapgl": [
           {
            "colorbar": {
             "outlinewidth": 0,
             "ticks": ""
            },
            "colorscale": [
             [
              0,
              "#0d0887"
             ],
             [
              0.1111111111111111,
              "#46039f"
             ],
             [
              0.2222222222222222,
              "#7201a8"
             ],
             [
              0.3333333333333333,
              "#9c179e"
             ],
             [
              0.4444444444444444,
              "#bd3786"
             ],
             [
              0.5555555555555556,
              "#d8576b"
             ],
             [
              0.6666666666666666,
              "#ed7953"
             ],
             [
              0.7777777777777778,
              "#fb9f3a"
             ],
             [
              0.8888888888888888,
              "#fdca26"
             ],
             [
              1,
              "#f0f921"
             ]
            ],
            "type": "heatmapgl"
           }
          ],
          "histogram": [
           {
            "marker": {
             "pattern": {
              "fillmode": "overlay",
              "size": 10,
              "solidity": 0.2
             }
            },
            "type": "histogram"
           }
          ],
          "histogram2d": [
           {
            "colorbar": {
             "outlinewidth": 0,
             "ticks": ""
            },
            "colorscale": [
             [
              0,
              "#0d0887"
             ],
             [
              0.1111111111111111,
              "#46039f"
             ],
             [
              0.2222222222222222,
              "#7201a8"
             ],
             [
              0.3333333333333333,
              "#9c179e"
             ],
             [
              0.4444444444444444,
              "#bd3786"
             ],
             [
              0.5555555555555556,
              "#d8576b"
             ],
             [
              0.6666666666666666,
              "#ed7953"
             ],
             [
              0.7777777777777778,
              "#fb9f3a"
             ],
             [
              0.8888888888888888,
              "#fdca26"
             ],
             [
              1,
              "#f0f921"
             ]
            ],
            "type": "histogram2d"
           }
          ],
          "histogram2dcontour": [
           {
            "colorbar": {
             "outlinewidth": 0,
             "ticks": ""
            },
            "colorscale": [
             [
              0,
              "#0d0887"
             ],
             [
              0.1111111111111111,
              "#46039f"
             ],
             [
              0.2222222222222222,
              "#7201a8"
             ],
             [
              0.3333333333333333,
              "#9c179e"
             ],
             [
              0.4444444444444444,
              "#bd3786"
             ],
             [
              0.5555555555555556,
              "#d8576b"
             ],
             [
              0.6666666666666666,
              "#ed7953"
             ],
             [
              0.7777777777777778,
              "#fb9f3a"
             ],
             [
              0.8888888888888888,
              "#fdca26"
             ],
             [
              1,
              "#f0f921"
             ]
            ],
            "type": "histogram2dcontour"
           }
          ],
          "mesh3d": [
           {
            "colorbar": {
             "outlinewidth": 0,
             "ticks": ""
            },
            "type": "mesh3d"
           }
          ],
          "parcoords": [
           {
            "line": {
             "colorbar": {
              "outlinewidth": 0,
              "ticks": ""
             }
            },
            "type": "parcoords"
           }
          ],
          "pie": [
           {
            "automargin": true,
            "type": "pie"
           }
          ],
          "scatter": [
           {
            "marker": {
             "colorbar": {
              "outlinewidth": 0,
              "ticks": ""
             }
            },
            "type": "scatter"
           }
          ],
          "scatter3d": [
           {
            "line": {
             "colorbar": {
              "outlinewidth": 0,
              "ticks": ""
             }
            },
            "marker": {
             "colorbar": {
              "outlinewidth": 0,
              "ticks": ""
             }
            },
            "type": "scatter3d"
           }
          ],
          "scattercarpet": [
           {
            "marker": {
             "colorbar": {
              "outlinewidth": 0,
              "ticks": ""
             }
            },
            "type": "scattercarpet"
           }
          ],
          "scattergeo": [
           {
            "marker": {
             "colorbar": {
              "outlinewidth": 0,
              "ticks": ""
             }
            },
            "type": "scattergeo"
           }
          ],
          "scattergl": [
           {
            "marker": {
             "colorbar": {
              "outlinewidth": 0,
              "ticks": ""
             }
            },
            "type": "scattergl"
           }
          ],
          "scattermapbox": [
           {
            "marker": {
             "colorbar": {
              "outlinewidth": 0,
              "ticks": ""
             }
            },
            "type": "scattermapbox"
           }
          ],
          "scatterpolar": [
           {
            "marker": {
             "colorbar": {
              "outlinewidth": 0,
              "ticks": ""
             }
            },
            "type": "scatterpolar"
           }
          ],
          "scatterpolargl": [
           {
            "marker": {
             "colorbar": {
              "outlinewidth": 0,
              "ticks": ""
             }
            },
            "type": "scatterpolargl"
           }
          ],
          "scatterternary": [
           {
            "marker": {
             "colorbar": {
              "outlinewidth": 0,
              "ticks": ""
             }
            },
            "type": "scatterternary"
           }
          ],
          "surface": [
           {
            "colorbar": {
             "outlinewidth": 0,
             "ticks": ""
            },
            "colorscale": [
             [
              0,
              "#0d0887"
             ],
             [
              0.1111111111111111,
              "#46039f"
             ],
             [
              0.2222222222222222,
              "#7201a8"
             ],
             [
              0.3333333333333333,
              "#9c179e"
             ],
             [
              0.4444444444444444,
              "#bd3786"
             ],
             [
              0.5555555555555556,
              "#d8576b"
             ],
             [
              0.6666666666666666,
              "#ed7953"
             ],
             [
              0.7777777777777778,
              "#fb9f3a"
             ],
             [
              0.8888888888888888,
              "#fdca26"
             ],
             [
              1,
              "#f0f921"
             ]
            ],
            "type": "surface"
           }
          ],
          "table": [
           {
            "cells": {
             "fill": {
              "color": "#EBF0F8"
             },
             "line": {
              "color": "white"
             }
            },
            "header": {
             "fill": {
              "color": "#C8D4E3"
             },
             "line": {
              "color": "white"
             }
            },
            "type": "table"
           }
          ]
         },
         "layout": {
          "annotationdefaults": {
           "arrowcolor": "#2a3f5f",
           "arrowhead": 0,
           "arrowwidth": 1
          },
          "autotypenumbers": "strict",
          "coloraxis": {
           "colorbar": {
            "outlinewidth": 0,
            "ticks": ""
           }
          },
          "colorscale": {
           "diverging": [
            [
             0,
             "#8e0152"
            ],
            [
             0.1,
             "#c51b7d"
            ],
            [
             0.2,
             "#de77ae"
            ],
            [
             0.3,
             "#f1b6da"
            ],
            [
             0.4,
             "#fde0ef"
            ],
            [
             0.5,
             "#f7f7f7"
            ],
            [
             0.6,
             "#e6f5d0"
            ],
            [
             0.7,
             "#b8e186"
            ],
            [
             0.8,
             "#7fbc41"
            ],
            [
             0.9,
             "#4d9221"
            ],
            [
             1,
             "#276419"
            ]
           ],
           "sequential": [
            [
             0,
             "#0d0887"
            ],
            [
             0.1111111111111111,
             "#46039f"
            ],
            [
             0.2222222222222222,
             "#7201a8"
            ],
            [
             0.3333333333333333,
             "#9c179e"
            ],
            [
             0.4444444444444444,
             "#bd3786"
            ],
            [
             0.5555555555555556,
             "#d8576b"
            ],
            [
             0.6666666666666666,
             "#ed7953"
            ],
            [
             0.7777777777777778,
             "#fb9f3a"
            ],
            [
             0.8888888888888888,
             "#fdca26"
            ],
            [
             1,
             "#f0f921"
            ]
           ],
           "sequentialminus": [
            [
             0,
             "#0d0887"
            ],
            [
             0.1111111111111111,
             "#46039f"
            ],
            [
             0.2222222222222222,
             "#7201a8"
            ],
            [
             0.3333333333333333,
             "#9c179e"
            ],
            [
             0.4444444444444444,
             "#bd3786"
            ],
            [
             0.5555555555555556,
             "#d8576b"
            ],
            [
             0.6666666666666666,
             "#ed7953"
            ],
            [
             0.7777777777777778,
             "#fb9f3a"
            ],
            [
             0.8888888888888888,
             "#fdca26"
            ],
            [
             1,
             "#f0f921"
            ]
           ]
          },
          "colorway": [
           "#636efa",
           "#EF553B",
           "#00cc96",
           "#ab63fa",
           "#FFA15A",
           "#19d3f3",
           "#FF6692",
           "#B6E880",
           "#FF97FF",
           "#FECB52"
          ],
          "font": {
           "color": "#2a3f5f"
          },
          "geo": {
           "bgcolor": "white",
           "lakecolor": "white",
           "landcolor": "#E5ECF6",
           "showlakes": true,
           "showland": true,
           "subunitcolor": "white"
          },
          "hoverlabel": {
           "align": "left"
          },
          "hovermode": "closest",
          "mapbox": {
           "style": "light"
          },
          "paper_bgcolor": "white",
          "plot_bgcolor": "#E5ECF6",
          "polar": {
           "angularaxis": {
            "gridcolor": "white",
            "linecolor": "white",
            "ticks": ""
           },
           "bgcolor": "#E5ECF6",
           "radialaxis": {
            "gridcolor": "white",
            "linecolor": "white",
            "ticks": ""
           }
          },
          "scene": {
           "xaxis": {
            "backgroundcolor": "#E5ECF6",
            "gridcolor": "white",
            "gridwidth": 2,
            "linecolor": "white",
            "showbackground": true,
            "ticks": "",
            "zerolinecolor": "white"
           },
           "yaxis": {
            "backgroundcolor": "#E5ECF6",
            "gridcolor": "white",
            "gridwidth": 2,
            "linecolor": "white",
            "showbackground": true,
            "ticks": "",
            "zerolinecolor": "white"
           },
           "zaxis": {
            "backgroundcolor": "#E5ECF6",
            "gridcolor": "white",
            "gridwidth": 2,
            "linecolor": "white",
            "showbackground": true,
            "ticks": "",
            "zerolinecolor": "white"
           }
          },
          "shapedefaults": {
           "line": {
            "color": "#2a3f5f"
           }
          },
          "ternary": {
           "aaxis": {
            "gridcolor": "white",
            "linecolor": "white",
            "ticks": ""
           },
           "baxis": {
            "gridcolor": "white",
            "linecolor": "white",
            "ticks": ""
           },
           "bgcolor": "#E5ECF6",
           "caxis": {
            "gridcolor": "white",
            "linecolor": "white",
            "ticks": ""
           }
          },
          "title": {
           "x": 0.05
          },
          "xaxis": {
           "automargin": true,
           "gridcolor": "white",
           "linecolor": "white",
           "ticks": "",
           "title": {
            "standoff": 15
           },
           "zerolinecolor": "white",
           "zerolinewidth": 2
          },
          "yaxis": {
           "automargin": true,
           "gridcolor": "white",
           "linecolor": "white",
           "ticks": "",
           "title": {
            "standoff": 15
           },
           "zerolinecolor": "white",
           "zerolinewidth": 2
          }
         }
        },
        "xaxis": {
         "anchor": "y",
         "constrain": "domain",
         "domain": [
          0,
          1
         ],
         "scaleanchor": "y",
         "title": {
          "text": "Year"
         }
        },
        "yaxis": {
         "anchor": "x",
         "autorange": "reversed",
         "constrain": "domain",
         "domain": [
          0,
          1
         ],
         "title": {
          "text": "Team"
         }
        }
       }
      },
      "text/html": [
       "<div>                            <div id=\"d424c6ee-3811-45e1-a4bf-498bf3ab74cb\" class=\"plotly-graph-div\" style=\"height:525px; width:100%;\"></div>            <script type=\"text/javascript\">                require([\"plotly\"], function(Plotly) {                    window.PLOTLYENV=window.PLOTLYENV || {};                                    if (document.getElementById(\"d424c6ee-3811-45e1-a4bf-498bf3ab74cb\")) {                    Plotly.newPlot(                        \"d424c6ee-3811-45e1-a4bf-498bf3ab74cb\",                        [{\"coloraxis\":\"coloraxis\",\"hovertemplate\":\"Year: %{x}<br>Team: %{y}<br>color: %{z}<extra></extra>\",\"name\":\"0\",\"type\":\"heatmap\",\"x\":[1946,1947,1948,1949,1950,1951,1952,1953,1954,1955,1956,1957,1958,1959,1960,1961,1962,1963,1964,1965,1966,1967,1968,1969,1970,1971,1972,1973,1974,1975,1976,1977,1978,1979,1980,1981,1982,1983,1984,1985,1986,1987,1988,1989,1990,1991,1992,1993,1994,1995,1996,1997,1998,1999,2000,2001,2002,2003,2004,2005,2006,2007,2008,2009,2010,2011,2012,2013,2014,2015,2016],\"xaxis\":\"x\",\"y\":[\"76ers\",\"Blackhawks\",\"Bobcats\",\"Braves\",\"Bucks\",\"Bullets\",\"Bulls\",\"Cavaliers\",\"Celtics\",\"Clippers\",\"Grizzlies\",\"Hawks\",\"Heat\",\"Hornets\",\"Jazz\",\"Kings\",\"Knicks\",\"Lakers\",\"Magic\",\"Mavericks\",\"Nationals\",\"Nets\",\"Nuggets\",\"Pacers\",\"Packers\",\"Pelicans\",\"Pistons\",\"Raptors\",\"Rockets\",\"Royals\",\"Spurs\",\"Suns\",\"Supersonics\",\"Thunder\",\"Timberwolves\",\"Trail Blazers\",\"Warriors\",\"Wizards\",\"Zephyrs\"],\"yaxis\":\"y\",\"z\":[[null,null,null,null,null,null,null,null,null,null,null,null,null,null,null,null,null,0.425,0.5,0.688,0.84,0.756,0.671,0.512,0.573,0.366,0.11,0.305,0.415,0.561,0.61,0.671,0.573,0.72,0.756,0.707,0.793,0.634,0.707,0.659,0.549,0.439,0.561,0.646,0.537,0.427,0.317,0.305,0.293,0.22,0.268,0.378,0.56,0.598,0.683,0.524,0.585,0.402,0.524,0.463,0.427,0.488,0.5,0.329,0.5,0.53,0.415,0.232,0.22,0.122,0.357],[null,null,null,0.453,0.368,null,null,null,null,null,null,null,null,null,null,null,null,null,null,null,null,null,null,null,null,null,null,null,null,null,null,null,null,null,null,null,null,null,null,null,null,null,null,null,null,null,null,null,null,null,null,null,null,null,null,null,null,null,null,null,null,null,null,null,null,null,null,null,null,null,null],[null,null,null,null,null,null,null,null,null,null,null,null,null,null,null,null,null,null,null,null,null,null,null,null,null,null,null,null,null,null,null,null,null,null,null,null,null,null,null,null,null,null,null,null,null,null,null,null,null,null,null,null,null,null,null,null,null,null,0.22,0.317,0.402,0.39,0.427,0.537,0.415,0.106,0.256,0.524,null,null,null],[null,null,null,null,null,null,null,null,null,null,null,null,null,null,null,null,null,null,null,null,null,null,null,null,0.268,0.268,0.256,0.512,0.598,0.561,0.366,0.329,null,null,null,null,null,null,null,null,null,null,null,null,null,null,null,null,null,null,null,null,null,null,null,null,null,null,null,null,null,null,null,null,null,null,null,null,null,null,null],[null,null,null,null,null,null,null,null,null,null,null,null,null,null,null,null,null,null,null,null,null,null,0.329,0.683,0.805,0.768,0.732,0.72,0.463,0.463,0.366,0.537,0.463,0.598,0.732,0.671,0.622,0.61,0.72,0.695,0.61,0.512,0.598,0.537,0.585,0.378,0.341,0.244,0.415,0.305,0.402,0.439,0.56,0.512,0.634,0.5,0.512,0.5,0.366,0.488,0.341,0.317,0.415,0.561,0.427,0.47,0.463,0.183,0.5,0.402,0.465],[null,null,null,null,null,null,null,null,null,null,null,null,null,null,null,null,null,0.388,0.463,0.475,0.247,0.439,0.695,0.61,0.512,0.463,0.634,0.573,0.732,0.585,0.585,0.537,0.659,0.476,0.476,0.524,0.512,0.427,0.488,0.476,0.512,0.463,0.488,0.378,0.366,0.305,0.268,0.293,0.256,0.476,0.537,null,null,null,null,null,null,null,null,null,null,null,null,null,null,null,null,null,null,null,null],[null,null,null,null,null,null,null,null,null,null,null,null,null,null,null,null,null,null,null,null,0.407,0.354,0.402,0.476,0.622,0.695,0.622,0.659,0.573,0.293,0.537,0.488,0.378,0.366,0.549,0.415,0.341,0.329,0.463,0.366,0.488,0.61,0.573,0.671,0.744,0.817,0.695,0.671,0.573,0.878,0.841,0.756,0.26,0.207,0.183,0.256,0.366,0.28,0.573,0.5,0.598,0.402,0.5,0.5,0.756,0.758,0.549,0.585,0.61,0.512,0.477],[null,null,null,null,null,null,null,null,null,null,null,null,null,null,null,null,null,null,null,null,null,null,null,null,0.183,0.28,0.39,0.354,0.488,0.598,0.524,0.524,0.366,0.451,0.341,0.183,0.28,0.341,0.439,0.354,0.378,0.512,0.695,0.512,0.402,0.695,0.659,0.573,0.524,0.573,0.512,0.573,0.44,0.39,0.366,0.354,0.207,0.427,0.512,0.61,0.61,0.549,0.805,0.744,0.232,0.318,0.293,0.402,0.646,0.695,0.714],[0.367,0.417,0.417,0.324,0.565,0.591,0.648,0.583,0.5,0.542,0.611,0.681,0.722,0.787,0.722,0.75,0.725,0.738,0.775,0.675,0.741,0.659,0.585,0.415,0.537,0.683,0.829,0.683,0.732,0.659,0.537,0.39,0.354,0.744,0.756,0.768,0.683,0.756,0.768,0.817,0.72,0.695,0.512,0.634,0.683,0.622,0.585,0.39,0.427,0.402,0.183,0.439,0.38,0.427,0.439,0.598,0.537,0.439,0.549,0.402,0.293,0.805,0.756,0.61,0.683,0.591,0.506,0.305,0.488,0.585,0.625],[null,null,null,null,null,null,null,null,null,null,null,null,null,null,null,null,null,null,null,null,null,null,null,null,null,null,null,null,null,null,null,null,0.524,0.427,0.439,0.207,0.305,0.366,0.378,0.39,0.146,0.207,0.256,0.366,0.378,0.549,0.5,0.329,0.207,0.354,0.439,0.207,0.18,0.183,0.378,0.476,0.329,0.341,0.451,0.573,0.488,0.28,0.232,0.354,0.39,0.606,0.683,0.695,0.683,0.646,0.644],[null,null,null,null,null,null,null,null,null,null,null,null,null,null,null,null,null,null,null,null,null,null,null,null,null,null,null,null,null,null,null,null,null,null,null,null,null,null,null,null,null,null,null,null,null,null,null,null,null,0.183,0.171,0.232,0.16,0.268,0.28,0.28,0.341,0.61,0.549,0.598,0.268,0.268,0.293,0.488,0.561,0.621,0.683,0.61,0.671,0.512,0.565],[null,null,null,null,null,0.258,0.38,0.292,0.361,0.458,0.472,0.569,0.681,0.613,0.646,0.363,0.6,0.575,0.563,0.45,0.481,0.683,0.585,0.585,0.439,0.439,0.561,0.427,0.378,0.354,0.378,0.5,0.561,0.61,0.378,0.512,0.524,0.488,0.415,0.61,0.695,0.61,0.634,0.5,0.524,0.463,0.524,0.695,0.512,0.561,0.683,0.61,0.62,0.341,0.305,0.402,0.427,0.341,0.159,0.317,0.366,0.451,0.573,0.646,0.537,0.606,0.537,0.463,0.732,0.585,0.575],[null,null,null,null,null,null,null,null,null,null,null,null,null,null,null,null,null,null,null,null,null,null,null,null,null,null,null,null,null,null,null,null,null,null,null,null,null,null,null,null,null,null,0.183,0.22,0.293,0.463,0.439,0.512,0.39,0.512,0.744,0.671,0.66,0.634,0.61,0.439,0.305,0.512,0.72,0.634,0.537,0.183,0.524,0.573,0.707,0.697,0.805,0.659,0.451,0.585,0.318],[null,null,null,null,null,null,null,null,null,null,null,null,null,null,null,null,null,null,null,null,null,null,null,null,null,null,null,null,null,null,null,null,null,null,null,null,null,null,null,null,null,null,0.244,0.232,0.317,0.378,0.537,0.5,0.61,0.5,0.659,0.622,0.52,0.598,0.561,0.537,0.573,0.5,0.22,0.463,0.476,0.683,0.598,0.451,0.561,0.318,0.329,null,0.402,0.585,0.512],[null,null,null,null,null,null,null,null,null,null,null,null,null,null,null,null,null,null,null,null,null,null,null,null,null,null,null,null,0.28,0.463,0.427,0.476,0.317,0.293,0.341,0.305,0.366,0.549,0.5,0.512,0.537,0.573,0.622,0.671,0.659,0.671,0.573,0.646,0.732,0.671,0.78,0.756,0.74,0.671,0.646,0.537,0.573,0.512,0.317,0.5,0.622,0.659,0.585,0.646,0.476,0.545,0.524,0.305,0.463,0.488,0.644],[null,null,null,null,null,null,null,null,null,null,null,null,null,null,null,null,null,null,null,null,null,null,null,null,null,null,0.439,0.402,0.537,0.378,0.488,0.378,0.585,0.573,0.488,0.366,0.549,0.463,0.378,0.451,0.354,0.293,0.329,0.28,0.305,0.354,0.305,0.341,0.476,0.476,0.415,0.329,0.54,0.537,0.671,0.744,0.72,0.671,0.61,0.537,0.402,0.463,0.207,0.305,0.293,0.333,0.341,0.341,0.354,0.402,0.372],[0.55,0.542,0.533,0.588,0.545,0.561,0.671,0.611,0.528,0.486,0.5,0.486,0.556,0.36,0.266,0.363,0.263,0.275,0.388,0.375,0.444,0.524,0.659,0.732,0.634,0.585,0.695,0.598,0.488,0.463,0.488,0.524,0.378,0.476,0.61,0.402,0.537,0.573,0.293,0.28,0.293,0.463,0.634,0.549,0.476,0.622,0.732,0.695,0.671,0.573,0.695,0.524,0.54,0.61,0.585,0.366,0.451,0.476,0.402,0.28,0.402,0.28,0.39,0.354,0.512,0.545,0.659,0.451,0.207,0.39,0.378],[null,null,0.733,0.75,0.647,0.606,0.686,0.639,0.556,0.458,0.472,0.264,0.458,0.333,0.456,0.675,0.663,0.525,0.613,0.563,0.444,0.634,0.671,0.561,0.585,0.841,0.732,0.573,0.366,0.488,0.646,0.549,0.573,0.732,0.659,0.695,0.707,0.659,0.756,0.756,0.793,0.756,0.695,0.768,0.707,0.524,0.476,0.402,0.585,0.646,0.683,0.744,0.62,0.817,0.683,0.707,0.61,0.683,0.415,0.549,0.512,0.695,0.793,0.695,0.695,0.621,0.549,0.329,0.256,0.207,0.333],[null,null,null,null,null,null,null,null,null,null,null,null,null,null,null,null,null,null,null,null,null,null,null,null,null,null,null,null,null,null,null,null,null,null,null,null,null,null,null,null,null,null,null,0.22,0.378,0.256,0.5,0.61,0.695,0.732,0.549,0.5,0.66,0.5,0.524,0.537,0.512,0.256,0.439,0.439,0.488,0.634,0.72,0.72,0.634,0.561,0.244,0.28,0.305,0.427,0.391],[null,null,null,null,null,null,null,null,null,null,null,null,null,null,null,null,null,null,null,null,null,null,null,null,null,null,null,null,null,null,null,null,null,null,0.183,0.341,0.463,0.524,0.537,0.537,0.671,0.646,0.463,0.573,0.341,0.268,0.134,0.159,0.439,0.317,0.293,0.244,0.38,0.488,0.646,0.695,0.732,0.634,0.707,0.732,0.817,0.622,0.61,0.671,0.695,0.545,0.5,0.598,0.61,0.512,0.341],[null,null,null,0.797,0.485,0.606,0.662,0.583,0.597,0.486,0.528,0.569,0.486,0.6,0.481,0.513,0.6,null,null,null,null,null,null,null,null,null,null,null,null,null,null,null,null,null,null,null,null,null,null,null,null,null,null,null,null,null,null,null,null,null,null,null,null,null,null,null,null,null,null,null,null,null,null,null,null,null,null,null,null,null,null],[null,null,null,null,null,null,null,null,null,null,null,null,null,null,null,null,null,null,null,null,null,null,null,null,null,null,null,null,null,null,0.268,0.293,0.451,0.415,0.293,0.537,0.598,0.549,0.512,0.476,0.293,0.232,0.317,0.207,0.317,0.488,0.524,0.549,0.366,0.366,0.317,0.524,0.32,0.378,0.317,0.634,0.598,0.573,0.512,0.598,0.5,0.415,0.415,0.146,0.293,0.333,0.598,0.537,0.463,0.256,0.214],[null,null,null,null,null,null,null,null,null,null,null,null,null,null,null,null,null,null,null,null,null,null,null,null,null,null,null,null,null,null,0.61,0.585,0.573,0.366,0.451,0.561,0.549,0.463,0.634,0.573,0.451,0.659,0.537,0.524,0.244,0.293,0.439,0.512,0.5,0.427,0.256,0.134,0.28,0.427,0.488,0.329,0.207,0.524,0.598,0.537,0.549,0.61,0.659,0.646,0.61,0.576,0.695,0.439,0.366,0.402,0.419],[null,null,null,null,null,null,null,null,null,null,null,null,null,null,null,null,null,null,null,null,null,null,null,null,null,null,null,null,null,null,0.439,0.378,0.463,0.451,0.537,0.427,0.244,0.317,0.268,0.317,0.5,0.463,0.341,0.512,0.5,0.488,0.5,0.573,0.634,0.634,0.476,0.707,0.66,0.683,0.5,0.512,0.585,0.744,0.537,0.5,0.427,0.439,0.439,0.39,0.451,0.636,0.605,0.683,0.463,0.549,0.512],[null,null,null,null,null,null,null,null,null,null,null,null,null,null,null,0.225,null,null,null,null,null,null,null,null,null,null,null,null,null,null,null,null,null,null,null,null,null,null,null,null,null,null,null,null,null,null,null,null,null,null,null,null,null,null,null,null,null,null,null,null,null,null,null,null,null,null,null,null,null,null,null],[null,null,null,null,null,null,null,null,null,null,null,null,null,null,null,null,null,null,null,null,null,null,null,null,null,null,null,null,null,null,null,null,null,null,null,null,null,null,null,null,null,null,null,null,null,null,null,null,null,null,null,null,null,null,null,null,null,null,null,null,null,null,null,null,null,null,null,0.415,0.549,0.366,0.386],[null,null,0.367,0.588,0.471,0.439,0.522,0.556,0.597,0.514,0.472,0.458,0.389,0.4,0.43,0.463,0.425,0.288,0.388,0.275,0.37,0.488,0.39,0.378,0.549,0.317,0.488,0.634,0.488,0.439,0.537,0.463,0.366,0.195,0.256,0.476,0.451,0.598,0.561,0.561,0.634,0.659,0.768,0.72,0.61,0.585,0.488,0.244,0.341,0.561,0.659,0.451,0.58,0.512,0.39,0.61,0.61,0.659,0.659,0.78,0.646,0.72,0.476,0.329,0.366,0.379,0.354,0.354,0.39,0.537,0.467],[null,null,null,null,null,null,null,null,null,null,null,null,null,null,null,null,null,null,null,null,null,null,null,null,null,null,null,null,null,null,null,null,null,null,null,null,null,null,null,null,null,null,null,null,null,null,null,null,null,0.256,0.366,0.195,0.46,0.549,0.573,0.512,0.293,0.402,0.402,0.329,0.573,0.5,0.402,0.488,0.268,0.348,0.415,0.585,0.598,0.683,0.636],[null,null,null,null,null,null,null,null,null,null,null,null,null,null,null,null,null,null,null,null,null,0.183,0.451,0.329,0.488,0.415,0.402,0.39,0.5,0.488,0.598,0.341,0.573,0.5,0.488,0.561,0.171,0.354,0.585,0.622,0.512,0.561,0.549,0.5,0.634,0.512,0.671,0.707,0.573,0.585,0.695,0.5,0.62,0.415,0.549,0.341,0.524,0.549,0.622,0.415,0.634,0.671,0.646,0.512,0.524,0.515,0.549,0.659,0.683,0.5,0.723],[null,null,0.75,0.75,0.603,0.621,0.629,0.611,0.403,0.431,0.431,0.458,0.264,0.253,0.418,0.538,0.525,0.688,0.6,0.563,0.481,0.476,0.5,0.439,0.402,0.366,null,null,null,null,null,null,null,null,null,null,null,null,null,null,null,null,null,null,null,null,null,null,null,null,null,null,null,null,null,null,null,null,null,null,null,null,null,null,null,null,null,null,null,null,null],[null,null,null,null,null,null,null,null,null,null,null,null,null,null,null,null,null,null,null,null,null,null,null,null,null,null,null,null,null,null,0.537,0.634,0.585,0.5,0.634,0.585,0.646,0.451,0.5,0.427,0.341,0.378,0.256,0.683,0.671,0.573,0.598,0.671,0.756,0.72,0.244,0.683,0.74,0.646,0.707,0.707,0.732,0.695,0.72,0.768,0.707,0.683,0.659,0.61,0.744,0.758,0.707,0.756,0.671,0.817,0.791],[null,null,null,null,null,null,null,null,null,null,null,null,null,null,null,null,null,null,null,null,null,null,0.195,0.476,0.585,0.598,0.463,0.366,0.39,0.512,0.415,0.598,0.61,0.671,0.695,0.561,0.646,0.5,0.439,0.39,0.439,0.341,0.671,0.659,0.671,0.646,0.756,0.683,0.72,0.5,0.488,0.683,0.54,0.646,0.622,0.439,0.537,0.354,0.756,0.659,0.744,0.671,0.561,0.659,0.488,0.5,0.305,0.585,0.476,0.28,0.341],[null,null,null,null,null,null,null,null,null,null,null,null,null,null,null,null,null,null,null,null,null,0.28,0.366,0.439,0.463,0.573,0.317,0.439,0.524,0.524,0.488,0.573,0.634,0.683,0.415,0.634,0.585,0.512,0.378,0.378,0.476,0.537,0.573,0.5,0.5,0.573,0.671,0.768,0.695,0.78,0.695,0.744,0.5,0.549,0.537,0.549,0.488,0.451,0.634,0.427,0.378,0.244,null,null,null,null,null,null,null,null,null],[null,null,null,null,null,null,null,null,null,null,null,null,null,null,null,null,null,null,null,null,null,null,null,null,null,null,null,null,null,null,null,null,null,null,null,null,null,null,null,null,null,null,null,null,null,null,null,null,null,null,null,null,null,null,null,null,null,null,null,null,null,null,0.28,0.61,0.671,0.712,0.732,0.72,0.549,0.671,0.568],[null,null,null,null,null,null,null,null,null,null,null,null,null,null,null,null,null,null,null,null,null,null,null,null,null,null,null,null,null,null,null,null,null,null,null,null,null,null,null,null,null,null,null,0.268,0.354,0.183,0.232,0.244,0.256,0.317,0.488,0.549,0.5,0.61,0.573,0.61,0.622,0.707,0.537,0.402,0.39,0.268,0.293,0.183,0.207,0.394,0.378,0.488,0.195,0.354,0.364],[null,null,null,null,null,null,null,null,null,null,null,null,null,null,null,null,null,null,null,null,null,null,null,null,0.354,0.22,0.256,0.329,0.463,0.451,0.598,0.707,0.549,0.463,0.549,0.512,0.561,0.585,0.512,0.488,0.598,0.646,0.476,0.72,0.768,0.695,0.622,0.573,0.537,0.537,0.598,0.561,0.7,0.72,0.61,0.598,0.61,0.5,0.329,0.256,0.39,0.5,0.659,0.61,0.585,0.424,0.402,0.659,0.622,0.537,0.413],[0.583,0.563,0.467,0.382,0.606,0.5,0.174,0.403,0.458,0.625,0.514,0.514,0.444,0.653,0.582,0.613,0.388,0.6,0.213,0.438,0.543,0.524,0.5,0.366,0.5,0.622,0.573,0.537,0.585,0.72,0.561,0.524,0.463,0.293,0.476,0.549,0.366,0.451,0.268,0.366,0.512,0.244,0.524,0.451,0.537,0.671,0.415,0.61,0.317,0.439,0.366,0.232,0.42,0.232,0.207,0.256,0.463,0.451,0.415,0.415,0.512,0.585,0.354,0.317,0.439,0.348,0.573,0.622,0.817,0.89,0.864],[null,null,null,null,null,null,null,null,null,null,null,null,null,null,null,null,null,null,null,null,null,null,null,null,null,null,null,null,null,null,null,null,null,null,null,null,null,null,null,null,null,null,null,null,null,null,null,null,null,null,null,0.512,0.36,0.354,0.232,0.451,0.451,0.305,0.549,0.512,0.5,0.524,0.232,0.317,0.28,0.303,0.354,0.537,0.561,0.5,0.535],[null,null,null,null,null,null,null,null,null,null,null,null,null,null,null,null,0.313,null,null,null,null,null,null,null,null,null,null,null,null,null,null,null,null,null,null,null,null,null,null,null,null,null,null,null,null,null,null,null,null,null,null,null,null,null,null,null,null,null,null,null,null,null,null,null,null,null,null,null,null,null,null]]}],                        {\"coloraxis\":{\"colorscale\":[[0.0,\"#0d0887\"],[0.1111111111111111,\"#46039f\"],[0.2222222222222222,\"#7201a8\"],[0.3333333333333333,\"#9c179e\"],[0.4444444444444444,\"#bd3786\"],[0.5555555555555556,\"#d8576b\"],[0.6666666666666666,\"#ed7953\"],[0.7777777777777778,\"#fb9f3a\"],[0.8888888888888888,\"#fdca26\"],[1.0,\"#f0f921\"]]},\"margin\":{\"t\":60},\"template\":{\"data\":{\"bar\":[{\"error_x\":{\"color\":\"#2a3f5f\"},\"error_y\":{\"color\":\"#2a3f5f\"},\"marker\":{\"line\":{\"color\":\"#E5ECF6\",\"width\":0.5},\"pattern\":{\"fillmode\":\"overlay\",\"size\":10,\"solidity\":0.2}},\"type\":\"bar\"}],\"barpolar\":[{\"marker\":{\"line\":{\"color\":\"#E5ECF6\",\"width\":0.5},\"pattern\":{\"fillmode\":\"overlay\",\"size\":10,\"solidity\":0.2}},\"type\":\"barpolar\"}],\"carpet\":[{\"aaxis\":{\"endlinecolor\":\"#2a3f5f\",\"gridcolor\":\"white\",\"linecolor\":\"white\",\"minorgridcolor\":\"white\",\"startlinecolor\":\"#2a3f5f\"},\"baxis\":{\"endlinecolor\":\"#2a3f5f\",\"gridcolor\":\"white\",\"linecolor\":\"white\",\"minorgridcolor\":\"white\",\"startlinecolor\":\"#2a3f5f\"},\"type\":\"carpet\"}],\"choropleth\":[{\"colorbar\":{\"outlinewidth\":0,\"ticks\":\"\"},\"type\":\"choropleth\"}],\"contour\":[{\"colorbar\":{\"outlinewidth\":0,\"ticks\":\"\"},\"colorscale\":[[0.0,\"#0d0887\"],[0.1111111111111111,\"#46039f\"],[0.2222222222222222,\"#7201a8\"],[0.3333333333333333,\"#9c179e\"],[0.4444444444444444,\"#bd3786\"],[0.5555555555555556,\"#d8576b\"],[0.6666666666666666,\"#ed7953\"],[0.7777777777777778,\"#fb9f3a\"],[0.8888888888888888,\"#fdca26\"],[1.0,\"#f0f921\"]],\"type\":\"contour\"}],\"contourcarpet\":[{\"colorbar\":{\"outlinewidth\":0,\"ticks\":\"\"},\"type\":\"contourcarpet\"}],\"heatmap\":[{\"colorbar\":{\"outlinewidth\":0,\"ticks\":\"\"},\"colorscale\":[[0.0,\"#0d0887\"],[0.1111111111111111,\"#46039f\"],[0.2222222222222222,\"#7201a8\"],[0.3333333333333333,\"#9c179e\"],[0.4444444444444444,\"#bd3786\"],[0.5555555555555556,\"#d8576b\"],[0.6666666666666666,\"#ed7953\"],[0.7777777777777778,\"#fb9f3a\"],[0.8888888888888888,\"#fdca26\"],[1.0,\"#f0f921\"]],\"type\":\"heatmap\"}],\"heatmapgl\":[{\"colorbar\":{\"outlinewidth\":0,\"ticks\":\"\"},\"colorscale\":[[0.0,\"#0d0887\"],[0.1111111111111111,\"#46039f\"],[0.2222222222222222,\"#7201a8\"],[0.3333333333333333,\"#9c179e\"],[0.4444444444444444,\"#bd3786\"],[0.5555555555555556,\"#d8576b\"],[0.6666666666666666,\"#ed7953\"],[0.7777777777777778,\"#fb9f3a\"],[0.8888888888888888,\"#fdca26\"],[1.0,\"#f0f921\"]],\"type\":\"heatmapgl\"}],\"histogram\":[{\"marker\":{\"pattern\":{\"fillmode\":\"overlay\",\"size\":10,\"solidity\":0.2}},\"type\":\"histogram\"}],\"histogram2d\":[{\"colorbar\":{\"outlinewidth\":0,\"ticks\":\"\"},\"colorscale\":[[0.0,\"#0d0887\"],[0.1111111111111111,\"#46039f\"],[0.2222222222222222,\"#7201a8\"],[0.3333333333333333,\"#9c179e\"],[0.4444444444444444,\"#bd3786\"],[0.5555555555555556,\"#d8576b\"],[0.6666666666666666,\"#ed7953\"],[0.7777777777777778,\"#fb9f3a\"],[0.8888888888888888,\"#fdca26\"],[1.0,\"#f0f921\"]],\"type\":\"histogram2d\"}],\"histogram2dcontour\":[{\"colorbar\":{\"outlinewidth\":0,\"ticks\":\"\"},\"colorscale\":[[0.0,\"#0d0887\"],[0.1111111111111111,\"#46039f\"],[0.2222222222222222,\"#7201a8\"],[0.3333333333333333,\"#9c179e\"],[0.4444444444444444,\"#bd3786\"],[0.5555555555555556,\"#d8576b\"],[0.6666666666666666,\"#ed7953\"],[0.7777777777777778,\"#fb9f3a\"],[0.8888888888888888,\"#fdca26\"],[1.0,\"#f0f921\"]],\"type\":\"histogram2dcontour\"}],\"mesh3d\":[{\"colorbar\":{\"outlinewidth\":0,\"ticks\":\"\"},\"type\":\"mesh3d\"}],\"parcoords\":[{\"line\":{\"colorbar\":{\"outlinewidth\":0,\"ticks\":\"\"}},\"type\":\"parcoords\"}],\"pie\":[{\"automargin\":true,\"type\":\"pie\"}],\"scatter\":[{\"marker\":{\"colorbar\":{\"outlinewidth\":0,\"ticks\":\"\"}},\"type\":\"scatter\"}],\"scatter3d\":[{\"line\":{\"colorbar\":{\"outlinewidth\":0,\"ticks\":\"\"}},\"marker\":{\"colorbar\":{\"outlinewidth\":0,\"ticks\":\"\"}},\"type\":\"scatter3d\"}],\"scattercarpet\":[{\"marker\":{\"colorbar\":{\"outlinewidth\":0,\"ticks\":\"\"}},\"type\":\"scattercarpet\"}],\"scattergeo\":[{\"marker\":{\"colorbar\":{\"outlinewidth\":0,\"ticks\":\"\"}},\"type\":\"scattergeo\"}],\"scattergl\":[{\"marker\":{\"colorbar\":{\"outlinewidth\":0,\"ticks\":\"\"}},\"type\":\"scattergl\"}],\"scattermapbox\":[{\"marker\":{\"colorbar\":{\"outlinewidth\":0,\"ticks\":\"\"}},\"type\":\"scattermapbox\"}],\"scatterpolar\":[{\"marker\":{\"colorbar\":{\"outlinewidth\":0,\"ticks\":\"\"}},\"type\":\"scatterpolar\"}],\"scatterpolargl\":[{\"marker\":{\"colorbar\":{\"outlinewidth\":0,\"ticks\":\"\"}},\"type\":\"scatterpolargl\"}],\"scatterternary\":[{\"marker\":{\"colorbar\":{\"outlinewidth\":0,\"ticks\":\"\"}},\"type\":\"scatterternary\"}],\"surface\":[{\"colorbar\":{\"outlinewidth\":0,\"ticks\":\"\"},\"colorscale\":[[0.0,\"#0d0887\"],[0.1111111111111111,\"#46039f\"],[0.2222222222222222,\"#7201a8\"],[0.3333333333333333,\"#9c179e\"],[0.4444444444444444,\"#bd3786\"],[0.5555555555555556,\"#d8576b\"],[0.6666666666666666,\"#ed7953\"],[0.7777777777777778,\"#fb9f3a\"],[0.8888888888888888,\"#fdca26\"],[1.0,\"#f0f921\"]],\"type\":\"surface\"}],\"table\":[{\"cells\":{\"fill\":{\"color\":\"#EBF0F8\"},\"line\":{\"color\":\"white\"}},\"header\":{\"fill\":{\"color\":\"#C8D4E3\"},\"line\":{\"color\":\"white\"}},\"type\":\"table\"}]},\"layout\":{\"annotationdefaults\":{\"arrowcolor\":\"#2a3f5f\",\"arrowhead\":0,\"arrowwidth\":1},\"autotypenumbers\":\"strict\",\"coloraxis\":{\"colorbar\":{\"outlinewidth\":0,\"ticks\":\"\"}},\"colorscale\":{\"diverging\":[[0,\"#8e0152\"],[0.1,\"#c51b7d\"],[0.2,\"#de77ae\"],[0.3,\"#f1b6da\"],[0.4,\"#fde0ef\"],[0.5,\"#f7f7f7\"],[0.6,\"#e6f5d0\"],[0.7,\"#b8e186\"],[0.8,\"#7fbc41\"],[0.9,\"#4d9221\"],[1,\"#276419\"]],\"sequential\":[[0.0,\"#0d0887\"],[0.1111111111111111,\"#46039f\"],[0.2222222222222222,\"#7201a8\"],[0.3333333333333333,\"#9c179e\"],[0.4444444444444444,\"#bd3786\"],[0.5555555555555556,\"#d8576b\"],[0.6666666666666666,\"#ed7953\"],[0.7777777777777778,\"#fb9f3a\"],[0.8888888888888888,\"#fdca26\"],[1.0,\"#f0f921\"]],\"sequentialminus\":[[0.0,\"#0d0887\"],[0.1111111111111111,\"#46039f\"],[0.2222222222222222,\"#7201a8\"],[0.3333333333333333,\"#9c179e\"],[0.4444444444444444,\"#bd3786\"],[0.5555555555555556,\"#d8576b\"],[0.6666666666666666,\"#ed7953\"],[0.7777777777777778,\"#fb9f3a\"],[0.8888888888888888,\"#fdca26\"],[1.0,\"#f0f921\"]]},\"colorway\":[\"#636efa\",\"#EF553B\",\"#00cc96\",\"#ab63fa\",\"#FFA15A\",\"#19d3f3\",\"#FF6692\",\"#B6E880\",\"#FF97FF\",\"#FECB52\"],\"font\":{\"color\":\"#2a3f5f\"},\"geo\":{\"bgcolor\":\"white\",\"lakecolor\":\"white\",\"landcolor\":\"#E5ECF6\",\"showlakes\":true,\"showland\":true,\"subunitcolor\":\"white\"},\"hoverlabel\":{\"align\":\"left\"},\"hovermode\":\"closest\",\"mapbox\":{\"style\":\"light\"},\"paper_bgcolor\":\"white\",\"plot_bgcolor\":\"#E5ECF6\",\"polar\":{\"angularaxis\":{\"gridcolor\":\"white\",\"linecolor\":\"white\",\"ticks\":\"\"},\"bgcolor\":\"#E5ECF6\",\"radialaxis\":{\"gridcolor\":\"white\",\"linecolor\":\"white\",\"ticks\":\"\"}},\"scene\":{\"xaxis\":{\"backgroundcolor\":\"#E5ECF6\",\"gridcolor\":\"white\",\"gridwidth\":2,\"linecolor\":\"white\",\"showbackground\":true,\"ticks\":\"\",\"zerolinecolor\":\"white\"},\"yaxis\":{\"backgroundcolor\":\"#E5ECF6\",\"gridcolor\":\"white\",\"gridwidth\":2,\"linecolor\":\"white\",\"showbackground\":true,\"ticks\":\"\",\"zerolinecolor\":\"white\"},\"zaxis\":{\"backgroundcolor\":\"#E5ECF6\",\"gridcolor\":\"white\",\"gridwidth\":2,\"linecolor\":\"white\",\"showbackground\":true,\"ticks\":\"\",\"zerolinecolor\":\"white\"}},\"shapedefaults\":{\"line\":{\"color\":\"#2a3f5f\"}},\"ternary\":{\"aaxis\":{\"gridcolor\":\"white\",\"linecolor\":\"white\",\"ticks\":\"\"},\"baxis\":{\"gridcolor\":\"white\",\"linecolor\":\"white\",\"ticks\":\"\"},\"bgcolor\":\"#E5ECF6\",\"caxis\":{\"gridcolor\":\"white\",\"linecolor\":\"white\",\"ticks\":\"\"}},\"title\":{\"x\":0.05},\"xaxis\":{\"automargin\":true,\"gridcolor\":\"white\",\"linecolor\":\"white\",\"ticks\":\"\",\"title\":{\"standoff\":15},\"zerolinecolor\":\"white\",\"zerolinewidth\":2},\"yaxis\":{\"automargin\":true,\"gridcolor\":\"white\",\"linecolor\":\"white\",\"ticks\":\"\",\"title\":{\"standoff\":15},\"zerolinecolor\":\"white\",\"zerolinewidth\":2}}},\"xaxis\":{\"anchor\":\"y\",\"constrain\":\"domain\",\"domain\":[0.0,1.0],\"scaleanchor\":\"y\",\"title\":{\"text\":\"Year\"}},\"yaxis\":{\"anchor\":\"x\",\"autorange\":\"reversed\",\"constrain\":\"domain\",\"domain\":[0.0,1.0],\"title\":{\"text\":\"Team\"}}},                        {\"responsive\": true}                    ).then(function(){\n",
       "                            \n",
       "var gd = document.getElementById('d424c6ee-3811-45e1-a4bf-498bf3ab74cb');\n",
       "var x = new MutationObserver(function (mutations, observer) {{\n",
       "        var display = window.getComputedStyle(gd).display;\n",
       "        if (!display || display === 'none') {{\n",
       "            console.log([gd, 'removed!']);\n",
       "            Plotly.purge(gd);\n",
       "            observer.disconnect();\n",
       "        }}\n",
       "}});\n",
       "\n",
       "// Listen for the removal of the full notebook cells\n",
       "var notebookContainer = gd.closest('#notebook-container');\n",
       "if (notebookContainer) {{\n",
       "    x.observe(notebookContainer, {childList: true});\n",
       "}}\n",
       "\n",
       "// Listen for the clearing of the current output cell\n",
       "var outputEl = gd.closest('.output');\n",
       "if (outputEl) {{\n",
       "    x.observe(outputEl, {childList: true});\n",
       "}}\n",
       "\n",
       "                        })                };                });            </script>        </div>"
      ]
     },
     "metadata": {},
     "output_type": "display_data"
    }
   ],
   "source": [
    "# Making The HeatMap\n",
    "px.imshow( pv1 )"
   ]
  },
  {
   "cell_type": "code",
   "execution_count": 7,
   "id": "868aca5a",
   "metadata": {
    "scrolled": false
   },
   "outputs": [
    {
     "name": "stdout",
     "output_type": "stream",
     "text": [
      "Year       1946   1947   1948   1949   1950   1951   1952   1953   1954  \\\n",
      "Team                                                                      \n",
      "Celtics   0.367  0.417  0.417  0.324  0.565  0.591  0.648  0.583  0.500   \n",
      "Knicks    0.550  0.542  0.533  0.588  0.545  0.561  0.671  0.611  0.528   \n",
      "Pistons     NaN    NaN  0.367  0.588  0.471  0.439  0.522  0.556  0.597   \n",
      "Warriors  0.583  0.563  0.467  0.382  0.606  0.500  0.174  0.403  0.458   \n",
      "\n",
      "Year       1955  ...   2007   2008   2009   2010   2011   2012   2013   2014  \\\n",
      "Team             ...                                                           \n",
      "Celtics   0.542  ...  0.805  0.756  0.610  0.683  0.591  0.506  0.305  0.488   \n",
      "Knicks    0.486  ...  0.280  0.390  0.354  0.512  0.545  0.659  0.451  0.207   \n",
      "Pistons   0.514  ...  0.720  0.476  0.329  0.366  0.379  0.354  0.354  0.390   \n",
      "Warriors  0.625  ...  0.585  0.354  0.317  0.439  0.348  0.573  0.622  0.817   \n",
      "\n",
      "Year       2015   2016  \n",
      "Team                    \n",
      "Celtics   0.585  0.625  \n",
      "Knicks    0.390  0.378  \n",
      "Pistons   0.537  0.467  \n",
      "Warriors  0.890  0.864  \n",
      "\n",
      "[4 rows x 71 columns]\n"
     ]
    }
   ],
   "source": [
    "# Create Sub Pivot Table Just For Specific Teams\n",
    "pv2 = pv1[pv1.index.isin(['Warriors', 'Knicks', 'Celtics', 'Pistons', 'celtics'])]\n",
    "\n",
    "# Show It\n",
    "print(pv2)"
   ]
  },
  {
   "cell_type": "code",
   "execution_count": 10,
   "id": "29ef245a",
   "metadata": {},
   "outputs": [
    {
     "data": {
      "application/vnd.plotly.v1+json": {
       "config": {
        "plotlyServerURL": "https://plot.ly"
       },
       "data": [
        {
         "coloraxis": "coloraxis",
         "hovertemplate": "Year: %{x}<br>Team: %{y}<br>color: %{z}<extra></extra>",
         "name": "0",
         "type": "heatmap",
         "x": [
          1946,
          1947,
          1948,
          1949,
          1950,
          1951,
          1952,
          1953,
          1954,
          1955,
          1956,
          1957,
          1958,
          1959,
          1960,
          1961,
          1962,
          1963,
          1964,
          1965,
          1966,
          1967,
          1968,
          1969,
          1970,
          1971,
          1972,
          1973,
          1974,
          1975,
          1976,
          1977,
          1978,
          1979,
          1980,
          1981,
          1982,
          1983,
          1984,
          1985,
          1986,
          1987,
          1988,
          1989,
          1990,
          1991,
          1992,
          1993,
          1994,
          1995,
          1996,
          1997,
          1998,
          1999,
          2000,
          2001,
          2002,
          2003,
          2004,
          2005,
          2006,
          2007,
          2008,
          2009,
          2010,
          2011,
          2012,
          2013,
          2014,
          2015,
          2016
         ],
         "xaxis": "x",
         "y": [
          "Celtics",
          "Knicks",
          "Pistons",
          "Warriors"
         ],
         "yaxis": "y",
         "z": [
          [
           0.367,
           0.417,
           0.417,
           0.324,
           0.565,
           0.591,
           0.648,
           0.583,
           0.5,
           0.542,
           0.611,
           0.681,
           0.722,
           0.787,
           0.722,
           0.75,
           0.725,
           0.738,
           0.775,
           0.675,
           0.741,
           0.659,
           0.585,
           0.415,
           0.537,
           0.683,
           0.829,
           0.683,
           0.732,
           0.659,
           0.537,
           0.39,
           0.354,
           0.744,
           0.756,
           0.768,
           0.683,
           0.756,
           0.768,
           0.817,
           0.72,
           0.695,
           0.512,
           0.634,
           0.683,
           0.622,
           0.585,
           0.39,
           0.427,
           0.402,
           0.183,
           0.439,
           0.38,
           0.427,
           0.439,
           0.598,
           0.537,
           0.439,
           0.549,
           0.402,
           0.293,
           0.805,
           0.756,
           0.61,
           0.683,
           0.591,
           0.506,
           0.305,
           0.488,
           0.585,
           0.625
          ],
          [
           0.55,
           0.542,
           0.533,
           0.588,
           0.545,
           0.561,
           0.671,
           0.611,
           0.528,
           0.486,
           0.5,
           0.486,
           0.556,
           0.36,
           0.266,
           0.363,
           0.263,
           0.275,
           0.388,
           0.375,
           0.444,
           0.524,
           0.659,
           0.732,
           0.634,
           0.585,
           0.695,
           0.598,
           0.488,
           0.463,
           0.488,
           0.524,
           0.378,
           0.476,
           0.61,
           0.402,
           0.537,
           0.573,
           0.293,
           0.28,
           0.293,
           0.463,
           0.634,
           0.549,
           0.476,
           0.622,
           0.732,
           0.695,
           0.671,
           0.573,
           0.695,
           0.524,
           0.54,
           0.61,
           0.585,
           0.366,
           0.451,
           0.476,
           0.402,
           0.28,
           0.402,
           0.28,
           0.39,
           0.354,
           0.512,
           0.545,
           0.659,
           0.451,
           0.207,
           0.39,
           0.378
          ],
          [
           null,
           null,
           0.367,
           0.588,
           0.471,
           0.439,
           0.522,
           0.556,
           0.597,
           0.514,
           0.472,
           0.458,
           0.389,
           0.4,
           0.43,
           0.463,
           0.425,
           0.288,
           0.388,
           0.275,
           0.37,
           0.488,
           0.39,
           0.378,
           0.549,
           0.317,
           0.488,
           0.634,
           0.488,
           0.439,
           0.537,
           0.463,
           0.366,
           0.195,
           0.256,
           0.476,
           0.451,
           0.598,
           0.561,
           0.561,
           0.634,
           0.659,
           0.768,
           0.72,
           0.61,
           0.585,
           0.488,
           0.244,
           0.341,
           0.561,
           0.659,
           0.451,
           0.58,
           0.512,
           0.39,
           0.61,
           0.61,
           0.659,
           0.659,
           0.78,
           0.646,
           0.72,
           0.476,
           0.329,
           0.366,
           0.379,
           0.354,
           0.354,
           0.39,
           0.537,
           0.467
          ],
          [
           0.583,
           0.563,
           0.467,
           0.382,
           0.606,
           0.5,
           0.174,
           0.403,
           0.458,
           0.625,
           0.514,
           0.514,
           0.444,
           0.653,
           0.582,
           0.613,
           0.388,
           0.6,
           0.213,
           0.438,
           0.543,
           0.524,
           0.5,
           0.366,
           0.5,
           0.622,
           0.573,
           0.537,
           0.585,
           0.72,
           0.561,
           0.524,
           0.463,
           0.293,
           0.476,
           0.549,
           0.366,
           0.451,
           0.268,
           0.366,
           0.512,
           0.244,
           0.524,
           0.451,
           0.537,
           0.671,
           0.415,
           0.61,
           0.317,
           0.439,
           0.366,
           0.232,
           0.42,
           0.232,
           0.207,
           0.256,
           0.463,
           0.451,
           0.415,
           0.415,
           0.512,
           0.585,
           0.354,
           0.317,
           0.439,
           0.348,
           0.573,
           0.622,
           0.817,
           0.89,
           0.864
          ]
         ]
        }
       ],
       "layout": {
        "coloraxis": {
         "cmax": 2,
         "cmin": 0,
         "colorscale": [
          [
           0,
           "rgb(12,51,131)"
          ],
          [
           0.25,
           "rgb(10,136,186)"
          ],
          [
           0.5,
           "rgb(242,211,56)"
          ],
          [
           0.75,
           "rgb(242,143,56)"
          ],
          [
           1,
           "rgb(217,30,30)"
          ]
         ]
        },
        "margin": {
         "t": 60
        },
        "template": {
         "data": {
          "bar": [
           {
            "error_x": {
             "color": "#2a3f5f"
            },
            "error_y": {
             "color": "#2a3f5f"
            },
            "marker": {
             "line": {
              "color": "#E5ECF6",
              "width": 0.5
             },
             "pattern": {
              "fillmode": "overlay",
              "size": 10,
              "solidity": 0.2
             }
            },
            "type": "bar"
           }
          ],
          "barpolar": [
           {
            "marker": {
             "line": {
              "color": "#E5ECF6",
              "width": 0.5
             },
             "pattern": {
              "fillmode": "overlay",
              "size": 10,
              "solidity": 0.2
             }
            },
            "type": "barpolar"
           }
          ],
          "carpet": [
           {
            "aaxis": {
             "endlinecolor": "#2a3f5f",
             "gridcolor": "white",
             "linecolor": "white",
             "minorgridcolor": "white",
             "startlinecolor": "#2a3f5f"
            },
            "baxis": {
             "endlinecolor": "#2a3f5f",
             "gridcolor": "white",
             "linecolor": "white",
             "minorgridcolor": "white",
             "startlinecolor": "#2a3f5f"
            },
            "type": "carpet"
           }
          ],
          "choropleth": [
           {
            "colorbar": {
             "outlinewidth": 0,
             "ticks": ""
            },
            "type": "choropleth"
           }
          ],
          "contour": [
           {
            "colorbar": {
             "outlinewidth": 0,
             "ticks": ""
            },
            "colorscale": [
             [
              0,
              "#0d0887"
             ],
             [
              0.1111111111111111,
              "#46039f"
             ],
             [
              0.2222222222222222,
              "#7201a8"
             ],
             [
              0.3333333333333333,
              "#9c179e"
             ],
             [
              0.4444444444444444,
              "#bd3786"
             ],
             [
              0.5555555555555556,
              "#d8576b"
             ],
             [
              0.6666666666666666,
              "#ed7953"
             ],
             [
              0.7777777777777778,
              "#fb9f3a"
             ],
             [
              0.8888888888888888,
              "#fdca26"
             ],
             [
              1,
              "#f0f921"
             ]
            ],
            "type": "contour"
           }
          ],
          "contourcarpet": [
           {
            "colorbar": {
             "outlinewidth": 0,
             "ticks": ""
            },
            "type": "contourcarpet"
           }
          ],
          "heatmap": [
           {
            "colorbar": {
             "outlinewidth": 0,
             "ticks": ""
            },
            "colorscale": [
             [
              0,
              "#0d0887"
             ],
             [
              0.1111111111111111,
              "#46039f"
             ],
             [
              0.2222222222222222,
              "#7201a8"
             ],
             [
              0.3333333333333333,
              "#9c179e"
             ],
             [
              0.4444444444444444,
              "#bd3786"
             ],
             [
              0.5555555555555556,
              "#d8576b"
             ],
             [
              0.6666666666666666,
              "#ed7953"
             ],
             [
              0.7777777777777778,
              "#fb9f3a"
             ],
             [
              0.8888888888888888,
              "#fdca26"
             ],
             [
              1,
              "#f0f921"
             ]
            ],
            "type": "heatmap"
           }
          ],
          "heatmapgl": [
           {
            "colorbar": {
             "outlinewidth": 0,
             "ticks": ""
            },
            "colorscale": [
             [
              0,
              "#0d0887"
             ],
             [
              0.1111111111111111,
              "#46039f"
             ],
             [
              0.2222222222222222,
              "#7201a8"
             ],
             [
              0.3333333333333333,
              "#9c179e"
             ],
             [
              0.4444444444444444,
              "#bd3786"
             ],
             [
              0.5555555555555556,
              "#d8576b"
             ],
             [
              0.6666666666666666,
              "#ed7953"
             ],
             [
              0.7777777777777778,
              "#fb9f3a"
             ],
             [
              0.8888888888888888,
              "#fdca26"
             ],
             [
              1,
              "#f0f921"
             ]
            ],
            "type": "heatmapgl"
           }
          ],
          "histogram": [
           {
            "marker": {
             "pattern": {
              "fillmode": "overlay",
              "size": 10,
              "solidity": 0.2
             }
            },
            "type": "histogram"
           }
          ],
          "histogram2d": [
           {
            "colorbar": {
             "outlinewidth": 0,
             "ticks": ""
            },
            "colorscale": [
             [
              0,
              "#0d0887"
             ],
             [
              0.1111111111111111,
              "#46039f"
             ],
             [
              0.2222222222222222,
              "#7201a8"
             ],
             [
              0.3333333333333333,
              "#9c179e"
             ],
             [
              0.4444444444444444,
              "#bd3786"
             ],
             [
              0.5555555555555556,
              "#d8576b"
             ],
             [
              0.6666666666666666,
              "#ed7953"
             ],
             [
              0.7777777777777778,
              "#fb9f3a"
             ],
             [
              0.8888888888888888,
              "#fdca26"
             ],
             [
              1,
              "#f0f921"
             ]
            ],
            "type": "histogram2d"
           }
          ],
          "histogram2dcontour": [
           {
            "colorbar": {
             "outlinewidth": 0,
             "ticks": ""
            },
            "colorscale": [
             [
              0,
              "#0d0887"
             ],
             [
              0.1111111111111111,
              "#46039f"
             ],
             [
              0.2222222222222222,
              "#7201a8"
             ],
             [
              0.3333333333333333,
              "#9c179e"
             ],
             [
              0.4444444444444444,
              "#bd3786"
             ],
             [
              0.5555555555555556,
              "#d8576b"
             ],
             [
              0.6666666666666666,
              "#ed7953"
             ],
             [
              0.7777777777777778,
              "#fb9f3a"
             ],
             [
              0.8888888888888888,
              "#fdca26"
             ],
             [
              1,
              "#f0f921"
             ]
            ],
            "type": "histogram2dcontour"
           }
          ],
          "mesh3d": [
           {
            "colorbar": {
             "outlinewidth": 0,
             "ticks": ""
            },
            "type": "mesh3d"
           }
          ],
          "parcoords": [
           {
            "line": {
             "colorbar": {
              "outlinewidth": 0,
              "ticks": ""
             }
            },
            "type": "parcoords"
           }
          ],
          "pie": [
           {
            "automargin": true,
            "type": "pie"
           }
          ],
          "scatter": [
           {
            "marker": {
             "colorbar": {
              "outlinewidth": 0,
              "ticks": ""
             }
            },
            "type": "scatter"
           }
          ],
          "scatter3d": [
           {
            "line": {
             "colorbar": {
              "outlinewidth": 0,
              "ticks": ""
             }
            },
            "marker": {
             "colorbar": {
              "outlinewidth": 0,
              "ticks": ""
             }
            },
            "type": "scatter3d"
           }
          ],
          "scattercarpet": [
           {
            "marker": {
             "colorbar": {
              "outlinewidth": 0,
              "ticks": ""
             }
            },
            "type": "scattercarpet"
           }
          ],
          "scattergeo": [
           {
            "marker": {
             "colorbar": {
              "outlinewidth": 0,
              "ticks": ""
             }
            },
            "type": "scattergeo"
           }
          ],
          "scattergl": [
           {
            "marker": {
             "colorbar": {
              "outlinewidth": 0,
              "ticks": ""
             }
            },
            "type": "scattergl"
           }
          ],
          "scattermapbox": [
           {
            "marker": {
             "colorbar": {
              "outlinewidth": 0,
              "ticks": ""
             }
            },
            "type": "scattermapbox"
           }
          ],
          "scatterpolar": [
           {
            "marker": {
             "colorbar": {
              "outlinewidth": 0,
              "ticks": ""
             }
            },
            "type": "scatterpolar"
           }
          ],
          "scatterpolargl": [
           {
            "marker": {
             "colorbar": {
              "outlinewidth": 0,
              "ticks": ""
             }
            },
            "type": "scatterpolargl"
           }
          ],
          "scatterternary": [
           {
            "marker": {
             "colorbar": {
              "outlinewidth": 0,
              "ticks": ""
             }
            },
            "type": "scatterternary"
           }
          ],
          "surface": [
           {
            "colorbar": {
             "outlinewidth": 0,
             "ticks": ""
            },
            "colorscale": [
             [
              0,
              "#0d0887"
             ],
             [
              0.1111111111111111,
              "#46039f"
             ],
             [
              0.2222222222222222,
              "#7201a8"
             ],
             [
              0.3333333333333333,
              "#9c179e"
             ],
             [
              0.4444444444444444,
              "#bd3786"
             ],
             [
              0.5555555555555556,
              "#d8576b"
             ],
             [
              0.6666666666666666,
              "#ed7953"
             ],
             [
              0.7777777777777778,
              "#fb9f3a"
             ],
             [
              0.8888888888888888,
              "#fdca26"
             ],
             [
              1,
              "#f0f921"
             ]
            ],
            "type": "surface"
           }
          ],
          "table": [
           {
            "cells": {
             "fill": {
              "color": "#EBF0F8"
             },
             "line": {
              "color": "white"
             }
            },
            "header": {
             "fill": {
              "color": "#C8D4E3"
             },
             "line": {
              "color": "white"
             }
            },
            "type": "table"
           }
          ]
         },
         "layout": {
          "annotationdefaults": {
           "arrowcolor": "#2a3f5f",
           "arrowhead": 0,
           "arrowwidth": 1
          },
          "autotypenumbers": "strict",
          "coloraxis": {
           "colorbar": {
            "outlinewidth": 0,
            "ticks": ""
           }
          },
          "colorscale": {
           "diverging": [
            [
             0,
             "#8e0152"
            ],
            [
             0.1,
             "#c51b7d"
            ],
            [
             0.2,
             "#de77ae"
            ],
            [
             0.3,
             "#f1b6da"
            ],
            [
             0.4,
             "#fde0ef"
            ],
            [
             0.5,
             "#f7f7f7"
            ],
            [
             0.6,
             "#e6f5d0"
            ],
            [
             0.7,
             "#b8e186"
            ],
            [
             0.8,
             "#7fbc41"
            ],
            [
             0.9,
             "#4d9221"
            ],
            [
             1,
             "#276419"
            ]
           ],
           "sequential": [
            [
             0,
             "#0d0887"
            ],
            [
             0.1111111111111111,
             "#46039f"
            ],
            [
             0.2222222222222222,
             "#7201a8"
            ],
            [
             0.3333333333333333,
             "#9c179e"
            ],
            [
             0.4444444444444444,
             "#bd3786"
            ],
            [
             0.5555555555555556,
             "#d8576b"
            ],
            [
             0.6666666666666666,
             "#ed7953"
            ],
            [
             0.7777777777777778,
             "#fb9f3a"
            ],
            [
             0.8888888888888888,
             "#fdca26"
            ],
            [
             1,
             "#f0f921"
            ]
           ],
           "sequentialminus": [
            [
             0,
             "#0d0887"
            ],
            [
             0.1111111111111111,
             "#46039f"
            ],
            [
             0.2222222222222222,
             "#7201a8"
            ],
            [
             0.3333333333333333,
             "#9c179e"
            ],
            [
             0.4444444444444444,
             "#bd3786"
            ],
            [
             0.5555555555555556,
             "#d8576b"
            ],
            [
             0.6666666666666666,
             "#ed7953"
            ],
            [
             0.7777777777777778,
             "#fb9f3a"
            ],
            [
             0.8888888888888888,
             "#fdca26"
            ],
            [
             1,
             "#f0f921"
            ]
           ]
          },
          "colorway": [
           "#636efa",
           "#EF553B",
           "#00cc96",
           "#ab63fa",
           "#FFA15A",
           "#19d3f3",
           "#FF6692",
           "#B6E880",
           "#FF97FF",
           "#FECB52"
          ],
          "font": {
           "color": "#2a3f5f"
          },
          "geo": {
           "bgcolor": "white",
           "lakecolor": "white",
           "landcolor": "#E5ECF6",
           "showlakes": true,
           "showland": true,
           "subunitcolor": "white"
          },
          "hoverlabel": {
           "align": "left"
          },
          "hovermode": "closest",
          "mapbox": {
           "style": "light"
          },
          "paper_bgcolor": "white",
          "plot_bgcolor": "#E5ECF6",
          "polar": {
           "angularaxis": {
            "gridcolor": "white",
            "linecolor": "white",
            "ticks": ""
           },
           "bgcolor": "#E5ECF6",
           "radialaxis": {
            "gridcolor": "white",
            "linecolor": "white",
            "ticks": ""
           }
          },
          "scene": {
           "xaxis": {
            "backgroundcolor": "#E5ECF6",
            "gridcolor": "white",
            "gridwidth": 2,
            "linecolor": "white",
            "showbackground": true,
            "ticks": "",
            "zerolinecolor": "white"
           },
           "yaxis": {
            "backgroundcolor": "#E5ECF6",
            "gridcolor": "white",
            "gridwidth": 2,
            "linecolor": "white",
            "showbackground": true,
            "ticks": "",
            "zerolinecolor": "white"
           },
           "zaxis": {
            "backgroundcolor": "#E5ECF6",
            "gridcolor": "white",
            "gridwidth": 2,
            "linecolor": "white",
            "showbackground": true,
            "ticks": "",
            "zerolinecolor": "white"
           }
          },
          "shapedefaults": {
           "line": {
            "color": "#2a3f5f"
           }
          },
          "ternary": {
           "aaxis": {
            "gridcolor": "white",
            "linecolor": "white",
            "ticks": ""
           },
           "baxis": {
            "gridcolor": "white",
            "linecolor": "white",
            "ticks": ""
           },
           "bgcolor": "#E5ECF6",
           "caxis": {
            "gridcolor": "white",
            "linecolor": "white",
            "ticks": ""
           }
          },
          "title": {
           "x": 0.05
          },
          "xaxis": {
           "automargin": true,
           "gridcolor": "white",
           "linecolor": "white",
           "ticks": "",
           "title": {
            "standoff": 15
           },
           "zerolinecolor": "white",
           "zerolinewidth": 2
          },
          "yaxis": {
           "automargin": true,
           "gridcolor": "white",
           "linecolor": "white",
           "ticks": "",
           "title": {
            "standoff": 15
           },
           "zerolinecolor": "white",
           "zerolinewidth": 2
          }
         }
        },
        "xaxis": {
         "anchor": "y",
         "constrain": "domain",
         "domain": [
          0,
          1
         ],
         "scaleanchor": "y",
         "title": {
          "text": "Year"
         }
        },
        "yaxis": {
         "anchor": "x",
         "autorange": "reversed",
         "constrain": "domain",
         "domain": [
          0,
          1
         ],
         "title": {
          "text": "Team"
         }
        }
       }
      },
      "text/html": [
       "<div>                            <div id=\"536204c1-bde1-46d7-b41d-cf53f9501826\" class=\"plotly-graph-div\" style=\"height:525px; width:100%;\"></div>            <script type=\"text/javascript\">                require([\"plotly\"], function(Plotly) {                    window.PLOTLYENV=window.PLOTLYENV || {};                                    if (document.getElementById(\"536204c1-bde1-46d7-b41d-cf53f9501826\")) {                    Plotly.newPlot(                        \"536204c1-bde1-46d7-b41d-cf53f9501826\",                        [{\"coloraxis\":\"coloraxis\",\"hovertemplate\":\"Year: %{x}<br>Team: %{y}<br>color: %{z}<extra></extra>\",\"name\":\"0\",\"type\":\"heatmap\",\"x\":[1946,1947,1948,1949,1950,1951,1952,1953,1954,1955,1956,1957,1958,1959,1960,1961,1962,1963,1964,1965,1966,1967,1968,1969,1970,1971,1972,1973,1974,1975,1976,1977,1978,1979,1980,1981,1982,1983,1984,1985,1986,1987,1988,1989,1990,1991,1992,1993,1994,1995,1996,1997,1998,1999,2000,2001,2002,2003,2004,2005,2006,2007,2008,2009,2010,2011,2012,2013,2014,2015,2016],\"xaxis\":\"x\",\"y\":[\"Celtics\",\"Knicks\",\"Pistons\",\"Warriors\"],\"yaxis\":\"y\",\"z\":[[0.367,0.417,0.417,0.324,0.565,0.591,0.648,0.583,0.5,0.542,0.611,0.681,0.722,0.787,0.722,0.75,0.725,0.738,0.775,0.675,0.741,0.659,0.585,0.415,0.537,0.683,0.829,0.683,0.732,0.659,0.537,0.39,0.354,0.744,0.756,0.768,0.683,0.756,0.768,0.817,0.72,0.695,0.512,0.634,0.683,0.622,0.585,0.39,0.427,0.402,0.183,0.439,0.38,0.427,0.439,0.598,0.537,0.439,0.549,0.402,0.293,0.805,0.756,0.61,0.683,0.591,0.506,0.305,0.488,0.585,0.625],[0.55,0.542,0.533,0.588,0.545,0.561,0.671,0.611,0.528,0.486,0.5,0.486,0.556,0.36,0.266,0.363,0.263,0.275,0.388,0.375,0.444,0.524,0.659,0.732,0.634,0.585,0.695,0.598,0.488,0.463,0.488,0.524,0.378,0.476,0.61,0.402,0.537,0.573,0.293,0.28,0.293,0.463,0.634,0.549,0.476,0.622,0.732,0.695,0.671,0.573,0.695,0.524,0.54,0.61,0.585,0.366,0.451,0.476,0.402,0.28,0.402,0.28,0.39,0.354,0.512,0.545,0.659,0.451,0.207,0.39,0.378],[null,null,0.367,0.588,0.471,0.439,0.522,0.556,0.597,0.514,0.472,0.458,0.389,0.4,0.43,0.463,0.425,0.288,0.388,0.275,0.37,0.488,0.39,0.378,0.549,0.317,0.488,0.634,0.488,0.439,0.537,0.463,0.366,0.195,0.256,0.476,0.451,0.598,0.561,0.561,0.634,0.659,0.768,0.72,0.61,0.585,0.488,0.244,0.341,0.561,0.659,0.451,0.58,0.512,0.39,0.61,0.61,0.659,0.659,0.78,0.646,0.72,0.476,0.329,0.366,0.379,0.354,0.354,0.39,0.537,0.467],[0.583,0.563,0.467,0.382,0.606,0.5,0.174,0.403,0.458,0.625,0.514,0.514,0.444,0.653,0.582,0.613,0.388,0.6,0.213,0.438,0.543,0.524,0.5,0.366,0.5,0.622,0.573,0.537,0.585,0.72,0.561,0.524,0.463,0.293,0.476,0.549,0.366,0.451,0.268,0.366,0.512,0.244,0.524,0.451,0.537,0.671,0.415,0.61,0.317,0.439,0.366,0.232,0.42,0.232,0.207,0.256,0.463,0.451,0.415,0.415,0.512,0.585,0.354,0.317,0.439,0.348,0.573,0.622,0.817,0.89,0.864]]}],                        {\"coloraxis\":{\"cmax\":2,\"cmin\":0,\"colorscale\":[[0.0,\"rgb(12,51,131)\"],[0.25,\"rgb(10,136,186)\"],[0.5,\"rgb(242,211,56)\"],[0.75,\"rgb(242,143,56)\"],[1.0,\"rgb(217,30,30)\"]]},\"margin\":{\"t\":60},\"template\":{\"data\":{\"bar\":[{\"error_x\":{\"color\":\"#2a3f5f\"},\"error_y\":{\"color\":\"#2a3f5f\"},\"marker\":{\"line\":{\"color\":\"#E5ECF6\",\"width\":0.5},\"pattern\":{\"fillmode\":\"overlay\",\"size\":10,\"solidity\":0.2}},\"type\":\"bar\"}],\"barpolar\":[{\"marker\":{\"line\":{\"color\":\"#E5ECF6\",\"width\":0.5},\"pattern\":{\"fillmode\":\"overlay\",\"size\":10,\"solidity\":0.2}},\"type\":\"barpolar\"}],\"carpet\":[{\"aaxis\":{\"endlinecolor\":\"#2a3f5f\",\"gridcolor\":\"white\",\"linecolor\":\"white\",\"minorgridcolor\":\"white\",\"startlinecolor\":\"#2a3f5f\"},\"baxis\":{\"endlinecolor\":\"#2a3f5f\",\"gridcolor\":\"white\",\"linecolor\":\"white\",\"minorgridcolor\":\"white\",\"startlinecolor\":\"#2a3f5f\"},\"type\":\"carpet\"}],\"choropleth\":[{\"colorbar\":{\"outlinewidth\":0,\"ticks\":\"\"},\"type\":\"choropleth\"}],\"contour\":[{\"colorbar\":{\"outlinewidth\":0,\"ticks\":\"\"},\"colorscale\":[[0.0,\"#0d0887\"],[0.1111111111111111,\"#46039f\"],[0.2222222222222222,\"#7201a8\"],[0.3333333333333333,\"#9c179e\"],[0.4444444444444444,\"#bd3786\"],[0.5555555555555556,\"#d8576b\"],[0.6666666666666666,\"#ed7953\"],[0.7777777777777778,\"#fb9f3a\"],[0.8888888888888888,\"#fdca26\"],[1.0,\"#f0f921\"]],\"type\":\"contour\"}],\"contourcarpet\":[{\"colorbar\":{\"outlinewidth\":0,\"ticks\":\"\"},\"type\":\"contourcarpet\"}],\"heatmap\":[{\"colorbar\":{\"outlinewidth\":0,\"ticks\":\"\"},\"colorscale\":[[0.0,\"#0d0887\"],[0.1111111111111111,\"#46039f\"],[0.2222222222222222,\"#7201a8\"],[0.3333333333333333,\"#9c179e\"],[0.4444444444444444,\"#bd3786\"],[0.5555555555555556,\"#d8576b\"],[0.6666666666666666,\"#ed7953\"],[0.7777777777777778,\"#fb9f3a\"],[0.8888888888888888,\"#fdca26\"],[1.0,\"#f0f921\"]],\"type\":\"heatmap\"}],\"heatmapgl\":[{\"colorbar\":{\"outlinewidth\":0,\"ticks\":\"\"},\"colorscale\":[[0.0,\"#0d0887\"],[0.1111111111111111,\"#46039f\"],[0.2222222222222222,\"#7201a8\"],[0.3333333333333333,\"#9c179e\"],[0.4444444444444444,\"#bd3786\"],[0.5555555555555556,\"#d8576b\"],[0.6666666666666666,\"#ed7953\"],[0.7777777777777778,\"#fb9f3a\"],[0.8888888888888888,\"#fdca26\"],[1.0,\"#f0f921\"]],\"type\":\"heatmapgl\"}],\"histogram\":[{\"marker\":{\"pattern\":{\"fillmode\":\"overlay\",\"size\":10,\"solidity\":0.2}},\"type\":\"histogram\"}],\"histogram2d\":[{\"colorbar\":{\"outlinewidth\":0,\"ticks\":\"\"},\"colorscale\":[[0.0,\"#0d0887\"],[0.1111111111111111,\"#46039f\"],[0.2222222222222222,\"#7201a8\"],[0.3333333333333333,\"#9c179e\"],[0.4444444444444444,\"#bd3786\"],[0.5555555555555556,\"#d8576b\"],[0.6666666666666666,\"#ed7953\"],[0.7777777777777778,\"#fb9f3a\"],[0.8888888888888888,\"#fdca26\"],[1.0,\"#f0f921\"]],\"type\":\"histogram2d\"}],\"histogram2dcontour\":[{\"colorbar\":{\"outlinewidth\":0,\"ticks\":\"\"},\"colorscale\":[[0.0,\"#0d0887\"],[0.1111111111111111,\"#46039f\"],[0.2222222222222222,\"#7201a8\"],[0.3333333333333333,\"#9c179e\"],[0.4444444444444444,\"#bd3786\"],[0.5555555555555556,\"#d8576b\"],[0.6666666666666666,\"#ed7953\"],[0.7777777777777778,\"#fb9f3a\"],[0.8888888888888888,\"#fdca26\"],[1.0,\"#f0f921\"]],\"type\":\"histogram2dcontour\"}],\"mesh3d\":[{\"colorbar\":{\"outlinewidth\":0,\"ticks\":\"\"},\"type\":\"mesh3d\"}],\"parcoords\":[{\"line\":{\"colorbar\":{\"outlinewidth\":0,\"ticks\":\"\"}},\"type\":\"parcoords\"}],\"pie\":[{\"automargin\":true,\"type\":\"pie\"}],\"scatter\":[{\"marker\":{\"colorbar\":{\"outlinewidth\":0,\"ticks\":\"\"}},\"type\":\"scatter\"}],\"scatter3d\":[{\"line\":{\"colorbar\":{\"outlinewidth\":0,\"ticks\":\"\"}},\"marker\":{\"colorbar\":{\"outlinewidth\":0,\"ticks\":\"\"}},\"type\":\"scatter3d\"}],\"scattercarpet\":[{\"marker\":{\"colorbar\":{\"outlinewidth\":0,\"ticks\":\"\"}},\"type\":\"scattercarpet\"}],\"scattergeo\":[{\"marker\":{\"colorbar\":{\"outlinewidth\":0,\"ticks\":\"\"}},\"type\":\"scattergeo\"}],\"scattergl\":[{\"marker\":{\"colorbar\":{\"outlinewidth\":0,\"ticks\":\"\"}},\"type\":\"scattergl\"}],\"scattermapbox\":[{\"marker\":{\"colorbar\":{\"outlinewidth\":0,\"ticks\":\"\"}},\"type\":\"scattermapbox\"}],\"scatterpolar\":[{\"marker\":{\"colorbar\":{\"outlinewidth\":0,\"ticks\":\"\"}},\"type\":\"scatterpolar\"}],\"scatterpolargl\":[{\"marker\":{\"colorbar\":{\"outlinewidth\":0,\"ticks\":\"\"}},\"type\":\"scatterpolargl\"}],\"scatterternary\":[{\"marker\":{\"colorbar\":{\"outlinewidth\":0,\"ticks\":\"\"}},\"type\":\"scatterternary\"}],\"surface\":[{\"colorbar\":{\"outlinewidth\":0,\"ticks\":\"\"},\"colorscale\":[[0.0,\"#0d0887\"],[0.1111111111111111,\"#46039f\"],[0.2222222222222222,\"#7201a8\"],[0.3333333333333333,\"#9c179e\"],[0.4444444444444444,\"#bd3786\"],[0.5555555555555556,\"#d8576b\"],[0.6666666666666666,\"#ed7953\"],[0.7777777777777778,\"#fb9f3a\"],[0.8888888888888888,\"#fdca26\"],[1.0,\"#f0f921\"]],\"type\":\"surface\"}],\"table\":[{\"cells\":{\"fill\":{\"color\":\"#EBF0F8\"},\"line\":{\"color\":\"white\"}},\"header\":{\"fill\":{\"color\":\"#C8D4E3\"},\"line\":{\"color\":\"white\"}},\"type\":\"table\"}]},\"layout\":{\"annotationdefaults\":{\"arrowcolor\":\"#2a3f5f\",\"arrowhead\":0,\"arrowwidth\":1},\"autotypenumbers\":\"strict\",\"coloraxis\":{\"colorbar\":{\"outlinewidth\":0,\"ticks\":\"\"}},\"colorscale\":{\"diverging\":[[0,\"#8e0152\"],[0.1,\"#c51b7d\"],[0.2,\"#de77ae\"],[0.3,\"#f1b6da\"],[0.4,\"#fde0ef\"],[0.5,\"#f7f7f7\"],[0.6,\"#e6f5d0\"],[0.7,\"#b8e186\"],[0.8,\"#7fbc41\"],[0.9,\"#4d9221\"],[1,\"#276419\"]],\"sequential\":[[0.0,\"#0d0887\"],[0.1111111111111111,\"#46039f\"],[0.2222222222222222,\"#7201a8\"],[0.3333333333333333,\"#9c179e\"],[0.4444444444444444,\"#bd3786\"],[0.5555555555555556,\"#d8576b\"],[0.6666666666666666,\"#ed7953\"],[0.7777777777777778,\"#fb9f3a\"],[0.8888888888888888,\"#fdca26\"],[1.0,\"#f0f921\"]],\"sequentialminus\":[[0.0,\"#0d0887\"],[0.1111111111111111,\"#46039f\"],[0.2222222222222222,\"#7201a8\"],[0.3333333333333333,\"#9c179e\"],[0.4444444444444444,\"#bd3786\"],[0.5555555555555556,\"#d8576b\"],[0.6666666666666666,\"#ed7953\"],[0.7777777777777778,\"#fb9f3a\"],[0.8888888888888888,\"#fdca26\"],[1.0,\"#f0f921\"]]},\"colorway\":[\"#636efa\",\"#EF553B\",\"#00cc96\",\"#ab63fa\",\"#FFA15A\",\"#19d3f3\",\"#FF6692\",\"#B6E880\",\"#FF97FF\",\"#FECB52\"],\"font\":{\"color\":\"#2a3f5f\"},\"geo\":{\"bgcolor\":\"white\",\"lakecolor\":\"white\",\"landcolor\":\"#E5ECF6\",\"showlakes\":true,\"showland\":true,\"subunitcolor\":\"white\"},\"hoverlabel\":{\"align\":\"left\"},\"hovermode\":\"closest\",\"mapbox\":{\"style\":\"light\"},\"paper_bgcolor\":\"white\",\"plot_bgcolor\":\"#E5ECF6\",\"polar\":{\"angularaxis\":{\"gridcolor\":\"white\",\"linecolor\":\"white\",\"ticks\":\"\"},\"bgcolor\":\"#E5ECF6\",\"radialaxis\":{\"gridcolor\":\"white\",\"linecolor\":\"white\",\"ticks\":\"\"}},\"scene\":{\"xaxis\":{\"backgroundcolor\":\"#E5ECF6\",\"gridcolor\":\"white\",\"gridwidth\":2,\"linecolor\":\"white\",\"showbackground\":true,\"ticks\":\"\",\"zerolinecolor\":\"white\"},\"yaxis\":{\"backgroundcolor\":\"#E5ECF6\",\"gridcolor\":\"white\",\"gridwidth\":2,\"linecolor\":\"white\",\"showbackground\":true,\"ticks\":\"\",\"zerolinecolor\":\"white\"},\"zaxis\":{\"backgroundcolor\":\"#E5ECF6\",\"gridcolor\":\"white\",\"gridwidth\":2,\"linecolor\":\"white\",\"showbackground\":true,\"ticks\":\"\",\"zerolinecolor\":\"white\"}},\"shapedefaults\":{\"line\":{\"color\":\"#2a3f5f\"}},\"ternary\":{\"aaxis\":{\"gridcolor\":\"white\",\"linecolor\":\"white\",\"ticks\":\"\"},\"baxis\":{\"gridcolor\":\"white\",\"linecolor\":\"white\",\"ticks\":\"\"},\"bgcolor\":\"#E5ECF6\",\"caxis\":{\"gridcolor\":\"white\",\"linecolor\":\"white\",\"ticks\":\"\"}},\"title\":{\"x\":0.05},\"xaxis\":{\"automargin\":true,\"gridcolor\":\"white\",\"linecolor\":\"white\",\"ticks\":\"\",\"title\":{\"standoff\":15},\"zerolinecolor\":\"white\",\"zerolinewidth\":2},\"yaxis\":{\"automargin\":true,\"gridcolor\":\"white\",\"linecolor\":\"white\",\"ticks\":\"\",\"title\":{\"standoff\":15},\"zerolinecolor\":\"white\",\"zerolinewidth\":2}}},\"xaxis\":{\"anchor\":\"y\",\"constrain\":\"domain\",\"domain\":[0.0,1.0],\"scaleanchor\":\"y\",\"title\":{\"text\":\"Year\"}},\"yaxis\":{\"anchor\":\"x\",\"autorange\":\"reversed\",\"constrain\":\"domain\",\"domain\":[0.0,1.0],\"title\":{\"text\":\"Team\"}}},                        {\"responsive\": true}                    ).then(function(){\n",
       "                            \n",
       "var gd = document.getElementById('536204c1-bde1-46d7-b41d-cf53f9501826');\n",
       "var x = new MutationObserver(function (mutations, observer) {{\n",
       "        var display = window.getComputedStyle(gd).display;\n",
       "        if (!display || display === 'none') {{\n",
       "            console.log([gd, 'removed!']);\n",
       "            Plotly.purge(gd);\n",
       "            observer.disconnect();\n",
       "        }}\n",
       "}});\n",
       "\n",
       "// Listen for the removal of the full notebook cells\n",
       "var notebookContainer = gd.closest('#notebook-container');\n",
       "if (notebookContainer) {{\n",
       "    x.observe(notebookContainer, {childList: true});\n",
       "}}\n",
       "\n",
       "// Listen for the clearing of the current output cell\n",
       "var outputEl = gd.closest('.output');\n",
       "if (outputEl) {{\n",
       "    x.observe(outputEl, {childList: true});\n",
       "}}\n",
       "\n",
       "                        })                };                });            </script>        </div>"
      ]
     },
     "metadata": {},
     "output_type": "display_data"
    }
   ],
   "source": [
    "# Making The HeatMap Just For The 5 Teams\n",
    "px.imshow( pv2 ,\n",
    "          \n",
    "          color_continuous_scale = px.colors.diverging.Portland,\n",
    "          range_color =[0,2]\n",
    "         \n",
    "         )"
   ]
  },
  {
   "cell_type": "markdown",
   "id": "0cec2605",
   "metadata": {},
   "source": [
    "## -------------- -------------- -------------- -------------- -------------- -------------- -------------- -------------- --------------\n"
   ]
  },
  {
   "cell_type": "code",
   "execution_count": 11,
   "id": "5c511ff6",
   "metadata": {},
   "outputs": [],
   "source": [
    "# Loading Another Data Frame For Berlin_crimes\n",
    "\n",
    "bc = pd.read_csv('https://raw.githubusercontent.com/Coding-with-Adam/Dash-by-Plotly/master/Plotly_Graphs/Heatmaps/Berlin_crimes.csv')"
   ]
  },
  {
   "cell_type": "code",
   "execution_count": 11,
   "id": "128a6801",
   "metadata": {},
   "outputs": [
    {
     "data": {
      "text/html": [
       "<div>\n",
       "<style scoped>\n",
       "    .dataframe tbody tr th:only-of-type {\n",
       "        vertical-align: middle;\n",
       "    }\n",
       "\n",
       "    .dataframe tbody tr th {\n",
       "        vertical-align: top;\n",
       "    }\n",
       "\n",
       "    .dataframe thead th {\n",
       "        text-align: right;\n",
       "    }\n",
       "</style>\n",
       "<table border=\"1\" class=\"dataframe\">\n",
       "  <thead>\n",
       "    <tr style=\"text-align: right;\">\n",
       "      <th></th>\n",
       "      <th>Year</th>\n",
       "      <th>District</th>\n",
       "      <th>Code</th>\n",
       "      <th>Location</th>\n",
       "      <th>Robbery</th>\n",
       "      <th>Street_robbery</th>\n",
       "      <th>Injury</th>\n",
       "      <th>Agg_assault</th>\n",
       "      <th>Threat</th>\n",
       "      <th>Theft</th>\n",
       "      <th>Car</th>\n",
       "      <th>From_car</th>\n",
       "      <th>Bike</th>\n",
       "      <th>Burglary</th>\n",
       "      <th>Fire</th>\n",
       "      <th>Arson</th>\n",
       "      <th>Damage</th>\n",
       "      <th>Graffiti</th>\n",
       "      <th>Drugs</th>\n",
       "      <th>Local</th>\n",
       "    </tr>\n",
       "  </thead>\n",
       "  <tbody>\n",
       "    <tr>\n",
       "      <th>0</th>\n",
       "      <td>2012</td>\n",
       "      <td>Mitte</td>\n",
       "      <td>10111</td>\n",
       "      <td>Tiergarten Süd</td>\n",
       "      <td>70</td>\n",
       "      <td>46</td>\n",
       "      <td>586</td>\n",
       "      <td>194</td>\n",
       "      <td>118</td>\n",
       "      <td>2263</td>\n",
       "      <td>18</td>\n",
       "      <td>328</td>\n",
       "      <td>120</td>\n",
       "      <td>68</td>\n",
       "      <td>16</td>\n",
       "      <td>4</td>\n",
       "      <td>273</td>\n",
       "      <td>26</td>\n",
       "      <td>171</td>\n",
       "      <td>1032</td>\n",
       "    </tr>\n",
       "    <tr>\n",
       "      <th>1</th>\n",
       "      <td>2012</td>\n",
       "      <td>Mitte</td>\n",
       "      <td>10112</td>\n",
       "      <td>Regierungsviertel</td>\n",
       "      <td>65</td>\n",
       "      <td>29</td>\n",
       "      <td>474</td>\n",
       "      <td>123</td>\n",
       "      <td>142</td>\n",
       "      <td>3203</td>\n",
       "      <td>10</td>\n",
       "      <td>307</td>\n",
       "      <td>170</td>\n",
       "      <td>37</td>\n",
       "      <td>10</td>\n",
       "      <td>4</td>\n",
       "      <td>380</td>\n",
       "      <td>124</td>\n",
       "      <td>98</td>\n",
       "      <td>870</td>\n",
       "    </tr>\n",
       "    <tr>\n",
       "      <th>2</th>\n",
       "      <td>2012</td>\n",
       "      <td>Mitte</td>\n",
       "      <td>10113</td>\n",
       "      <td>Alexanderplatz</td>\n",
       "      <td>242</td>\n",
       "      <td>136</td>\n",
       "      <td>1541</td>\n",
       "      <td>454</td>\n",
       "      <td>304</td>\n",
       "      <td>8988</td>\n",
       "      <td>81</td>\n",
       "      <td>792</td>\n",
       "      <td>822</td>\n",
       "      <td>275</td>\n",
       "      <td>49</td>\n",
       "      <td>27</td>\n",
       "      <td>1538</td>\n",
       "      <td>522</td>\n",
       "      <td>435</td>\n",
       "      <td>3108</td>\n",
       "    </tr>\n",
       "    <tr>\n",
       "      <th>3</th>\n",
       "      <td>2012</td>\n",
       "      <td>Mitte</td>\n",
       "      <td>10114</td>\n",
       "      <td>Brunnenstraße Süd</td>\n",
       "      <td>52</td>\n",
       "      <td>25</td>\n",
       "      <td>254</td>\n",
       "      <td>60</td>\n",
       "      <td>66</td>\n",
       "      <td>1916</td>\n",
       "      <td>86</td>\n",
       "      <td>192</td>\n",
       "      <td>396</td>\n",
       "      <td>131</td>\n",
       "      <td>14</td>\n",
       "      <td>5</td>\n",
       "      <td>428</td>\n",
       "      <td>122</td>\n",
       "      <td>213</td>\n",
       "      <td>752</td>\n",
       "    </tr>\n",
       "    <tr>\n",
       "      <th>4</th>\n",
       "      <td>2012</td>\n",
       "      <td>Mitte</td>\n",
       "      <td>10221</td>\n",
       "      <td>Moabit West</td>\n",
       "      <td>130</td>\n",
       "      <td>51</td>\n",
       "      <td>629</td>\n",
       "      <td>185</td>\n",
       "      <td>199</td>\n",
       "      <td>2470</td>\n",
       "      <td>94</td>\n",
       "      <td>410</td>\n",
       "      <td>325</td>\n",
       "      <td>161</td>\n",
       "      <td>42</td>\n",
       "      <td>22</td>\n",
       "      <td>516</td>\n",
       "      <td>64</td>\n",
       "      <td>259</td>\n",
       "      <td>1403</td>\n",
       "    </tr>\n",
       "  </tbody>\n",
       "</table>\n",
       "</div>"
      ],
      "text/plain": [
       "   Year District   Code           Location  Robbery  Street_robbery  Injury  \\\n",
       "0  2012    Mitte  10111     Tiergarten Süd       70              46     586   \n",
       "1  2012    Mitte  10112  Regierungsviertel       65              29     474   \n",
       "2  2012    Mitte  10113     Alexanderplatz      242             136    1541   \n",
       "3  2012    Mitte  10114  Brunnenstraße Süd       52              25     254   \n",
       "4  2012    Mitte  10221        Moabit West      130              51     629   \n",
       "\n",
       "   Agg_assault  Threat  Theft  Car  From_car  Bike  Burglary  Fire  Arson  \\\n",
       "0          194     118   2263   18       328   120        68    16      4   \n",
       "1          123     142   3203   10       307   170        37    10      4   \n",
       "2          454     304   8988   81       792   822       275    49     27   \n",
       "3           60      66   1916   86       192   396       131    14      5   \n",
       "4          185     199   2470   94       410   325       161    42     22   \n",
       "\n",
       "   Damage  Graffiti  Drugs  Local  \n",
       "0     273        26    171   1032  \n",
       "1     380       124     98    870  \n",
       "2    1538       522    435   3108  \n",
       "3     428       122    213    752  \n",
       "4     516        64    259   1403  "
      ]
     },
     "execution_count": 11,
     "metadata": {},
     "output_type": "execute_result"
    }
   ],
   "source": [
    "bc.head()"
   ]
  },
  {
   "cell_type": "code",
   "execution_count": 16,
   "id": "0779b5ce",
   "metadata": {},
   "outputs": [],
   "source": [
    "Crime_Sum = bc.groupby(['District','Year'], as_index = False)[['Robbery','Theft','Drugs']].sum()"
   ]
  },
  {
   "cell_type": "code",
   "execution_count": 17,
   "id": "99e52bec",
   "metadata": {},
   "outputs": [
    {
     "data": {
      "text/html": [
       "<div>\n",
       "<style scoped>\n",
       "    .dataframe tbody tr th:only-of-type {\n",
       "        vertical-align: middle;\n",
       "    }\n",
       "\n",
       "    .dataframe tbody tr th {\n",
       "        vertical-align: top;\n",
       "    }\n",
       "\n",
       "    .dataframe thead th {\n",
       "        text-align: right;\n",
       "    }\n",
       "</style>\n",
       "<table border=\"1\" class=\"dataframe\">\n",
       "  <thead>\n",
       "    <tr style=\"text-align: right;\">\n",
       "      <th></th>\n",
       "      <th>District</th>\n",
       "      <th>Year</th>\n",
       "      <th>Robbery</th>\n",
       "      <th>Theft</th>\n",
       "      <th>Drugs</th>\n",
       "    </tr>\n",
       "  </thead>\n",
       "  <tbody>\n",
       "    <tr>\n",
       "      <th>0</th>\n",
       "      <td>Charlottenburg-Wilmersdorf</td>\n",
       "      <td>2012</td>\n",
       "      <td>643</td>\n",
       "      <td>24061</td>\n",
       "      <td>1064</td>\n",
       "    </tr>\n",
       "    <tr>\n",
       "      <th>1</th>\n",
       "      <td>Charlottenburg-Wilmersdorf</td>\n",
       "      <td>2013</td>\n",
       "      <td>639</td>\n",
       "      <td>25733</td>\n",
       "      <td>1180</td>\n",
       "    </tr>\n",
       "    <tr>\n",
       "      <th>2</th>\n",
       "      <td>Charlottenburg-Wilmersdorf</td>\n",
       "      <td>2014</td>\n",
       "      <td>641</td>\n",
       "      <td>26829</td>\n",
       "      <td>1208</td>\n",
       "    </tr>\n",
       "    <tr>\n",
       "      <th>3</th>\n",
       "      <td>Charlottenburg-Wilmersdorf</td>\n",
       "      <td>2015</td>\n",
       "      <td>536</td>\n",
       "      <td>30622</td>\n",
       "      <td>885</td>\n",
       "    </tr>\n",
       "    <tr>\n",
       "      <th>4</th>\n",
       "      <td>Charlottenburg-Wilmersdorf</td>\n",
       "      <td>2016</td>\n",
       "      <td>523</td>\n",
       "      <td>28893</td>\n",
       "      <td>948</td>\n",
       "    </tr>\n",
       "    <tr>\n",
       "      <th>...</th>\n",
       "      <td>...</td>\n",
       "      <td>...</td>\n",
       "      <td>...</td>\n",
       "      <td>...</td>\n",
       "      <td>...</td>\n",
       "    </tr>\n",
       "    <tr>\n",
       "      <th>91</th>\n",
       "      <td>Treptow-Köpenick</td>\n",
       "      <td>2015</td>\n",
       "      <td>197</td>\n",
       "      <td>11706</td>\n",
       "      <td>517</td>\n",
       "    </tr>\n",
       "    <tr>\n",
       "      <th>92</th>\n",
       "      <td>Treptow-Köpenick</td>\n",
       "      <td>2016</td>\n",
       "      <td>146</td>\n",
       "      <td>12524</td>\n",
       "      <td>371</td>\n",
       "    </tr>\n",
       "    <tr>\n",
       "      <th>93</th>\n",
       "      <td>Treptow-Köpenick</td>\n",
       "      <td>2017</td>\n",
       "      <td>200</td>\n",
       "      <td>11453</td>\n",
       "      <td>495</td>\n",
       "    </tr>\n",
       "    <tr>\n",
       "      <th>94</th>\n",
       "      <td>Treptow-Köpenick</td>\n",
       "      <td>2018</td>\n",
       "      <td>216</td>\n",
       "      <td>11145</td>\n",
       "      <td>574</td>\n",
       "    </tr>\n",
       "    <tr>\n",
       "      <th>95</th>\n",
       "      <td>Treptow-Köpenick</td>\n",
       "      <td>2019</td>\n",
       "      <td>169</td>\n",
       "      <td>11108</td>\n",
       "      <td>633</td>\n",
       "    </tr>\n",
       "  </tbody>\n",
       "</table>\n",
       "<p>96 rows × 5 columns</p>\n",
       "</div>"
      ],
      "text/plain": [
       "                      District  Year  Robbery  Theft  Drugs\n",
       "0   Charlottenburg-Wilmersdorf  2012      643  24061   1064\n",
       "1   Charlottenburg-Wilmersdorf  2013      639  25733   1180\n",
       "2   Charlottenburg-Wilmersdorf  2014      641  26829   1208\n",
       "3   Charlottenburg-Wilmersdorf  2015      536  30622    885\n",
       "4   Charlottenburg-Wilmersdorf  2016      523  28893    948\n",
       "..                         ...   ...      ...    ...    ...\n",
       "91            Treptow-Köpenick  2015      197  11706    517\n",
       "92            Treptow-Köpenick  2016      146  12524    371\n",
       "93            Treptow-Köpenick  2017      200  11453    495\n",
       "94            Treptow-Köpenick  2018      216  11145    574\n",
       "95            Treptow-Köpenick  2019      169  11108    633\n",
       "\n",
       "[96 rows x 5 columns]"
      ]
     },
     "execution_count": 17,
     "metadata": {},
     "output_type": "execute_result"
    }
   ],
   "source": [
    "Crime_Sum"
   ]
  },
  {
   "cell_type": "code",
   "execution_count": 19,
   "id": "af3a6e44",
   "metadata": {
    "scrolled": false
   },
   "outputs": [
    {
     "data": {
      "text/html": [
       "<div>\n",
       "<style scoped>\n",
       "    .dataframe tbody tr th:only-of-type {\n",
       "        vertical-align: middle;\n",
       "    }\n",
       "\n",
       "    .dataframe tbody tr th {\n",
       "        vertical-align: top;\n",
       "    }\n",
       "\n",
       "    .dataframe thead th {\n",
       "        text-align: right;\n",
       "    }\n",
       "</style>\n",
       "<table border=\"1\" class=\"dataframe\">\n",
       "  <thead>\n",
       "    <tr style=\"text-align: right;\">\n",
       "      <th></th>\n",
       "      <th>District</th>\n",
       "      <th>Year</th>\n",
       "      <th>Robbery</th>\n",
       "      <th>Theft</th>\n",
       "      <th>Drugs</th>\n",
       "      <th>sum</th>\n",
       "    </tr>\n",
       "  </thead>\n",
       "  <tbody>\n",
       "    <tr>\n",
       "      <th>0</th>\n",
       "      <td>Charlottenburg-Wilmersdorf</td>\n",
       "      <td>2012</td>\n",
       "      <td>643</td>\n",
       "      <td>24061</td>\n",
       "      <td>1064</td>\n",
       "      <td>25768</td>\n",
       "    </tr>\n",
       "    <tr>\n",
       "      <th>1</th>\n",
       "      <td>Charlottenburg-Wilmersdorf</td>\n",
       "      <td>2013</td>\n",
       "      <td>639</td>\n",
       "      <td>25733</td>\n",
       "      <td>1180</td>\n",
       "      <td>27552</td>\n",
       "    </tr>\n",
       "    <tr>\n",
       "      <th>2</th>\n",
       "      <td>Charlottenburg-Wilmersdorf</td>\n",
       "      <td>2014</td>\n",
       "      <td>641</td>\n",
       "      <td>26829</td>\n",
       "      <td>1208</td>\n",
       "      <td>28678</td>\n",
       "    </tr>\n",
       "    <tr>\n",
       "      <th>3</th>\n",
       "      <td>Charlottenburg-Wilmersdorf</td>\n",
       "      <td>2015</td>\n",
       "      <td>536</td>\n",
       "      <td>30622</td>\n",
       "      <td>885</td>\n",
       "      <td>32043</td>\n",
       "    </tr>\n",
       "    <tr>\n",
       "      <th>4</th>\n",
       "      <td>Charlottenburg-Wilmersdorf</td>\n",
       "      <td>2016</td>\n",
       "      <td>523</td>\n",
       "      <td>28893</td>\n",
       "      <td>948</td>\n",
       "      <td>30364</td>\n",
       "    </tr>\n",
       "    <tr>\n",
       "      <th>...</th>\n",
       "      <td>...</td>\n",
       "      <td>...</td>\n",
       "      <td>...</td>\n",
       "      <td>...</td>\n",
       "      <td>...</td>\n",
       "      <td>...</td>\n",
       "    </tr>\n",
       "    <tr>\n",
       "      <th>91</th>\n",
       "      <td>Treptow-Köpenick</td>\n",
       "      <td>2015</td>\n",
       "      <td>197</td>\n",
       "      <td>11706</td>\n",
       "      <td>517</td>\n",
       "      <td>12420</td>\n",
       "    </tr>\n",
       "    <tr>\n",
       "      <th>92</th>\n",
       "      <td>Treptow-Köpenick</td>\n",
       "      <td>2016</td>\n",
       "      <td>146</td>\n",
       "      <td>12524</td>\n",
       "      <td>371</td>\n",
       "      <td>13041</td>\n",
       "    </tr>\n",
       "    <tr>\n",
       "      <th>93</th>\n",
       "      <td>Treptow-Köpenick</td>\n",
       "      <td>2017</td>\n",
       "      <td>200</td>\n",
       "      <td>11453</td>\n",
       "      <td>495</td>\n",
       "      <td>12148</td>\n",
       "    </tr>\n",
       "    <tr>\n",
       "      <th>94</th>\n",
       "      <td>Treptow-Köpenick</td>\n",
       "      <td>2018</td>\n",
       "      <td>216</td>\n",
       "      <td>11145</td>\n",
       "      <td>574</td>\n",
       "      <td>11935</td>\n",
       "    </tr>\n",
       "    <tr>\n",
       "      <th>95</th>\n",
       "      <td>Treptow-Köpenick</td>\n",
       "      <td>2019</td>\n",
       "      <td>169</td>\n",
       "      <td>11108</td>\n",
       "      <td>633</td>\n",
       "      <td>11910</td>\n",
       "    </tr>\n",
       "  </tbody>\n",
       "</table>\n",
       "<p>96 rows × 6 columns</p>\n",
       "</div>"
      ],
      "text/plain": [
       "                      District  Year  Robbery  Theft  Drugs    sum\n",
       "0   Charlottenburg-Wilmersdorf  2012      643  24061   1064  25768\n",
       "1   Charlottenburg-Wilmersdorf  2013      639  25733   1180  27552\n",
       "2   Charlottenburg-Wilmersdorf  2014      641  26829   1208  28678\n",
       "3   Charlottenburg-Wilmersdorf  2015      536  30622    885  32043\n",
       "4   Charlottenburg-Wilmersdorf  2016      523  28893    948  30364\n",
       "..                         ...   ...      ...    ...    ...    ...\n",
       "91            Treptow-Köpenick  2015      197  11706    517  12420\n",
       "92            Treptow-Köpenick  2016      146  12524    371  13041\n",
       "93            Treptow-Köpenick  2017      200  11453    495  12148\n",
       "94            Treptow-Köpenick  2018      216  11145    574  11935\n",
       "95            Treptow-Köpenick  2019      169  11108    633  11910\n",
       "\n",
       "[96 rows x 6 columns]"
      ]
     },
     "execution_count": 19,
     "metadata": {},
     "output_type": "execute_result"
    }
   ],
   "source": [
    "# Make A Coloumn For Sum Some Value\n",
    "Crime_Sum['sum'] = Crime_Sum ['Robbery']+Crime_Sum['Theft']+Crime_Sum['Drugs']\n",
    "\n",
    "# Show It\n",
    "Crime_Sum"
   ]
  },
  {
   "cell_type": "code",
   "execution_count": 30,
   "id": "9bab9f41",
   "metadata": {},
   "outputs": [
    {
     "data": {
      "text/plain": [
       "array(['Charlottenburg-Wilmersdorf', 'Friedrichshain-Kreuzberg',\n",
       "       'Lichtenberg'], dtype=object)"
      ]
     },
     "execution_count": 30,
     "metadata": {},
     "output_type": "execute_result"
    }
   ],
   "source": [
    "Crime_Sum.District.unique()"
   ]
  },
  {
   "cell_type": "code",
   "execution_count": 21,
   "id": "5e4e8a0f",
   "metadata": {},
   "outputs": [
    {
     "data": {
      "text/html": [
       "<div>\n",
       "<style scoped>\n",
       "    .dataframe tbody tr th:only-of-type {\n",
       "        vertical-align: middle;\n",
       "    }\n",
       "\n",
       "    .dataframe tbody tr th {\n",
       "        vertical-align: top;\n",
       "    }\n",
       "\n",
       "    .dataframe thead th {\n",
       "        text-align: right;\n",
       "    }\n",
       "</style>\n",
       "<table border=\"1\" class=\"dataframe\">\n",
       "  <thead>\n",
       "    <tr style=\"text-align: right;\">\n",
       "      <th></th>\n",
       "      <th>District</th>\n",
       "      <th>Year</th>\n",
       "      <th>Robbery</th>\n",
       "      <th>Theft</th>\n",
       "      <th>Drugs</th>\n",
       "      <th>sum</th>\n",
       "    </tr>\n",
       "  </thead>\n",
       "  <tbody>\n",
       "    <tr>\n",
       "      <th>0</th>\n",
       "      <td>Charlottenburg-Wilmersdorf</td>\n",
       "      <td>2012</td>\n",
       "      <td>643</td>\n",
       "      <td>24061</td>\n",
       "      <td>1064</td>\n",
       "      <td>25768</td>\n",
       "    </tr>\n",
       "    <tr>\n",
       "      <th>1</th>\n",
       "      <td>Charlottenburg-Wilmersdorf</td>\n",
       "      <td>2013</td>\n",
       "      <td>639</td>\n",
       "      <td>25733</td>\n",
       "      <td>1180</td>\n",
       "      <td>27552</td>\n",
       "    </tr>\n",
       "    <tr>\n",
       "      <th>2</th>\n",
       "      <td>Charlottenburg-Wilmersdorf</td>\n",
       "      <td>2014</td>\n",
       "      <td>641</td>\n",
       "      <td>26829</td>\n",
       "      <td>1208</td>\n",
       "      <td>28678</td>\n",
       "    </tr>\n",
       "    <tr>\n",
       "      <th>3</th>\n",
       "      <td>Charlottenburg-Wilmersdorf</td>\n",
       "      <td>2015</td>\n",
       "      <td>536</td>\n",
       "      <td>30622</td>\n",
       "      <td>885</td>\n",
       "      <td>32043</td>\n",
       "    </tr>\n",
       "    <tr>\n",
       "      <th>4</th>\n",
       "      <td>Charlottenburg-Wilmersdorf</td>\n",
       "      <td>2016</td>\n",
       "      <td>523</td>\n",
       "      <td>28893</td>\n",
       "      <td>948</td>\n",
       "      <td>30364</td>\n",
       "    </tr>\n",
       "    <tr>\n",
       "      <th>...</th>\n",
       "      <td>...</td>\n",
       "      <td>...</td>\n",
       "      <td>...</td>\n",
       "      <td>...</td>\n",
       "      <td>...</td>\n",
       "      <td>...</td>\n",
       "    </tr>\n",
       "    <tr>\n",
       "      <th>91</th>\n",
       "      <td>Treptow-Köpenick</td>\n",
       "      <td>2015</td>\n",
       "      <td>197</td>\n",
       "      <td>11706</td>\n",
       "      <td>517</td>\n",
       "      <td>12420</td>\n",
       "    </tr>\n",
       "    <tr>\n",
       "      <th>92</th>\n",
       "      <td>Treptow-Köpenick</td>\n",
       "      <td>2016</td>\n",
       "      <td>146</td>\n",
       "      <td>12524</td>\n",
       "      <td>371</td>\n",
       "      <td>13041</td>\n",
       "    </tr>\n",
       "    <tr>\n",
       "      <th>93</th>\n",
       "      <td>Treptow-Köpenick</td>\n",
       "      <td>2017</td>\n",
       "      <td>200</td>\n",
       "      <td>11453</td>\n",
       "      <td>495</td>\n",
       "      <td>12148</td>\n",
       "    </tr>\n",
       "    <tr>\n",
       "      <th>94</th>\n",
       "      <td>Treptow-Köpenick</td>\n",
       "      <td>2018</td>\n",
       "      <td>216</td>\n",
       "      <td>11145</td>\n",
       "      <td>574</td>\n",
       "      <td>11935</td>\n",
       "    </tr>\n",
       "    <tr>\n",
       "      <th>95</th>\n",
       "      <td>Treptow-Köpenick</td>\n",
       "      <td>2019</td>\n",
       "      <td>169</td>\n",
       "      <td>11108</td>\n",
       "      <td>633</td>\n",
       "      <td>11910</td>\n",
       "    </tr>\n",
       "  </tbody>\n",
       "</table>\n",
       "<p>96 rows × 6 columns</p>\n",
       "</div>"
      ],
      "text/plain": [
       "                      District  Year  Robbery  Theft  Drugs    sum\n",
       "0   Charlottenburg-Wilmersdorf  2012      643  24061   1064  25768\n",
       "1   Charlottenburg-Wilmersdorf  2013      639  25733   1180  27552\n",
       "2   Charlottenburg-Wilmersdorf  2014      641  26829   1208  28678\n",
       "3   Charlottenburg-Wilmersdorf  2015      536  30622    885  32043\n",
       "4   Charlottenburg-Wilmersdorf  2016      523  28893    948  30364\n",
       "..                         ...   ...      ...    ...    ...    ...\n",
       "91            Treptow-Köpenick  2015      197  11706    517  12420\n",
       "92            Treptow-Köpenick  2016      146  12524    371  13041\n",
       "93            Treptow-Köpenick  2017      200  11453    495  12148\n",
       "94            Treptow-Köpenick  2018      216  11145    574  11935\n",
       "95            Treptow-Köpenick  2019      169  11108    633  11910\n",
       "\n",
       "[96 rows x 6 columns]"
      ]
     },
     "execution_count": 21,
     "metadata": {},
     "output_type": "execute_result"
    }
   ],
   "source": [
    "Crime_Sum"
   ]
  },
  {
   "cell_type": "code",
   "execution_count": 23,
   "id": "39d28bfe",
   "metadata": {
    "scrolled": true
   },
   "outputs": [],
   "source": [
    "# Make PV FOr It \n",
    "\n",
    "pv3 = Crime_Sum.pivot('District','Year','sum')"
   ]
  },
  {
   "cell_type": "code",
   "execution_count": 25,
   "id": "5fb1dd65",
   "metadata": {},
   "outputs": [
    {
     "data": {
      "application/vnd.plotly.v1+json": {
       "config": {
        "plotlyServerURL": "https://plot.ly"
       },
       "data": [
        {
         "coloraxis": "coloraxis",
         "hovertemplate": "Year: %{x}<br>District: %{y}<br>color: %{z}<extra></extra>",
         "name": "0",
         "type": "heatmap",
         "x": [
          2012,
          2013,
          2014,
          2015,
          2016,
          2017,
          2018,
          2019
         ],
         "xaxis": "x",
         "y": [
          "Charlottenburg-Wilmersdorf",
          "Friedrichshain-Kreuzberg",
          "Lichtenberg",
          "Marzahn-Hellersdorf",
          "Mitte",
          "Neukölln",
          "Pankow",
          "Reinickendorf",
          "Spandau",
          "Steglitz-Zehlendorf",
          "Tempelhof-Schöneberg",
          "Treptow-Köpenick"
         ],
         "yaxis": "y",
         "z": [
          [
           25768,
           27552,
           28678,
           32043,
           30364,
           27293,
           26815,
           24165
          ],
          [
           24771,
           27771,
           32772,
           39443,
           35362,
           30357,
           29641,
           31702
          ],
          [
           12506,
           12765,
           13021,
           13384,
           14792,
           13221,
           12702,
           12431
          ],
          [
           10353,
           10481,
           10111,
           10213,
           10956,
           10497,
           9109,
           9388
          ],
          [
           40588,
           43274,
           45828,
           50291,
           53111,
           46517,
           42327,
           40541
          ],
          [
           21466,
           21925,
           21449,
           23955,
           23931,
           22211,
           21700,
           21897
          ],
          [
           21242,
           21934,
           22823,
           26813,
           24735,
           20692,
           18827,
           18274
          ],
          [
           14259,
           14461,
           14544,
           15029,
           15123,
           12498,
           11716,
           11068
          ],
          [
           11924,
           12548,
           12283,
           12594,
           12693,
           12035,
           11701,
           10511
          ],
          [
           12992,
           14857,
           13735,
           13973,
           14495,
           11960,
           12230,
           11985
          ],
          [
           19026,
           20363,
           20704,
           21702,
           22042,
           20459,
           22156,
           19179
          ],
          [
           10415,
           11320,
           12468,
           12420,
           13041,
           12148,
           11935,
           11910
          ]
         ]
        }
       ],
       "layout": {
        "coloraxis": {
         "colorscale": [
          [
           0,
           "rgb(255,245,240)"
          ],
          [
           0.125,
           "rgb(254,224,210)"
          ],
          [
           0.25,
           "rgb(252,187,161)"
          ],
          [
           0.375,
           "rgb(252,146,114)"
          ],
          [
           0.5,
           "rgb(251,106,74)"
          ],
          [
           0.625,
           "rgb(239,59,44)"
          ],
          [
           0.75,
           "rgb(203,24,29)"
          ],
          [
           0.875,
           "rgb(165,15,21)"
          ],
          [
           1,
           "rgb(103,0,13)"
          ]
         ]
        },
        "margin": {
         "t": 60
        },
        "template": {
         "data": {
          "bar": [
           {
            "error_x": {
             "color": "#2a3f5f"
            },
            "error_y": {
             "color": "#2a3f5f"
            },
            "marker": {
             "line": {
              "color": "#E5ECF6",
              "width": 0.5
             },
             "pattern": {
              "fillmode": "overlay",
              "size": 10,
              "solidity": 0.2
             }
            },
            "type": "bar"
           }
          ],
          "barpolar": [
           {
            "marker": {
             "line": {
              "color": "#E5ECF6",
              "width": 0.5
             },
             "pattern": {
              "fillmode": "overlay",
              "size": 10,
              "solidity": 0.2
             }
            },
            "type": "barpolar"
           }
          ],
          "carpet": [
           {
            "aaxis": {
             "endlinecolor": "#2a3f5f",
             "gridcolor": "white",
             "linecolor": "white",
             "minorgridcolor": "white",
             "startlinecolor": "#2a3f5f"
            },
            "baxis": {
             "endlinecolor": "#2a3f5f",
             "gridcolor": "white",
             "linecolor": "white",
             "minorgridcolor": "white",
             "startlinecolor": "#2a3f5f"
            },
            "type": "carpet"
           }
          ],
          "choropleth": [
           {
            "colorbar": {
             "outlinewidth": 0,
             "ticks": ""
            },
            "type": "choropleth"
           }
          ],
          "contour": [
           {
            "colorbar": {
             "outlinewidth": 0,
             "ticks": ""
            },
            "colorscale": [
             [
              0,
              "#0d0887"
             ],
             [
              0.1111111111111111,
              "#46039f"
             ],
             [
              0.2222222222222222,
              "#7201a8"
             ],
             [
              0.3333333333333333,
              "#9c179e"
             ],
             [
              0.4444444444444444,
              "#bd3786"
             ],
             [
              0.5555555555555556,
              "#d8576b"
             ],
             [
              0.6666666666666666,
              "#ed7953"
             ],
             [
              0.7777777777777778,
              "#fb9f3a"
             ],
             [
              0.8888888888888888,
              "#fdca26"
             ],
             [
              1,
              "#f0f921"
             ]
            ],
            "type": "contour"
           }
          ],
          "contourcarpet": [
           {
            "colorbar": {
             "outlinewidth": 0,
             "ticks": ""
            },
            "type": "contourcarpet"
           }
          ],
          "heatmap": [
           {
            "colorbar": {
             "outlinewidth": 0,
             "ticks": ""
            },
            "colorscale": [
             [
              0,
              "#0d0887"
             ],
             [
              0.1111111111111111,
              "#46039f"
             ],
             [
              0.2222222222222222,
              "#7201a8"
             ],
             [
              0.3333333333333333,
              "#9c179e"
             ],
             [
              0.4444444444444444,
              "#bd3786"
             ],
             [
              0.5555555555555556,
              "#d8576b"
             ],
             [
              0.6666666666666666,
              "#ed7953"
             ],
             [
              0.7777777777777778,
              "#fb9f3a"
             ],
             [
              0.8888888888888888,
              "#fdca26"
             ],
             [
              1,
              "#f0f921"
             ]
            ],
            "type": "heatmap"
           }
          ],
          "heatmapgl": [
           {
            "colorbar": {
             "outlinewidth": 0,
             "ticks": ""
            },
            "colorscale": [
             [
              0,
              "#0d0887"
             ],
             [
              0.1111111111111111,
              "#46039f"
             ],
             [
              0.2222222222222222,
              "#7201a8"
             ],
             [
              0.3333333333333333,
              "#9c179e"
             ],
             [
              0.4444444444444444,
              "#bd3786"
             ],
             [
              0.5555555555555556,
              "#d8576b"
             ],
             [
              0.6666666666666666,
              "#ed7953"
             ],
             [
              0.7777777777777778,
              "#fb9f3a"
             ],
             [
              0.8888888888888888,
              "#fdca26"
             ],
             [
              1,
              "#f0f921"
             ]
            ],
            "type": "heatmapgl"
           }
          ],
          "histogram": [
           {
            "marker": {
             "pattern": {
              "fillmode": "overlay",
              "size": 10,
              "solidity": 0.2
             }
            },
            "type": "histogram"
           }
          ],
          "histogram2d": [
           {
            "colorbar": {
             "outlinewidth": 0,
             "ticks": ""
            },
            "colorscale": [
             [
              0,
              "#0d0887"
             ],
             [
              0.1111111111111111,
              "#46039f"
             ],
             [
              0.2222222222222222,
              "#7201a8"
             ],
             [
              0.3333333333333333,
              "#9c179e"
             ],
             [
              0.4444444444444444,
              "#bd3786"
             ],
             [
              0.5555555555555556,
              "#d8576b"
             ],
             [
              0.6666666666666666,
              "#ed7953"
             ],
             [
              0.7777777777777778,
              "#fb9f3a"
             ],
             [
              0.8888888888888888,
              "#fdca26"
             ],
             [
              1,
              "#f0f921"
             ]
            ],
            "type": "histogram2d"
           }
          ],
          "histogram2dcontour": [
           {
            "colorbar": {
             "outlinewidth": 0,
             "ticks": ""
            },
            "colorscale": [
             [
              0,
              "#0d0887"
             ],
             [
              0.1111111111111111,
              "#46039f"
             ],
             [
              0.2222222222222222,
              "#7201a8"
             ],
             [
              0.3333333333333333,
              "#9c179e"
             ],
             [
              0.4444444444444444,
              "#bd3786"
             ],
             [
              0.5555555555555556,
              "#d8576b"
             ],
             [
              0.6666666666666666,
              "#ed7953"
             ],
             [
              0.7777777777777778,
              "#fb9f3a"
             ],
             [
              0.8888888888888888,
              "#fdca26"
             ],
             [
              1,
              "#f0f921"
             ]
            ],
            "type": "histogram2dcontour"
           }
          ],
          "mesh3d": [
           {
            "colorbar": {
             "outlinewidth": 0,
             "ticks": ""
            },
            "type": "mesh3d"
           }
          ],
          "parcoords": [
           {
            "line": {
             "colorbar": {
              "outlinewidth": 0,
              "ticks": ""
             }
            },
            "type": "parcoords"
           }
          ],
          "pie": [
           {
            "automargin": true,
            "type": "pie"
           }
          ],
          "scatter": [
           {
            "marker": {
             "colorbar": {
              "outlinewidth": 0,
              "ticks": ""
             }
            },
            "type": "scatter"
           }
          ],
          "scatter3d": [
           {
            "line": {
             "colorbar": {
              "outlinewidth": 0,
              "ticks": ""
             }
            },
            "marker": {
             "colorbar": {
              "outlinewidth": 0,
              "ticks": ""
             }
            },
            "type": "scatter3d"
           }
          ],
          "scattercarpet": [
           {
            "marker": {
             "colorbar": {
              "outlinewidth": 0,
              "ticks": ""
             }
            },
            "type": "scattercarpet"
           }
          ],
          "scattergeo": [
           {
            "marker": {
             "colorbar": {
              "outlinewidth": 0,
              "ticks": ""
             }
            },
            "type": "scattergeo"
           }
          ],
          "scattergl": [
           {
            "marker": {
             "colorbar": {
              "outlinewidth": 0,
              "ticks": ""
             }
            },
            "type": "scattergl"
           }
          ],
          "scattermapbox": [
           {
            "marker": {
             "colorbar": {
              "outlinewidth": 0,
              "ticks": ""
             }
            },
            "type": "scattermapbox"
           }
          ],
          "scatterpolar": [
           {
            "marker": {
             "colorbar": {
              "outlinewidth": 0,
              "ticks": ""
             }
            },
            "type": "scatterpolar"
           }
          ],
          "scatterpolargl": [
           {
            "marker": {
             "colorbar": {
              "outlinewidth": 0,
              "ticks": ""
             }
            },
            "type": "scatterpolargl"
           }
          ],
          "scatterternary": [
           {
            "marker": {
             "colorbar": {
              "outlinewidth": 0,
              "ticks": ""
             }
            },
            "type": "scatterternary"
           }
          ],
          "surface": [
           {
            "colorbar": {
             "outlinewidth": 0,
             "ticks": ""
            },
            "colorscale": [
             [
              0,
              "#0d0887"
             ],
             [
              0.1111111111111111,
              "#46039f"
             ],
             [
              0.2222222222222222,
              "#7201a8"
             ],
             [
              0.3333333333333333,
              "#9c179e"
             ],
             [
              0.4444444444444444,
              "#bd3786"
             ],
             [
              0.5555555555555556,
              "#d8576b"
             ],
             [
              0.6666666666666666,
              "#ed7953"
             ],
             [
              0.7777777777777778,
              "#fb9f3a"
             ],
             [
              0.8888888888888888,
              "#fdca26"
             ],
             [
              1,
              "#f0f921"
             ]
            ],
            "type": "surface"
           }
          ],
          "table": [
           {
            "cells": {
             "fill": {
              "color": "#EBF0F8"
             },
             "line": {
              "color": "white"
             }
            },
            "header": {
             "fill": {
              "color": "#C8D4E3"
             },
             "line": {
              "color": "white"
             }
            },
            "type": "table"
           }
          ]
         },
         "layout": {
          "annotationdefaults": {
           "arrowcolor": "#2a3f5f",
           "arrowhead": 0,
           "arrowwidth": 1
          },
          "autotypenumbers": "strict",
          "coloraxis": {
           "colorbar": {
            "outlinewidth": 0,
            "ticks": ""
           }
          },
          "colorscale": {
           "diverging": [
            [
             0,
             "#8e0152"
            ],
            [
             0.1,
             "#c51b7d"
            ],
            [
             0.2,
             "#de77ae"
            ],
            [
             0.3,
             "#f1b6da"
            ],
            [
             0.4,
             "#fde0ef"
            ],
            [
             0.5,
             "#f7f7f7"
            ],
            [
             0.6,
             "#e6f5d0"
            ],
            [
             0.7,
             "#b8e186"
            ],
            [
             0.8,
             "#7fbc41"
            ],
            [
             0.9,
             "#4d9221"
            ],
            [
             1,
             "#276419"
            ]
           ],
           "sequential": [
            [
             0,
             "#0d0887"
            ],
            [
             0.1111111111111111,
             "#46039f"
            ],
            [
             0.2222222222222222,
             "#7201a8"
            ],
            [
             0.3333333333333333,
             "#9c179e"
            ],
            [
             0.4444444444444444,
             "#bd3786"
            ],
            [
             0.5555555555555556,
             "#d8576b"
            ],
            [
             0.6666666666666666,
             "#ed7953"
            ],
            [
             0.7777777777777778,
             "#fb9f3a"
            ],
            [
             0.8888888888888888,
             "#fdca26"
            ],
            [
             1,
             "#f0f921"
            ]
           ],
           "sequentialminus": [
            [
             0,
             "#0d0887"
            ],
            [
             0.1111111111111111,
             "#46039f"
            ],
            [
             0.2222222222222222,
             "#7201a8"
            ],
            [
             0.3333333333333333,
             "#9c179e"
            ],
            [
             0.4444444444444444,
             "#bd3786"
            ],
            [
             0.5555555555555556,
             "#d8576b"
            ],
            [
             0.6666666666666666,
             "#ed7953"
            ],
            [
             0.7777777777777778,
             "#fb9f3a"
            ],
            [
             0.8888888888888888,
             "#fdca26"
            ],
            [
             1,
             "#f0f921"
            ]
           ]
          },
          "colorway": [
           "#636efa",
           "#EF553B",
           "#00cc96",
           "#ab63fa",
           "#FFA15A",
           "#19d3f3",
           "#FF6692",
           "#B6E880",
           "#FF97FF",
           "#FECB52"
          ],
          "font": {
           "color": "#2a3f5f"
          },
          "geo": {
           "bgcolor": "white",
           "lakecolor": "white",
           "landcolor": "#E5ECF6",
           "showlakes": true,
           "showland": true,
           "subunitcolor": "white"
          },
          "hoverlabel": {
           "align": "left"
          },
          "hovermode": "closest",
          "mapbox": {
           "style": "light"
          },
          "paper_bgcolor": "white",
          "plot_bgcolor": "#E5ECF6",
          "polar": {
           "angularaxis": {
            "gridcolor": "white",
            "linecolor": "white",
            "ticks": ""
           },
           "bgcolor": "#E5ECF6",
           "radialaxis": {
            "gridcolor": "white",
            "linecolor": "white",
            "ticks": ""
           }
          },
          "scene": {
           "xaxis": {
            "backgroundcolor": "#E5ECF6",
            "gridcolor": "white",
            "gridwidth": 2,
            "linecolor": "white",
            "showbackground": true,
            "ticks": "",
            "zerolinecolor": "white"
           },
           "yaxis": {
            "backgroundcolor": "#E5ECF6",
            "gridcolor": "white",
            "gridwidth": 2,
            "linecolor": "white",
            "showbackground": true,
            "ticks": "",
            "zerolinecolor": "white"
           },
           "zaxis": {
            "backgroundcolor": "#E5ECF6",
            "gridcolor": "white",
            "gridwidth": 2,
            "linecolor": "white",
            "showbackground": true,
            "ticks": "",
            "zerolinecolor": "white"
           }
          },
          "shapedefaults": {
           "line": {
            "color": "#2a3f5f"
           }
          },
          "ternary": {
           "aaxis": {
            "gridcolor": "white",
            "linecolor": "white",
            "ticks": ""
           },
           "baxis": {
            "gridcolor": "white",
            "linecolor": "white",
            "ticks": ""
           },
           "bgcolor": "#E5ECF6",
           "caxis": {
            "gridcolor": "white",
            "linecolor": "white",
            "ticks": ""
           }
          },
          "title": {
           "x": 0.05
          },
          "xaxis": {
           "automargin": true,
           "gridcolor": "white",
           "linecolor": "white",
           "ticks": "",
           "title": {
            "standoff": 15
           },
           "zerolinecolor": "white",
           "zerolinewidth": 2
          },
          "yaxis": {
           "automargin": true,
           "gridcolor": "white",
           "linecolor": "white",
           "ticks": "",
           "title": {
            "standoff": 15
           },
           "zerolinecolor": "white",
           "zerolinewidth": 2
          }
         }
        },
        "xaxis": {
         "anchor": "y",
         "constrain": "domain",
         "domain": [
          0,
          1
         ],
         "scaleanchor": "y",
         "title": {
          "text": "Year"
         }
        },
        "yaxis": {
         "anchor": "x",
         "autorange": "reversed",
         "constrain": "domain",
         "domain": [
          0,
          1
         ],
         "title": {
          "text": "District"
         }
        }
       }
      },
      "text/html": [
       "<div>                            <div id=\"ad0528a1-933a-4b71-98af-71f1f70b36d3\" class=\"plotly-graph-div\" style=\"height:525px; width:100%;\"></div>            <script type=\"text/javascript\">                require([\"plotly\"], function(Plotly) {                    window.PLOTLYENV=window.PLOTLYENV || {};                                    if (document.getElementById(\"ad0528a1-933a-4b71-98af-71f1f70b36d3\")) {                    Plotly.newPlot(                        \"ad0528a1-933a-4b71-98af-71f1f70b36d3\",                        [{\"coloraxis\":\"coloraxis\",\"hovertemplate\":\"Year: %{x}<br>District: %{y}<br>color: %{z}<extra></extra>\",\"name\":\"0\",\"type\":\"heatmap\",\"x\":[2012,2013,2014,2015,2016,2017,2018,2019],\"xaxis\":\"x\",\"y\":[\"Charlottenburg-Wilmersdorf\",\"Friedrichshain-Kreuzberg\",\"Lichtenberg\",\"Marzahn-Hellersdorf\",\"Mitte\",\"Neuk\\u00f6lln\",\"Pankow\",\"Reinickendorf\",\"Spandau\",\"Steglitz-Zehlendorf\",\"Tempelhof-Sch\\u00f6neberg\",\"Treptow-K\\u00f6penick\"],\"yaxis\":\"y\",\"z\":[[25768,27552,28678,32043,30364,27293,26815,24165],[24771,27771,32772,39443,35362,30357,29641,31702],[12506,12765,13021,13384,14792,13221,12702,12431],[10353,10481,10111,10213,10956,10497,9109,9388],[40588,43274,45828,50291,53111,46517,42327,40541],[21466,21925,21449,23955,23931,22211,21700,21897],[21242,21934,22823,26813,24735,20692,18827,18274],[14259,14461,14544,15029,15123,12498,11716,11068],[11924,12548,12283,12594,12693,12035,11701,10511],[12992,14857,13735,13973,14495,11960,12230,11985],[19026,20363,20704,21702,22042,20459,22156,19179],[10415,11320,12468,12420,13041,12148,11935,11910]]}],                        {\"coloraxis\":{\"colorscale\":[[0.0,\"rgb(255,245,240)\"],[0.125,\"rgb(254,224,210)\"],[0.25,\"rgb(252,187,161)\"],[0.375,\"rgb(252,146,114)\"],[0.5,\"rgb(251,106,74)\"],[0.625,\"rgb(239,59,44)\"],[0.75,\"rgb(203,24,29)\"],[0.875,\"rgb(165,15,21)\"],[1.0,\"rgb(103,0,13)\"]]},\"margin\":{\"t\":60},\"template\":{\"data\":{\"bar\":[{\"error_x\":{\"color\":\"#2a3f5f\"},\"error_y\":{\"color\":\"#2a3f5f\"},\"marker\":{\"line\":{\"color\":\"#E5ECF6\",\"width\":0.5},\"pattern\":{\"fillmode\":\"overlay\",\"size\":10,\"solidity\":0.2}},\"type\":\"bar\"}],\"barpolar\":[{\"marker\":{\"line\":{\"color\":\"#E5ECF6\",\"width\":0.5},\"pattern\":{\"fillmode\":\"overlay\",\"size\":10,\"solidity\":0.2}},\"type\":\"barpolar\"}],\"carpet\":[{\"aaxis\":{\"endlinecolor\":\"#2a3f5f\",\"gridcolor\":\"white\",\"linecolor\":\"white\",\"minorgridcolor\":\"white\",\"startlinecolor\":\"#2a3f5f\"},\"baxis\":{\"endlinecolor\":\"#2a3f5f\",\"gridcolor\":\"white\",\"linecolor\":\"white\",\"minorgridcolor\":\"white\",\"startlinecolor\":\"#2a3f5f\"},\"type\":\"carpet\"}],\"choropleth\":[{\"colorbar\":{\"outlinewidth\":0,\"ticks\":\"\"},\"type\":\"choropleth\"}],\"contour\":[{\"colorbar\":{\"outlinewidth\":0,\"ticks\":\"\"},\"colorscale\":[[0.0,\"#0d0887\"],[0.1111111111111111,\"#46039f\"],[0.2222222222222222,\"#7201a8\"],[0.3333333333333333,\"#9c179e\"],[0.4444444444444444,\"#bd3786\"],[0.5555555555555556,\"#d8576b\"],[0.6666666666666666,\"#ed7953\"],[0.7777777777777778,\"#fb9f3a\"],[0.8888888888888888,\"#fdca26\"],[1.0,\"#f0f921\"]],\"type\":\"contour\"}],\"contourcarpet\":[{\"colorbar\":{\"outlinewidth\":0,\"ticks\":\"\"},\"type\":\"contourcarpet\"}],\"heatmap\":[{\"colorbar\":{\"outlinewidth\":0,\"ticks\":\"\"},\"colorscale\":[[0.0,\"#0d0887\"],[0.1111111111111111,\"#46039f\"],[0.2222222222222222,\"#7201a8\"],[0.3333333333333333,\"#9c179e\"],[0.4444444444444444,\"#bd3786\"],[0.5555555555555556,\"#d8576b\"],[0.6666666666666666,\"#ed7953\"],[0.7777777777777778,\"#fb9f3a\"],[0.8888888888888888,\"#fdca26\"],[1.0,\"#f0f921\"]],\"type\":\"heatmap\"}],\"heatmapgl\":[{\"colorbar\":{\"outlinewidth\":0,\"ticks\":\"\"},\"colorscale\":[[0.0,\"#0d0887\"],[0.1111111111111111,\"#46039f\"],[0.2222222222222222,\"#7201a8\"],[0.3333333333333333,\"#9c179e\"],[0.4444444444444444,\"#bd3786\"],[0.5555555555555556,\"#d8576b\"],[0.6666666666666666,\"#ed7953\"],[0.7777777777777778,\"#fb9f3a\"],[0.8888888888888888,\"#fdca26\"],[1.0,\"#f0f921\"]],\"type\":\"heatmapgl\"}],\"histogram\":[{\"marker\":{\"pattern\":{\"fillmode\":\"overlay\",\"size\":10,\"solidity\":0.2}},\"type\":\"histogram\"}],\"histogram2d\":[{\"colorbar\":{\"outlinewidth\":0,\"ticks\":\"\"},\"colorscale\":[[0.0,\"#0d0887\"],[0.1111111111111111,\"#46039f\"],[0.2222222222222222,\"#7201a8\"],[0.3333333333333333,\"#9c179e\"],[0.4444444444444444,\"#bd3786\"],[0.5555555555555556,\"#d8576b\"],[0.6666666666666666,\"#ed7953\"],[0.7777777777777778,\"#fb9f3a\"],[0.8888888888888888,\"#fdca26\"],[1.0,\"#f0f921\"]],\"type\":\"histogram2d\"}],\"histogram2dcontour\":[{\"colorbar\":{\"outlinewidth\":0,\"ticks\":\"\"},\"colorscale\":[[0.0,\"#0d0887\"],[0.1111111111111111,\"#46039f\"],[0.2222222222222222,\"#7201a8\"],[0.3333333333333333,\"#9c179e\"],[0.4444444444444444,\"#bd3786\"],[0.5555555555555556,\"#d8576b\"],[0.6666666666666666,\"#ed7953\"],[0.7777777777777778,\"#fb9f3a\"],[0.8888888888888888,\"#fdca26\"],[1.0,\"#f0f921\"]],\"type\":\"histogram2dcontour\"}],\"mesh3d\":[{\"colorbar\":{\"outlinewidth\":0,\"ticks\":\"\"},\"type\":\"mesh3d\"}],\"parcoords\":[{\"line\":{\"colorbar\":{\"outlinewidth\":0,\"ticks\":\"\"}},\"type\":\"parcoords\"}],\"pie\":[{\"automargin\":true,\"type\":\"pie\"}],\"scatter\":[{\"marker\":{\"colorbar\":{\"outlinewidth\":0,\"ticks\":\"\"}},\"type\":\"scatter\"}],\"scatter3d\":[{\"line\":{\"colorbar\":{\"outlinewidth\":0,\"ticks\":\"\"}},\"marker\":{\"colorbar\":{\"outlinewidth\":0,\"ticks\":\"\"}},\"type\":\"scatter3d\"}],\"scattercarpet\":[{\"marker\":{\"colorbar\":{\"outlinewidth\":0,\"ticks\":\"\"}},\"type\":\"scattercarpet\"}],\"scattergeo\":[{\"marker\":{\"colorbar\":{\"outlinewidth\":0,\"ticks\":\"\"}},\"type\":\"scattergeo\"}],\"scattergl\":[{\"marker\":{\"colorbar\":{\"outlinewidth\":0,\"ticks\":\"\"}},\"type\":\"scattergl\"}],\"scattermapbox\":[{\"marker\":{\"colorbar\":{\"outlinewidth\":0,\"ticks\":\"\"}},\"type\":\"scattermapbox\"}],\"scatterpolar\":[{\"marker\":{\"colorbar\":{\"outlinewidth\":0,\"ticks\":\"\"}},\"type\":\"scatterpolar\"}],\"scatterpolargl\":[{\"marker\":{\"colorbar\":{\"outlinewidth\":0,\"ticks\":\"\"}},\"type\":\"scatterpolargl\"}],\"scatterternary\":[{\"marker\":{\"colorbar\":{\"outlinewidth\":0,\"ticks\":\"\"}},\"type\":\"scatterternary\"}],\"surface\":[{\"colorbar\":{\"outlinewidth\":0,\"ticks\":\"\"},\"colorscale\":[[0.0,\"#0d0887\"],[0.1111111111111111,\"#46039f\"],[0.2222222222222222,\"#7201a8\"],[0.3333333333333333,\"#9c179e\"],[0.4444444444444444,\"#bd3786\"],[0.5555555555555556,\"#d8576b\"],[0.6666666666666666,\"#ed7953\"],[0.7777777777777778,\"#fb9f3a\"],[0.8888888888888888,\"#fdca26\"],[1.0,\"#f0f921\"]],\"type\":\"surface\"}],\"table\":[{\"cells\":{\"fill\":{\"color\":\"#EBF0F8\"},\"line\":{\"color\":\"white\"}},\"header\":{\"fill\":{\"color\":\"#C8D4E3\"},\"line\":{\"color\":\"white\"}},\"type\":\"table\"}]},\"layout\":{\"annotationdefaults\":{\"arrowcolor\":\"#2a3f5f\",\"arrowhead\":0,\"arrowwidth\":1},\"autotypenumbers\":\"strict\",\"coloraxis\":{\"colorbar\":{\"outlinewidth\":0,\"ticks\":\"\"}},\"colorscale\":{\"diverging\":[[0,\"#8e0152\"],[0.1,\"#c51b7d\"],[0.2,\"#de77ae\"],[0.3,\"#f1b6da\"],[0.4,\"#fde0ef\"],[0.5,\"#f7f7f7\"],[0.6,\"#e6f5d0\"],[0.7,\"#b8e186\"],[0.8,\"#7fbc41\"],[0.9,\"#4d9221\"],[1,\"#276419\"]],\"sequential\":[[0.0,\"#0d0887\"],[0.1111111111111111,\"#46039f\"],[0.2222222222222222,\"#7201a8\"],[0.3333333333333333,\"#9c179e\"],[0.4444444444444444,\"#bd3786\"],[0.5555555555555556,\"#d8576b\"],[0.6666666666666666,\"#ed7953\"],[0.7777777777777778,\"#fb9f3a\"],[0.8888888888888888,\"#fdca26\"],[1.0,\"#f0f921\"]],\"sequentialminus\":[[0.0,\"#0d0887\"],[0.1111111111111111,\"#46039f\"],[0.2222222222222222,\"#7201a8\"],[0.3333333333333333,\"#9c179e\"],[0.4444444444444444,\"#bd3786\"],[0.5555555555555556,\"#d8576b\"],[0.6666666666666666,\"#ed7953\"],[0.7777777777777778,\"#fb9f3a\"],[0.8888888888888888,\"#fdca26\"],[1.0,\"#f0f921\"]]},\"colorway\":[\"#636efa\",\"#EF553B\",\"#00cc96\",\"#ab63fa\",\"#FFA15A\",\"#19d3f3\",\"#FF6692\",\"#B6E880\",\"#FF97FF\",\"#FECB52\"],\"font\":{\"color\":\"#2a3f5f\"},\"geo\":{\"bgcolor\":\"white\",\"lakecolor\":\"white\",\"landcolor\":\"#E5ECF6\",\"showlakes\":true,\"showland\":true,\"subunitcolor\":\"white\"},\"hoverlabel\":{\"align\":\"left\"},\"hovermode\":\"closest\",\"mapbox\":{\"style\":\"light\"},\"paper_bgcolor\":\"white\",\"plot_bgcolor\":\"#E5ECF6\",\"polar\":{\"angularaxis\":{\"gridcolor\":\"white\",\"linecolor\":\"white\",\"ticks\":\"\"},\"bgcolor\":\"#E5ECF6\",\"radialaxis\":{\"gridcolor\":\"white\",\"linecolor\":\"white\",\"ticks\":\"\"}},\"scene\":{\"xaxis\":{\"backgroundcolor\":\"#E5ECF6\",\"gridcolor\":\"white\",\"gridwidth\":2,\"linecolor\":\"white\",\"showbackground\":true,\"ticks\":\"\",\"zerolinecolor\":\"white\"},\"yaxis\":{\"backgroundcolor\":\"#E5ECF6\",\"gridcolor\":\"white\",\"gridwidth\":2,\"linecolor\":\"white\",\"showbackground\":true,\"ticks\":\"\",\"zerolinecolor\":\"white\"},\"zaxis\":{\"backgroundcolor\":\"#E5ECF6\",\"gridcolor\":\"white\",\"gridwidth\":2,\"linecolor\":\"white\",\"showbackground\":true,\"ticks\":\"\",\"zerolinecolor\":\"white\"}},\"shapedefaults\":{\"line\":{\"color\":\"#2a3f5f\"}},\"ternary\":{\"aaxis\":{\"gridcolor\":\"white\",\"linecolor\":\"white\",\"ticks\":\"\"},\"baxis\":{\"gridcolor\":\"white\",\"linecolor\":\"white\",\"ticks\":\"\"},\"bgcolor\":\"#E5ECF6\",\"caxis\":{\"gridcolor\":\"white\",\"linecolor\":\"white\",\"ticks\":\"\"}},\"title\":{\"x\":0.05},\"xaxis\":{\"automargin\":true,\"gridcolor\":\"white\",\"linecolor\":\"white\",\"ticks\":\"\",\"title\":{\"standoff\":15},\"zerolinecolor\":\"white\",\"zerolinewidth\":2},\"yaxis\":{\"automargin\":true,\"gridcolor\":\"white\",\"linecolor\":\"white\",\"ticks\":\"\",\"title\":{\"standoff\":15},\"zerolinecolor\":\"white\",\"zerolinewidth\":2}}},\"xaxis\":{\"anchor\":\"y\",\"constrain\":\"domain\",\"domain\":[0.0,1.0],\"scaleanchor\":\"y\",\"title\":{\"text\":\"Year\"}},\"yaxis\":{\"anchor\":\"x\",\"autorange\":\"reversed\",\"constrain\":\"domain\",\"domain\":[0.0,1.0],\"title\":{\"text\":\"District\"}}},                        {\"responsive\": true}                    ).then(function(){\n",
       "                            \n",
       "var gd = document.getElementById('ad0528a1-933a-4b71-98af-71f1f70b36d3');\n",
       "var x = new MutationObserver(function (mutations, observer) {{\n",
       "        var display = window.getComputedStyle(gd).display;\n",
       "        if (!display || display === 'none') {{\n",
       "            console.log([gd, 'removed!']);\n",
       "            Plotly.purge(gd);\n",
       "            observer.disconnect();\n",
       "        }}\n",
       "}});\n",
       "\n",
       "// Listen for the removal of the full notebook cells\n",
       "var notebookContainer = gd.closest('#notebook-container');\n",
       "if (notebookContainer) {{\n",
       "    x.observe(notebookContainer, {childList: true});\n",
       "}}\n",
       "\n",
       "// Listen for the clearing of the current output cell\n",
       "var outputEl = gd.closest('.output');\n",
       "if (outputEl) {{\n",
       "    x.observe(outputEl, {childList: true});\n",
       "}}\n",
       "\n",
       "                        })                };                });            </script>        </div>"
      ]
     },
     "metadata": {},
     "output_type": "display_data"
    }
   ],
   "source": [
    "# Show It\n",
    "\n",
    "px.imshow(pv3,\n",
    "          color_continuous_scale = px.colors.sequential.Reds\n",
    "         )"
   ]
  },
  {
   "cell_type": "markdown",
   "id": "7313784c",
   "metadata": {},
   "source": [
    "## -------- -------- -------- -------- -------- -------- -------- -------- -------- -------- -------- -------- -------- -------- -------- "
   ]
  },
  {
   "cell_type": "markdown",
   "id": "e77c3584",
   "metadata": {},
   "source": [
    "## Creating Heatmap Using List In Case You Can't Make Pivot Table From Your Data"
   ]
  },
  {
   "cell_type": "code",
   "execution_count": 27,
   "id": "d6da801d",
   "metadata": {
    "scrolled": true
   },
   "outputs": [
    {
     "data": {
      "text/html": [
       "<div>\n",
       "<style scoped>\n",
       "    .dataframe tbody tr th:only-of-type {\n",
       "        vertical-align: middle;\n",
       "    }\n",
       "\n",
       "    .dataframe tbody tr th {\n",
       "        vertical-align: top;\n",
       "    }\n",
       "\n",
       "    .dataframe thead th {\n",
       "        text-align: right;\n",
       "    }\n",
       "</style>\n",
       "<table border=\"1\" class=\"dataframe\">\n",
       "  <thead>\n",
       "    <tr style=\"text-align: right;\">\n",
       "      <th></th>\n",
       "      <th>District</th>\n",
       "      <th>Year</th>\n",
       "      <th>Robbery</th>\n",
       "      <th>Theft</th>\n",
       "      <th>Drugs</th>\n",
       "      <th>sum</th>\n",
       "    </tr>\n",
       "  </thead>\n",
       "  <tbody>\n",
       "    <tr>\n",
       "      <th>0</th>\n",
       "      <td>Charlottenburg-Wilmersdorf</td>\n",
       "      <td>2012</td>\n",
       "      <td>643</td>\n",
       "      <td>24061</td>\n",
       "      <td>1064</td>\n",
       "      <td>25768</td>\n",
       "    </tr>\n",
       "    <tr>\n",
       "      <th>1</th>\n",
       "      <td>Charlottenburg-Wilmersdorf</td>\n",
       "      <td>2013</td>\n",
       "      <td>639</td>\n",
       "      <td>25733</td>\n",
       "      <td>1180</td>\n",
       "      <td>27552</td>\n",
       "    </tr>\n",
       "    <tr>\n",
       "      <th>2</th>\n",
       "      <td>Charlottenburg-Wilmersdorf</td>\n",
       "      <td>2014</td>\n",
       "      <td>641</td>\n",
       "      <td>26829</td>\n",
       "      <td>1208</td>\n",
       "      <td>28678</td>\n",
       "    </tr>\n",
       "    <tr>\n",
       "      <th>3</th>\n",
       "      <td>Charlottenburg-Wilmersdorf</td>\n",
       "      <td>2015</td>\n",
       "      <td>536</td>\n",
       "      <td>30622</td>\n",
       "      <td>885</td>\n",
       "      <td>32043</td>\n",
       "    </tr>\n",
       "    <tr>\n",
       "      <th>4</th>\n",
       "      <td>Charlottenburg-Wilmersdorf</td>\n",
       "      <td>2016</td>\n",
       "      <td>523</td>\n",
       "      <td>28893</td>\n",
       "      <td>948</td>\n",
       "      <td>30364</td>\n",
       "    </tr>\n",
       "    <tr>\n",
       "      <th>...</th>\n",
       "      <td>...</td>\n",
       "      <td>...</td>\n",
       "      <td>...</td>\n",
       "      <td>...</td>\n",
       "      <td>...</td>\n",
       "      <td>...</td>\n",
       "    </tr>\n",
       "    <tr>\n",
       "      <th>91</th>\n",
       "      <td>Treptow-Köpenick</td>\n",
       "      <td>2015</td>\n",
       "      <td>197</td>\n",
       "      <td>11706</td>\n",
       "      <td>517</td>\n",
       "      <td>12420</td>\n",
       "    </tr>\n",
       "    <tr>\n",
       "      <th>92</th>\n",
       "      <td>Treptow-Köpenick</td>\n",
       "      <td>2016</td>\n",
       "      <td>146</td>\n",
       "      <td>12524</td>\n",
       "      <td>371</td>\n",
       "      <td>13041</td>\n",
       "    </tr>\n",
       "    <tr>\n",
       "      <th>93</th>\n",
       "      <td>Treptow-Köpenick</td>\n",
       "      <td>2017</td>\n",
       "      <td>200</td>\n",
       "      <td>11453</td>\n",
       "      <td>495</td>\n",
       "      <td>12148</td>\n",
       "    </tr>\n",
       "    <tr>\n",
       "      <th>94</th>\n",
       "      <td>Treptow-Köpenick</td>\n",
       "      <td>2018</td>\n",
       "      <td>216</td>\n",
       "      <td>11145</td>\n",
       "      <td>574</td>\n",
       "      <td>11935</td>\n",
       "    </tr>\n",
       "    <tr>\n",
       "      <th>95</th>\n",
       "      <td>Treptow-Köpenick</td>\n",
       "      <td>2019</td>\n",
       "      <td>169</td>\n",
       "      <td>11108</td>\n",
       "      <td>633</td>\n",
       "      <td>11910</td>\n",
       "    </tr>\n",
       "  </tbody>\n",
       "</table>\n",
       "<p>96 rows × 6 columns</p>\n",
       "</div>"
      ],
      "text/plain": [
       "                      District  Year  Robbery  Theft  Drugs    sum\n",
       "0   Charlottenburg-Wilmersdorf  2012      643  24061   1064  25768\n",
       "1   Charlottenburg-Wilmersdorf  2013      639  25733   1180  27552\n",
       "2   Charlottenburg-Wilmersdorf  2014      641  26829   1208  28678\n",
       "3   Charlottenburg-Wilmersdorf  2015      536  30622    885  32043\n",
       "4   Charlottenburg-Wilmersdorf  2016      523  28893    948  30364\n",
       "..                         ...   ...      ...    ...    ...    ...\n",
       "91            Treptow-Köpenick  2015      197  11706    517  12420\n",
       "92            Treptow-Köpenick  2016      146  12524    371  13041\n",
       "93            Treptow-Köpenick  2017      200  11453    495  12148\n",
       "94            Treptow-Köpenick  2018      216  11145    574  11935\n",
       "95            Treptow-Köpenick  2019      169  11108    633  11910\n",
       "\n",
       "[96 rows x 6 columns]"
      ]
     },
     "execution_count": 27,
     "metadata": {},
     "output_type": "execute_result"
    }
   ],
   "source": [
    "Crime_Sum"
   ]
  },
  {
   "cell_type": "code",
   "execution_count": 29,
   "id": "c044bdae",
   "metadata": {
    "scrolled": true
   },
   "outputs": [
    {
     "data": {
      "text/plain": [
       "[[643, 24061, 1064],\n",
       " [639, 25733, 1180],\n",
       " [641, 26829, 1208],\n",
       " [536, 30622, 885],\n",
       " [523, 28893, 948],\n",
       " [401, 25950, 942],\n",
       " [417, 25374, 1024],\n",
       " [420, 22571, 1174],\n",
       " [868, 22050, 1853],\n",
       " [906, 24474, 2391],\n",
       " [940, 28793, 3039],\n",
       " [1027, 32845, 5571],\n",
       " [947, 29984, 4431],\n",
       " [608, 25208, 4541],\n",
       " [632, 24384, 4625],\n",
       " [820, 25650, 5232],\n",
       " [260, 11911, 335],\n",
       " [282, 12074, 409],\n",
       " [236, 12407, 378],\n",
       " [212, 12785, 387],\n",
       " [237, 14126, 429],\n",
       " [218, 12488, 515],\n",
       " [185, 11974, 543],\n",
       " [260, 11637, 534],\n",
       " [331, 9714, 308],\n",
       " [327, 9830, 324],\n",
       " [260, 9507, 344],\n",
       " [222, 9624, 367],\n",
       " [235, 10364, 357],\n",
       " [199, 9941, 357],\n",
       " [168, 8456, 485],\n",
       " [239, 8605, 544],\n",
       " [1253, 36486, 2849],\n",
       " [1096, 39314, 2864],\n",
       " [1014, 41934, 2880],\n",
       " [1040, 46613, 2638],\n",
       " [976, 48785, 3350],\n",
       " [763, 41915, 3839],\n",
       " [733, 37802, 3792],\n",
       " [707, 35601, 4233],\n",
       " [767, 19121, 1578],\n",
       " [752, 19538, 1635],\n",
       " [580, 19689, 1180],\n",
       " [582, 21690, 1683],\n",
       " [513, 22311, 1107],\n",
       " [480, 20420, 1311],\n",
       " [505, 19562, 1633],\n",
       " [480, 19291, 2126],\n",
       " [410, 20310, 522],\n",
       " [332, 21063, 539],\n",
       " [313, 22010, 500],\n",
       " [303, 26000, 510],\n",
       " [316, 23824, 595],\n",
       " [303, 19757, 632],\n",
       " [320, 17761, 746],\n",
       " [284, 17202, 788],\n",
       " [337, 12898, 1024],\n",
       " [362, 13110, 989],\n",
       " [340, 13375, 829],\n",
       " [325, 13835, 869],\n",
       " [311, 13841, 971],\n",
       " [236, 11335, 927],\n",
       " [238, 10630, 848],\n",
       " [236, 9989, 843],\n",
       " [359, 11084, 481],\n",
       " [295, 11725, 528],\n",
       " [344, 11390, 549],\n",
       " [269, 11832, 493],\n",
       " [265, 11982, 446],\n",
       " [256, 11303, 476],\n",
       " [315, 10802, 584],\n",
       " [211, 9694, 606],\n",
       " [284, 12410, 298],\n",
       " [288, 14146, 423],\n",
       " [210, 13092, 433],\n",
       " [180, 13437, 356],\n",
       " [162, 13972, 361],\n",
       " [146, 11441, 373],\n",
       " [137, 11633, 460],\n",
       " [217, 11356, 412],\n",
       " [546, 17414, 1066],\n",
       " [600, 18641, 1122],\n",
       " [496, 19062, 1146],\n",
       " [425, 20377, 900],\n",
       " [415, 20586, 1041],\n",
       " [355, 19009, 1095],\n",
       " [336, 20434, 1386],\n",
       " [352, 17618, 1209],\n",
       " [225, 9881, 309],\n",
       " [209, 10769, 342],\n",
       " [209, 11867, 392],\n",
       " [197, 11706, 517],\n",
       " [146, 12524, 371],\n",
       " [200, 11453, 495],\n",
       " [216, 11145, 574],\n",
       " [169, 11108, 633]]"
      ]
     },
     "execution_count": 29,
     "metadata": {},
     "output_type": "execute_result"
    }
   ],
   "source": [
    "# Create Our Columns List\n",
    "our_list1 = Crime_Sum[['Robbery','Theft','Drugs']].values.tolist()\n",
    "\n",
    "\n",
    "# Show In\n",
    "our_list1"
   ]
  },
  {
   "cell_type": "code",
   "execution_count": 33,
   "id": "ec54fe98",
   "metadata": {},
   "outputs": [
    {
     "data": {
      "application/vnd.plotly.v1+json": {
       "config": {
        "plotlyServerURL": "https://plot.ly"
       },
       "data": [
        {
         "coloraxis": "coloraxis",
         "hovertemplate": "Crime Type: %{x}<br>District: %{y}<br>Crime Number: %{z}<extra></extra>",
         "name": "0",
         "type": "heatmap",
         "x": [
          "Robbery",
          "Theft",
          "Drugs"
         ],
         "xaxis": "x",
         "y": [
          "Charlottenburg-Wilmersdorf",
          "Charlottenburg-Wilmersdorf",
          "Charlottenburg-Wilmersdorf",
          "Charlottenburg-Wilmersdorf",
          "Charlottenburg-Wilmersdorf",
          "Charlottenburg-Wilmersdorf",
          "Charlottenburg-Wilmersdorf",
          "Charlottenburg-Wilmersdorf",
          "Friedrichshain-Kreuzberg",
          "Friedrichshain-Kreuzberg",
          "Friedrichshain-Kreuzberg",
          "Friedrichshain-Kreuzberg",
          "Friedrichshain-Kreuzberg",
          "Friedrichshain-Kreuzberg",
          "Friedrichshain-Kreuzberg",
          "Friedrichshain-Kreuzberg",
          "Lichtenberg",
          "Lichtenberg",
          "Lichtenberg",
          "Lichtenberg",
          "Lichtenberg",
          "Lichtenberg",
          "Lichtenberg",
          "Lichtenberg",
          "Marzahn-Hellersdorf",
          "Marzahn-Hellersdorf",
          "Marzahn-Hellersdorf",
          "Marzahn-Hellersdorf",
          "Marzahn-Hellersdorf",
          "Marzahn-Hellersdorf",
          "Marzahn-Hellersdorf",
          "Marzahn-Hellersdorf",
          "Mitte",
          "Mitte",
          "Mitte",
          "Mitte",
          "Mitte",
          "Mitte",
          "Mitte",
          "Mitte",
          "Neukölln",
          "Neukölln",
          "Neukölln",
          "Neukölln",
          "Neukölln",
          "Neukölln",
          "Neukölln",
          "Neukölln",
          "Pankow",
          "Pankow",
          "Pankow",
          "Pankow",
          "Pankow",
          "Pankow",
          "Pankow",
          "Pankow",
          "Reinickendorf",
          "Reinickendorf",
          "Reinickendorf",
          "Reinickendorf",
          "Reinickendorf",
          "Reinickendorf",
          "Reinickendorf",
          "Reinickendorf",
          "Spandau",
          "Spandau",
          "Spandau",
          "Spandau",
          "Spandau",
          "Spandau",
          "Spandau",
          "Spandau",
          "Steglitz-Zehlendorf",
          "Steglitz-Zehlendorf",
          "Steglitz-Zehlendorf",
          "Steglitz-Zehlendorf",
          "Steglitz-Zehlendorf",
          "Steglitz-Zehlendorf",
          "Steglitz-Zehlendorf",
          "Steglitz-Zehlendorf",
          "Tempelhof-Schöneberg",
          "Tempelhof-Schöneberg",
          "Tempelhof-Schöneberg",
          "Tempelhof-Schöneberg",
          "Tempelhof-Schöneberg",
          "Tempelhof-Schöneberg",
          "Tempelhof-Schöneberg",
          "Tempelhof-Schöneberg",
          "Treptow-Köpenick",
          "Treptow-Köpenick",
          "Treptow-Köpenick",
          "Treptow-Köpenick",
          "Treptow-Köpenick",
          "Treptow-Köpenick",
          "Treptow-Köpenick",
          "Treptow-Köpenick"
         ],
         "yaxis": "y",
         "z": [
          [
           643,
           24061,
           1064
          ],
          [
           639,
           25733,
           1180
          ],
          [
           641,
           26829,
           1208
          ],
          [
           536,
           30622,
           885
          ],
          [
           523,
           28893,
           948
          ],
          [
           401,
           25950,
           942
          ],
          [
           417,
           25374,
           1024
          ],
          [
           420,
           22571,
           1174
          ],
          [
           868,
           22050,
           1853
          ],
          [
           906,
           24474,
           2391
          ],
          [
           940,
           28793,
           3039
          ],
          [
           1027,
           32845,
           5571
          ],
          [
           947,
           29984,
           4431
          ],
          [
           608,
           25208,
           4541
          ],
          [
           632,
           24384,
           4625
          ],
          [
           820,
           25650,
           5232
          ],
          [
           260,
           11911,
           335
          ],
          [
           282,
           12074,
           409
          ],
          [
           236,
           12407,
           378
          ],
          [
           212,
           12785,
           387
          ],
          [
           237,
           14126,
           429
          ],
          [
           218,
           12488,
           515
          ],
          [
           185,
           11974,
           543
          ],
          [
           260,
           11637,
           534
          ],
          [
           331,
           9714,
           308
          ],
          [
           327,
           9830,
           324
          ],
          [
           260,
           9507,
           344
          ],
          [
           222,
           9624,
           367
          ],
          [
           235,
           10364,
           357
          ],
          [
           199,
           9941,
           357
          ],
          [
           168,
           8456,
           485
          ],
          [
           239,
           8605,
           544
          ],
          [
           1253,
           36486,
           2849
          ],
          [
           1096,
           39314,
           2864
          ],
          [
           1014,
           41934,
           2880
          ],
          [
           1040,
           46613,
           2638
          ],
          [
           976,
           48785,
           3350
          ],
          [
           763,
           41915,
           3839
          ],
          [
           733,
           37802,
           3792
          ],
          [
           707,
           35601,
           4233
          ],
          [
           767,
           19121,
           1578
          ],
          [
           752,
           19538,
           1635
          ],
          [
           580,
           19689,
           1180
          ],
          [
           582,
           21690,
           1683
          ],
          [
           513,
           22311,
           1107
          ],
          [
           480,
           20420,
           1311
          ],
          [
           505,
           19562,
           1633
          ],
          [
           480,
           19291,
           2126
          ],
          [
           410,
           20310,
           522
          ],
          [
           332,
           21063,
           539
          ],
          [
           313,
           22010,
           500
          ],
          [
           303,
           26000,
           510
          ],
          [
           316,
           23824,
           595
          ],
          [
           303,
           19757,
           632
          ],
          [
           320,
           17761,
           746
          ],
          [
           284,
           17202,
           788
          ],
          [
           337,
           12898,
           1024
          ],
          [
           362,
           13110,
           989
          ],
          [
           340,
           13375,
           829
          ],
          [
           325,
           13835,
           869
          ],
          [
           311,
           13841,
           971
          ],
          [
           236,
           11335,
           927
          ],
          [
           238,
           10630,
           848
          ],
          [
           236,
           9989,
           843
          ],
          [
           359,
           11084,
           481
          ],
          [
           295,
           11725,
           528
          ],
          [
           344,
           11390,
           549
          ],
          [
           269,
           11832,
           493
          ],
          [
           265,
           11982,
           446
          ],
          [
           256,
           11303,
           476
          ],
          [
           315,
           10802,
           584
          ],
          [
           211,
           9694,
           606
          ],
          [
           284,
           12410,
           298
          ],
          [
           288,
           14146,
           423
          ],
          [
           210,
           13092,
           433
          ],
          [
           180,
           13437,
           356
          ],
          [
           162,
           13972,
           361
          ],
          [
           146,
           11441,
           373
          ],
          [
           137,
           11633,
           460
          ],
          [
           217,
           11356,
           412
          ],
          [
           546,
           17414,
           1066
          ],
          [
           600,
           18641,
           1122
          ],
          [
           496,
           19062,
           1146
          ],
          [
           425,
           20377,
           900
          ],
          [
           415,
           20586,
           1041
          ],
          [
           355,
           19009,
           1095
          ],
          [
           336,
           20434,
           1386
          ],
          [
           352,
           17618,
           1209
          ],
          [
           225,
           9881,
           309
          ],
          [
           209,
           10769,
           342
          ],
          [
           209,
           11867,
           392
          ],
          [
           197,
           11706,
           517
          ],
          [
           146,
           12524,
           371
          ],
          [
           200,
           11453,
           495
          ],
          [
           216,
           11145,
           574
          ],
          [
           169,
           11108,
           633
          ]
         ]
        }
       ],
       "layout": {
        "coloraxis": {
         "colorbar": {
          "title": {
           "text": "Crime Number"
          }
         },
         "colorscale": [
          [
           0,
           "#0d0887"
          ],
          [
           0.1111111111111111,
           "#46039f"
          ],
          [
           0.2222222222222222,
           "#7201a8"
          ],
          [
           0.3333333333333333,
           "#9c179e"
          ],
          [
           0.4444444444444444,
           "#bd3786"
          ],
          [
           0.5555555555555556,
           "#d8576b"
          ],
          [
           0.6666666666666666,
           "#ed7953"
          ],
          [
           0.7777777777777778,
           "#fb9f3a"
          ],
          [
           0.8888888888888888,
           "#fdca26"
          ],
          [
           1,
           "#f0f921"
          ]
         ]
        },
        "margin": {
         "t": 60
        },
        "template": {
         "data": {
          "bar": [
           {
            "error_x": {
             "color": "#2a3f5f"
            },
            "error_y": {
             "color": "#2a3f5f"
            },
            "marker": {
             "line": {
              "color": "#E5ECF6",
              "width": 0.5
             },
             "pattern": {
              "fillmode": "overlay",
              "size": 10,
              "solidity": 0.2
             }
            },
            "type": "bar"
           }
          ],
          "barpolar": [
           {
            "marker": {
             "line": {
              "color": "#E5ECF6",
              "width": 0.5
             },
             "pattern": {
              "fillmode": "overlay",
              "size": 10,
              "solidity": 0.2
             }
            },
            "type": "barpolar"
           }
          ],
          "carpet": [
           {
            "aaxis": {
             "endlinecolor": "#2a3f5f",
             "gridcolor": "white",
             "linecolor": "white",
             "minorgridcolor": "white",
             "startlinecolor": "#2a3f5f"
            },
            "baxis": {
             "endlinecolor": "#2a3f5f",
             "gridcolor": "white",
             "linecolor": "white",
             "minorgridcolor": "white",
             "startlinecolor": "#2a3f5f"
            },
            "type": "carpet"
           }
          ],
          "choropleth": [
           {
            "colorbar": {
             "outlinewidth": 0,
             "ticks": ""
            },
            "type": "choropleth"
           }
          ],
          "contour": [
           {
            "colorbar": {
             "outlinewidth": 0,
             "ticks": ""
            },
            "colorscale": [
             [
              0,
              "#0d0887"
             ],
             [
              0.1111111111111111,
              "#46039f"
             ],
             [
              0.2222222222222222,
              "#7201a8"
             ],
             [
              0.3333333333333333,
              "#9c179e"
             ],
             [
              0.4444444444444444,
              "#bd3786"
             ],
             [
              0.5555555555555556,
              "#d8576b"
             ],
             [
              0.6666666666666666,
              "#ed7953"
             ],
             [
              0.7777777777777778,
              "#fb9f3a"
             ],
             [
              0.8888888888888888,
              "#fdca26"
             ],
             [
              1,
              "#f0f921"
             ]
            ],
            "type": "contour"
           }
          ],
          "contourcarpet": [
           {
            "colorbar": {
             "outlinewidth": 0,
             "ticks": ""
            },
            "type": "contourcarpet"
           }
          ],
          "heatmap": [
           {
            "colorbar": {
             "outlinewidth": 0,
             "ticks": ""
            },
            "colorscale": [
             [
              0,
              "#0d0887"
             ],
             [
              0.1111111111111111,
              "#46039f"
             ],
             [
              0.2222222222222222,
              "#7201a8"
             ],
             [
              0.3333333333333333,
              "#9c179e"
             ],
             [
              0.4444444444444444,
              "#bd3786"
             ],
             [
              0.5555555555555556,
              "#d8576b"
             ],
             [
              0.6666666666666666,
              "#ed7953"
             ],
             [
              0.7777777777777778,
              "#fb9f3a"
             ],
             [
              0.8888888888888888,
              "#fdca26"
             ],
             [
              1,
              "#f0f921"
             ]
            ],
            "type": "heatmap"
           }
          ],
          "heatmapgl": [
           {
            "colorbar": {
             "outlinewidth": 0,
             "ticks": ""
            },
            "colorscale": [
             [
              0,
              "#0d0887"
             ],
             [
              0.1111111111111111,
              "#46039f"
             ],
             [
              0.2222222222222222,
              "#7201a8"
             ],
             [
              0.3333333333333333,
              "#9c179e"
             ],
             [
              0.4444444444444444,
              "#bd3786"
             ],
             [
              0.5555555555555556,
              "#d8576b"
             ],
             [
              0.6666666666666666,
              "#ed7953"
             ],
             [
              0.7777777777777778,
              "#fb9f3a"
             ],
             [
              0.8888888888888888,
              "#fdca26"
             ],
             [
              1,
              "#f0f921"
             ]
            ],
            "type": "heatmapgl"
           }
          ],
          "histogram": [
           {
            "marker": {
             "pattern": {
              "fillmode": "overlay",
              "size": 10,
              "solidity": 0.2
             }
            },
            "type": "histogram"
           }
          ],
          "histogram2d": [
           {
            "colorbar": {
             "outlinewidth": 0,
             "ticks": ""
            },
            "colorscale": [
             [
              0,
              "#0d0887"
             ],
             [
              0.1111111111111111,
              "#46039f"
             ],
             [
              0.2222222222222222,
              "#7201a8"
             ],
             [
              0.3333333333333333,
              "#9c179e"
             ],
             [
              0.4444444444444444,
              "#bd3786"
             ],
             [
              0.5555555555555556,
              "#d8576b"
             ],
             [
              0.6666666666666666,
              "#ed7953"
             ],
             [
              0.7777777777777778,
              "#fb9f3a"
             ],
             [
              0.8888888888888888,
              "#fdca26"
             ],
             [
              1,
              "#f0f921"
             ]
            ],
            "type": "histogram2d"
           }
          ],
          "histogram2dcontour": [
           {
            "colorbar": {
             "outlinewidth": 0,
             "ticks": ""
            },
            "colorscale": [
             [
              0,
              "#0d0887"
             ],
             [
              0.1111111111111111,
              "#46039f"
             ],
             [
              0.2222222222222222,
              "#7201a8"
             ],
             [
              0.3333333333333333,
              "#9c179e"
             ],
             [
              0.4444444444444444,
              "#bd3786"
             ],
             [
              0.5555555555555556,
              "#d8576b"
             ],
             [
              0.6666666666666666,
              "#ed7953"
             ],
             [
              0.7777777777777778,
              "#fb9f3a"
             ],
             [
              0.8888888888888888,
              "#fdca26"
             ],
             [
              1,
              "#f0f921"
             ]
            ],
            "type": "histogram2dcontour"
           }
          ],
          "mesh3d": [
           {
            "colorbar": {
             "outlinewidth": 0,
             "ticks": ""
            },
            "type": "mesh3d"
           }
          ],
          "parcoords": [
           {
            "line": {
             "colorbar": {
              "outlinewidth": 0,
              "ticks": ""
             }
            },
            "type": "parcoords"
           }
          ],
          "pie": [
           {
            "automargin": true,
            "type": "pie"
           }
          ],
          "scatter": [
           {
            "marker": {
             "colorbar": {
              "outlinewidth": 0,
              "ticks": ""
             }
            },
            "type": "scatter"
           }
          ],
          "scatter3d": [
           {
            "line": {
             "colorbar": {
              "outlinewidth": 0,
              "ticks": ""
             }
            },
            "marker": {
             "colorbar": {
              "outlinewidth": 0,
              "ticks": ""
             }
            },
            "type": "scatter3d"
           }
          ],
          "scattercarpet": [
           {
            "marker": {
             "colorbar": {
              "outlinewidth": 0,
              "ticks": ""
             }
            },
            "type": "scattercarpet"
           }
          ],
          "scattergeo": [
           {
            "marker": {
             "colorbar": {
              "outlinewidth": 0,
              "ticks": ""
             }
            },
            "type": "scattergeo"
           }
          ],
          "scattergl": [
           {
            "marker": {
             "colorbar": {
              "outlinewidth": 0,
              "ticks": ""
             }
            },
            "type": "scattergl"
           }
          ],
          "scattermapbox": [
           {
            "marker": {
             "colorbar": {
              "outlinewidth": 0,
              "ticks": ""
             }
            },
            "type": "scattermapbox"
           }
          ],
          "scatterpolar": [
           {
            "marker": {
             "colorbar": {
              "outlinewidth": 0,
              "ticks": ""
             }
            },
            "type": "scatterpolar"
           }
          ],
          "scatterpolargl": [
           {
            "marker": {
             "colorbar": {
              "outlinewidth": 0,
              "ticks": ""
             }
            },
            "type": "scatterpolargl"
           }
          ],
          "scatterternary": [
           {
            "marker": {
             "colorbar": {
              "outlinewidth": 0,
              "ticks": ""
             }
            },
            "type": "scatterternary"
           }
          ],
          "surface": [
           {
            "colorbar": {
             "outlinewidth": 0,
             "ticks": ""
            },
            "colorscale": [
             [
              0,
              "#0d0887"
             ],
             [
              0.1111111111111111,
              "#46039f"
             ],
             [
              0.2222222222222222,
              "#7201a8"
             ],
             [
              0.3333333333333333,
              "#9c179e"
             ],
             [
              0.4444444444444444,
              "#bd3786"
             ],
             [
              0.5555555555555556,
              "#d8576b"
             ],
             [
              0.6666666666666666,
              "#ed7953"
             ],
             [
              0.7777777777777778,
              "#fb9f3a"
             ],
             [
              0.8888888888888888,
              "#fdca26"
             ],
             [
              1,
              "#f0f921"
             ]
            ],
            "type": "surface"
           }
          ],
          "table": [
           {
            "cells": {
             "fill": {
              "color": "#EBF0F8"
             },
             "line": {
              "color": "white"
             }
            },
            "header": {
             "fill": {
              "color": "#C8D4E3"
             },
             "line": {
              "color": "white"
             }
            },
            "type": "table"
           }
          ]
         },
         "layout": {
          "annotationdefaults": {
           "arrowcolor": "#2a3f5f",
           "arrowhead": 0,
           "arrowwidth": 1
          },
          "autotypenumbers": "strict",
          "coloraxis": {
           "colorbar": {
            "outlinewidth": 0,
            "ticks": ""
           }
          },
          "colorscale": {
           "diverging": [
            [
             0,
             "#8e0152"
            ],
            [
             0.1,
             "#c51b7d"
            ],
            [
             0.2,
             "#de77ae"
            ],
            [
             0.3,
             "#f1b6da"
            ],
            [
             0.4,
             "#fde0ef"
            ],
            [
             0.5,
             "#f7f7f7"
            ],
            [
             0.6,
             "#e6f5d0"
            ],
            [
             0.7,
             "#b8e186"
            ],
            [
             0.8,
             "#7fbc41"
            ],
            [
             0.9,
             "#4d9221"
            ],
            [
             1,
             "#276419"
            ]
           ],
           "sequential": [
            [
             0,
             "#0d0887"
            ],
            [
             0.1111111111111111,
             "#46039f"
            ],
            [
             0.2222222222222222,
             "#7201a8"
            ],
            [
             0.3333333333333333,
             "#9c179e"
            ],
            [
             0.4444444444444444,
             "#bd3786"
            ],
            [
             0.5555555555555556,
             "#d8576b"
            ],
            [
             0.6666666666666666,
             "#ed7953"
            ],
            [
             0.7777777777777778,
             "#fb9f3a"
            ],
            [
             0.8888888888888888,
             "#fdca26"
            ],
            [
             1,
             "#f0f921"
            ]
           ],
           "sequentialminus": [
            [
             0,
             "#0d0887"
            ],
            [
             0.1111111111111111,
             "#46039f"
            ],
            [
             0.2222222222222222,
             "#7201a8"
            ],
            [
             0.3333333333333333,
             "#9c179e"
            ],
            [
             0.4444444444444444,
             "#bd3786"
            ],
            [
             0.5555555555555556,
             "#d8576b"
            ],
            [
             0.6666666666666666,
             "#ed7953"
            ],
            [
             0.7777777777777778,
             "#fb9f3a"
            ],
            [
             0.8888888888888888,
             "#fdca26"
            ],
            [
             1,
             "#f0f921"
            ]
           ]
          },
          "colorway": [
           "#636efa",
           "#EF553B",
           "#00cc96",
           "#ab63fa",
           "#FFA15A",
           "#19d3f3",
           "#FF6692",
           "#B6E880",
           "#FF97FF",
           "#FECB52"
          ],
          "font": {
           "color": "#2a3f5f"
          },
          "geo": {
           "bgcolor": "white",
           "lakecolor": "white",
           "landcolor": "#E5ECF6",
           "showlakes": true,
           "showland": true,
           "subunitcolor": "white"
          },
          "hoverlabel": {
           "align": "left"
          },
          "hovermode": "closest",
          "mapbox": {
           "style": "light"
          },
          "paper_bgcolor": "white",
          "plot_bgcolor": "#E5ECF6",
          "polar": {
           "angularaxis": {
            "gridcolor": "white",
            "linecolor": "white",
            "ticks": ""
           },
           "bgcolor": "#E5ECF6",
           "radialaxis": {
            "gridcolor": "white",
            "linecolor": "white",
            "ticks": ""
           }
          },
          "scene": {
           "xaxis": {
            "backgroundcolor": "#E5ECF6",
            "gridcolor": "white",
            "gridwidth": 2,
            "linecolor": "white",
            "showbackground": true,
            "ticks": "",
            "zerolinecolor": "white"
           },
           "yaxis": {
            "backgroundcolor": "#E5ECF6",
            "gridcolor": "white",
            "gridwidth": 2,
            "linecolor": "white",
            "showbackground": true,
            "ticks": "",
            "zerolinecolor": "white"
           },
           "zaxis": {
            "backgroundcolor": "#E5ECF6",
            "gridcolor": "white",
            "gridwidth": 2,
            "linecolor": "white",
            "showbackground": true,
            "ticks": "",
            "zerolinecolor": "white"
           }
          },
          "shapedefaults": {
           "line": {
            "color": "#2a3f5f"
           }
          },
          "ternary": {
           "aaxis": {
            "gridcolor": "white",
            "linecolor": "white",
            "ticks": ""
           },
           "baxis": {
            "gridcolor": "white",
            "linecolor": "white",
            "ticks": ""
           },
           "bgcolor": "#E5ECF6",
           "caxis": {
            "gridcolor": "white",
            "linecolor": "white",
            "ticks": ""
           }
          },
          "title": {
           "x": 0.05
          },
          "xaxis": {
           "automargin": true,
           "gridcolor": "white",
           "linecolor": "white",
           "ticks": "",
           "title": {
            "standoff": 15
           },
           "zerolinecolor": "white",
           "zerolinewidth": 2
          },
          "yaxis": {
           "automargin": true,
           "gridcolor": "white",
           "linecolor": "white",
           "ticks": "",
           "title": {
            "standoff": 15
           },
           "zerolinecolor": "white",
           "zerolinewidth": 2
          }
         }
        },
        "xaxis": {
         "anchor": "y",
         "constrain": "domain",
         "domain": [
          0,
          1
         ],
         "scaleanchor": "y",
         "title": {
          "text": "Crime Type"
         }
        },
        "yaxis": {
         "anchor": "x",
         "autorange": "reversed",
         "constrain": "domain",
         "domain": [
          0,
          1
         ],
         "title": {
          "text": "District"
         }
        }
       }
      },
      "text/html": [
       "<div>                            <div id=\"c6b81534-b825-40b2-bd44-8c3bd32fcb7a\" class=\"plotly-graph-div\" style=\"height:525px; width:100%;\"></div>            <script type=\"text/javascript\">                require([\"plotly\"], function(Plotly) {                    window.PLOTLYENV=window.PLOTLYENV || {};                                    if (document.getElementById(\"c6b81534-b825-40b2-bd44-8c3bd32fcb7a\")) {                    Plotly.newPlot(                        \"c6b81534-b825-40b2-bd44-8c3bd32fcb7a\",                        [{\"coloraxis\":\"coloraxis\",\"hovertemplate\":\"Crime Type: %{x}<br>District: %{y}<br>Crime Number: %{z}<extra></extra>\",\"name\":\"0\",\"type\":\"heatmap\",\"x\":[\"Robbery\",\"Theft\",\"Drugs\"],\"xaxis\":\"x\",\"y\":[\"Charlottenburg-Wilmersdorf\",\"Charlottenburg-Wilmersdorf\",\"Charlottenburg-Wilmersdorf\",\"Charlottenburg-Wilmersdorf\",\"Charlottenburg-Wilmersdorf\",\"Charlottenburg-Wilmersdorf\",\"Charlottenburg-Wilmersdorf\",\"Charlottenburg-Wilmersdorf\",\"Friedrichshain-Kreuzberg\",\"Friedrichshain-Kreuzberg\",\"Friedrichshain-Kreuzberg\",\"Friedrichshain-Kreuzberg\",\"Friedrichshain-Kreuzberg\",\"Friedrichshain-Kreuzberg\",\"Friedrichshain-Kreuzberg\",\"Friedrichshain-Kreuzberg\",\"Lichtenberg\",\"Lichtenberg\",\"Lichtenberg\",\"Lichtenberg\",\"Lichtenberg\",\"Lichtenberg\",\"Lichtenberg\",\"Lichtenberg\",\"Marzahn-Hellersdorf\",\"Marzahn-Hellersdorf\",\"Marzahn-Hellersdorf\",\"Marzahn-Hellersdorf\",\"Marzahn-Hellersdorf\",\"Marzahn-Hellersdorf\",\"Marzahn-Hellersdorf\",\"Marzahn-Hellersdorf\",\"Mitte\",\"Mitte\",\"Mitte\",\"Mitte\",\"Mitte\",\"Mitte\",\"Mitte\",\"Mitte\",\"Neuk\\u00f6lln\",\"Neuk\\u00f6lln\",\"Neuk\\u00f6lln\",\"Neuk\\u00f6lln\",\"Neuk\\u00f6lln\",\"Neuk\\u00f6lln\",\"Neuk\\u00f6lln\",\"Neuk\\u00f6lln\",\"Pankow\",\"Pankow\",\"Pankow\",\"Pankow\",\"Pankow\",\"Pankow\",\"Pankow\",\"Pankow\",\"Reinickendorf\",\"Reinickendorf\",\"Reinickendorf\",\"Reinickendorf\",\"Reinickendorf\",\"Reinickendorf\",\"Reinickendorf\",\"Reinickendorf\",\"Spandau\",\"Spandau\",\"Spandau\",\"Spandau\",\"Spandau\",\"Spandau\",\"Spandau\",\"Spandau\",\"Steglitz-Zehlendorf\",\"Steglitz-Zehlendorf\",\"Steglitz-Zehlendorf\",\"Steglitz-Zehlendorf\",\"Steglitz-Zehlendorf\",\"Steglitz-Zehlendorf\",\"Steglitz-Zehlendorf\",\"Steglitz-Zehlendorf\",\"Tempelhof-Sch\\u00f6neberg\",\"Tempelhof-Sch\\u00f6neberg\",\"Tempelhof-Sch\\u00f6neberg\",\"Tempelhof-Sch\\u00f6neberg\",\"Tempelhof-Sch\\u00f6neberg\",\"Tempelhof-Sch\\u00f6neberg\",\"Tempelhof-Sch\\u00f6neberg\",\"Tempelhof-Sch\\u00f6neberg\",\"Treptow-K\\u00f6penick\",\"Treptow-K\\u00f6penick\",\"Treptow-K\\u00f6penick\",\"Treptow-K\\u00f6penick\",\"Treptow-K\\u00f6penick\",\"Treptow-K\\u00f6penick\",\"Treptow-K\\u00f6penick\",\"Treptow-K\\u00f6penick\"],\"yaxis\":\"y\",\"z\":[[643,24061,1064],[639,25733,1180],[641,26829,1208],[536,30622,885],[523,28893,948],[401,25950,942],[417,25374,1024],[420,22571,1174],[868,22050,1853],[906,24474,2391],[940,28793,3039],[1027,32845,5571],[947,29984,4431],[608,25208,4541],[632,24384,4625],[820,25650,5232],[260,11911,335],[282,12074,409],[236,12407,378],[212,12785,387],[237,14126,429],[218,12488,515],[185,11974,543],[260,11637,534],[331,9714,308],[327,9830,324],[260,9507,344],[222,9624,367],[235,10364,357],[199,9941,357],[168,8456,485],[239,8605,544],[1253,36486,2849],[1096,39314,2864],[1014,41934,2880],[1040,46613,2638],[976,48785,3350],[763,41915,3839],[733,37802,3792],[707,35601,4233],[767,19121,1578],[752,19538,1635],[580,19689,1180],[582,21690,1683],[513,22311,1107],[480,20420,1311],[505,19562,1633],[480,19291,2126],[410,20310,522],[332,21063,539],[313,22010,500],[303,26000,510],[316,23824,595],[303,19757,632],[320,17761,746],[284,17202,788],[337,12898,1024],[362,13110,989],[340,13375,829],[325,13835,869],[311,13841,971],[236,11335,927],[238,10630,848],[236,9989,843],[359,11084,481],[295,11725,528],[344,11390,549],[269,11832,493],[265,11982,446],[256,11303,476],[315,10802,584],[211,9694,606],[284,12410,298],[288,14146,423],[210,13092,433],[180,13437,356],[162,13972,361],[146,11441,373],[137,11633,460],[217,11356,412],[546,17414,1066],[600,18641,1122],[496,19062,1146],[425,20377,900],[415,20586,1041],[355,19009,1095],[336,20434,1386],[352,17618,1209],[225,9881,309],[209,10769,342],[209,11867,392],[197,11706,517],[146,12524,371],[200,11453,495],[216,11145,574],[169,11108,633]]}],                        {\"coloraxis\":{\"colorbar\":{\"title\":{\"text\":\"Crime Number\"}},\"colorscale\":[[0.0,\"#0d0887\"],[0.1111111111111111,\"#46039f\"],[0.2222222222222222,\"#7201a8\"],[0.3333333333333333,\"#9c179e\"],[0.4444444444444444,\"#bd3786\"],[0.5555555555555556,\"#d8576b\"],[0.6666666666666666,\"#ed7953\"],[0.7777777777777778,\"#fb9f3a\"],[0.8888888888888888,\"#fdca26\"],[1.0,\"#f0f921\"]]},\"margin\":{\"t\":60},\"template\":{\"data\":{\"bar\":[{\"error_x\":{\"color\":\"#2a3f5f\"},\"error_y\":{\"color\":\"#2a3f5f\"},\"marker\":{\"line\":{\"color\":\"#E5ECF6\",\"width\":0.5},\"pattern\":{\"fillmode\":\"overlay\",\"size\":10,\"solidity\":0.2}},\"type\":\"bar\"}],\"barpolar\":[{\"marker\":{\"line\":{\"color\":\"#E5ECF6\",\"width\":0.5},\"pattern\":{\"fillmode\":\"overlay\",\"size\":10,\"solidity\":0.2}},\"type\":\"barpolar\"}],\"carpet\":[{\"aaxis\":{\"endlinecolor\":\"#2a3f5f\",\"gridcolor\":\"white\",\"linecolor\":\"white\",\"minorgridcolor\":\"white\",\"startlinecolor\":\"#2a3f5f\"},\"baxis\":{\"endlinecolor\":\"#2a3f5f\",\"gridcolor\":\"white\",\"linecolor\":\"white\",\"minorgridcolor\":\"white\",\"startlinecolor\":\"#2a3f5f\"},\"type\":\"carpet\"}],\"choropleth\":[{\"colorbar\":{\"outlinewidth\":0,\"ticks\":\"\"},\"type\":\"choropleth\"}],\"contour\":[{\"colorbar\":{\"outlinewidth\":0,\"ticks\":\"\"},\"colorscale\":[[0.0,\"#0d0887\"],[0.1111111111111111,\"#46039f\"],[0.2222222222222222,\"#7201a8\"],[0.3333333333333333,\"#9c179e\"],[0.4444444444444444,\"#bd3786\"],[0.5555555555555556,\"#d8576b\"],[0.6666666666666666,\"#ed7953\"],[0.7777777777777778,\"#fb9f3a\"],[0.8888888888888888,\"#fdca26\"],[1.0,\"#f0f921\"]],\"type\":\"contour\"}],\"contourcarpet\":[{\"colorbar\":{\"outlinewidth\":0,\"ticks\":\"\"},\"type\":\"contourcarpet\"}],\"heatmap\":[{\"colorbar\":{\"outlinewidth\":0,\"ticks\":\"\"},\"colorscale\":[[0.0,\"#0d0887\"],[0.1111111111111111,\"#46039f\"],[0.2222222222222222,\"#7201a8\"],[0.3333333333333333,\"#9c179e\"],[0.4444444444444444,\"#bd3786\"],[0.5555555555555556,\"#d8576b\"],[0.6666666666666666,\"#ed7953\"],[0.7777777777777778,\"#fb9f3a\"],[0.8888888888888888,\"#fdca26\"],[1.0,\"#f0f921\"]],\"type\":\"heatmap\"}],\"heatmapgl\":[{\"colorbar\":{\"outlinewidth\":0,\"ticks\":\"\"},\"colorscale\":[[0.0,\"#0d0887\"],[0.1111111111111111,\"#46039f\"],[0.2222222222222222,\"#7201a8\"],[0.3333333333333333,\"#9c179e\"],[0.4444444444444444,\"#bd3786\"],[0.5555555555555556,\"#d8576b\"],[0.6666666666666666,\"#ed7953\"],[0.7777777777777778,\"#fb9f3a\"],[0.8888888888888888,\"#fdca26\"],[1.0,\"#f0f921\"]],\"type\":\"heatmapgl\"}],\"histogram\":[{\"marker\":{\"pattern\":{\"fillmode\":\"overlay\",\"size\":10,\"solidity\":0.2}},\"type\":\"histogram\"}],\"histogram2d\":[{\"colorbar\":{\"outlinewidth\":0,\"ticks\":\"\"},\"colorscale\":[[0.0,\"#0d0887\"],[0.1111111111111111,\"#46039f\"],[0.2222222222222222,\"#7201a8\"],[0.3333333333333333,\"#9c179e\"],[0.4444444444444444,\"#bd3786\"],[0.5555555555555556,\"#d8576b\"],[0.6666666666666666,\"#ed7953\"],[0.7777777777777778,\"#fb9f3a\"],[0.8888888888888888,\"#fdca26\"],[1.0,\"#f0f921\"]],\"type\":\"histogram2d\"}],\"histogram2dcontour\":[{\"colorbar\":{\"outlinewidth\":0,\"ticks\":\"\"},\"colorscale\":[[0.0,\"#0d0887\"],[0.1111111111111111,\"#46039f\"],[0.2222222222222222,\"#7201a8\"],[0.3333333333333333,\"#9c179e\"],[0.4444444444444444,\"#bd3786\"],[0.5555555555555556,\"#d8576b\"],[0.6666666666666666,\"#ed7953\"],[0.7777777777777778,\"#fb9f3a\"],[0.8888888888888888,\"#fdca26\"],[1.0,\"#f0f921\"]],\"type\":\"histogram2dcontour\"}],\"mesh3d\":[{\"colorbar\":{\"outlinewidth\":0,\"ticks\":\"\"},\"type\":\"mesh3d\"}],\"parcoords\":[{\"line\":{\"colorbar\":{\"outlinewidth\":0,\"ticks\":\"\"}},\"type\":\"parcoords\"}],\"pie\":[{\"automargin\":true,\"type\":\"pie\"}],\"scatter\":[{\"marker\":{\"colorbar\":{\"outlinewidth\":0,\"ticks\":\"\"}},\"type\":\"scatter\"}],\"scatter3d\":[{\"line\":{\"colorbar\":{\"outlinewidth\":0,\"ticks\":\"\"}},\"marker\":{\"colorbar\":{\"outlinewidth\":0,\"ticks\":\"\"}},\"type\":\"scatter3d\"}],\"scattercarpet\":[{\"marker\":{\"colorbar\":{\"outlinewidth\":0,\"ticks\":\"\"}},\"type\":\"scattercarpet\"}],\"scattergeo\":[{\"marker\":{\"colorbar\":{\"outlinewidth\":0,\"ticks\":\"\"}},\"type\":\"scattergeo\"}],\"scattergl\":[{\"marker\":{\"colorbar\":{\"outlinewidth\":0,\"ticks\":\"\"}},\"type\":\"scattergl\"}],\"scattermapbox\":[{\"marker\":{\"colorbar\":{\"outlinewidth\":0,\"ticks\":\"\"}},\"type\":\"scattermapbox\"}],\"scatterpolar\":[{\"marker\":{\"colorbar\":{\"outlinewidth\":0,\"ticks\":\"\"}},\"type\":\"scatterpolar\"}],\"scatterpolargl\":[{\"marker\":{\"colorbar\":{\"outlinewidth\":0,\"ticks\":\"\"}},\"type\":\"scatterpolargl\"}],\"scatterternary\":[{\"marker\":{\"colorbar\":{\"outlinewidth\":0,\"ticks\":\"\"}},\"type\":\"scatterternary\"}],\"surface\":[{\"colorbar\":{\"outlinewidth\":0,\"ticks\":\"\"},\"colorscale\":[[0.0,\"#0d0887\"],[0.1111111111111111,\"#46039f\"],[0.2222222222222222,\"#7201a8\"],[0.3333333333333333,\"#9c179e\"],[0.4444444444444444,\"#bd3786\"],[0.5555555555555556,\"#d8576b\"],[0.6666666666666666,\"#ed7953\"],[0.7777777777777778,\"#fb9f3a\"],[0.8888888888888888,\"#fdca26\"],[1.0,\"#f0f921\"]],\"type\":\"surface\"}],\"table\":[{\"cells\":{\"fill\":{\"color\":\"#EBF0F8\"},\"line\":{\"color\":\"white\"}},\"header\":{\"fill\":{\"color\":\"#C8D4E3\"},\"line\":{\"color\":\"white\"}},\"type\":\"table\"}]},\"layout\":{\"annotationdefaults\":{\"arrowcolor\":\"#2a3f5f\",\"arrowhead\":0,\"arrowwidth\":1},\"autotypenumbers\":\"strict\",\"coloraxis\":{\"colorbar\":{\"outlinewidth\":0,\"ticks\":\"\"}},\"colorscale\":{\"diverging\":[[0,\"#8e0152\"],[0.1,\"#c51b7d\"],[0.2,\"#de77ae\"],[0.3,\"#f1b6da\"],[0.4,\"#fde0ef\"],[0.5,\"#f7f7f7\"],[0.6,\"#e6f5d0\"],[0.7,\"#b8e186\"],[0.8,\"#7fbc41\"],[0.9,\"#4d9221\"],[1,\"#276419\"]],\"sequential\":[[0.0,\"#0d0887\"],[0.1111111111111111,\"#46039f\"],[0.2222222222222222,\"#7201a8\"],[0.3333333333333333,\"#9c179e\"],[0.4444444444444444,\"#bd3786\"],[0.5555555555555556,\"#d8576b\"],[0.6666666666666666,\"#ed7953\"],[0.7777777777777778,\"#fb9f3a\"],[0.8888888888888888,\"#fdca26\"],[1.0,\"#f0f921\"]],\"sequentialminus\":[[0.0,\"#0d0887\"],[0.1111111111111111,\"#46039f\"],[0.2222222222222222,\"#7201a8\"],[0.3333333333333333,\"#9c179e\"],[0.4444444444444444,\"#bd3786\"],[0.5555555555555556,\"#d8576b\"],[0.6666666666666666,\"#ed7953\"],[0.7777777777777778,\"#fb9f3a\"],[0.8888888888888888,\"#fdca26\"],[1.0,\"#f0f921\"]]},\"colorway\":[\"#636efa\",\"#EF553B\",\"#00cc96\",\"#ab63fa\",\"#FFA15A\",\"#19d3f3\",\"#FF6692\",\"#B6E880\",\"#FF97FF\",\"#FECB52\"],\"font\":{\"color\":\"#2a3f5f\"},\"geo\":{\"bgcolor\":\"white\",\"lakecolor\":\"white\",\"landcolor\":\"#E5ECF6\",\"showlakes\":true,\"showland\":true,\"subunitcolor\":\"white\"},\"hoverlabel\":{\"align\":\"left\"},\"hovermode\":\"closest\",\"mapbox\":{\"style\":\"light\"},\"paper_bgcolor\":\"white\",\"plot_bgcolor\":\"#E5ECF6\",\"polar\":{\"angularaxis\":{\"gridcolor\":\"white\",\"linecolor\":\"white\",\"ticks\":\"\"},\"bgcolor\":\"#E5ECF6\",\"radialaxis\":{\"gridcolor\":\"white\",\"linecolor\":\"white\",\"ticks\":\"\"}},\"scene\":{\"xaxis\":{\"backgroundcolor\":\"#E5ECF6\",\"gridcolor\":\"white\",\"gridwidth\":2,\"linecolor\":\"white\",\"showbackground\":true,\"ticks\":\"\",\"zerolinecolor\":\"white\"},\"yaxis\":{\"backgroundcolor\":\"#E5ECF6\",\"gridcolor\":\"white\",\"gridwidth\":2,\"linecolor\":\"white\",\"showbackground\":true,\"ticks\":\"\",\"zerolinecolor\":\"white\"},\"zaxis\":{\"backgroundcolor\":\"#E5ECF6\",\"gridcolor\":\"white\",\"gridwidth\":2,\"linecolor\":\"white\",\"showbackground\":true,\"ticks\":\"\",\"zerolinecolor\":\"white\"}},\"shapedefaults\":{\"line\":{\"color\":\"#2a3f5f\"}},\"ternary\":{\"aaxis\":{\"gridcolor\":\"white\",\"linecolor\":\"white\",\"ticks\":\"\"},\"baxis\":{\"gridcolor\":\"white\",\"linecolor\":\"white\",\"ticks\":\"\"},\"bgcolor\":\"#E5ECF6\",\"caxis\":{\"gridcolor\":\"white\",\"linecolor\":\"white\",\"ticks\":\"\"}},\"title\":{\"x\":0.05},\"xaxis\":{\"automargin\":true,\"gridcolor\":\"white\",\"linecolor\":\"white\",\"ticks\":\"\",\"title\":{\"standoff\":15},\"zerolinecolor\":\"white\",\"zerolinewidth\":2},\"yaxis\":{\"automargin\":true,\"gridcolor\":\"white\",\"linecolor\":\"white\",\"ticks\":\"\",\"title\":{\"standoff\":15},\"zerolinecolor\":\"white\",\"zerolinewidth\":2}}},\"xaxis\":{\"anchor\":\"y\",\"constrain\":\"domain\",\"domain\":[0.0,1.0],\"scaleanchor\":\"y\",\"title\":{\"text\":\"Crime Type\"}},\"yaxis\":{\"anchor\":\"x\",\"autorange\":\"reversed\",\"constrain\":\"domain\",\"domain\":[0.0,1.0],\"title\":{\"text\":\"District\"}}},                        {\"responsive\": true}                    ).then(function(){\n",
       "                            \n",
       "var gd = document.getElementById('c6b81534-b825-40b2-bd44-8c3bd32fcb7a');\n",
       "var x = new MutationObserver(function (mutations, observer) {{\n",
       "        var display = window.getComputedStyle(gd).display;\n",
       "        if (!display || display === 'none') {{\n",
       "            console.log([gd, 'removed!']);\n",
       "            Plotly.purge(gd);\n",
       "            observer.disconnect();\n",
       "        }}\n",
       "}});\n",
       "\n",
       "// Listen for the removal of the full notebook cells\n",
       "var notebookContainer = gd.closest('#notebook-container');\n",
       "if (notebookContainer) {{\n",
       "    x.observe(notebookContainer, {childList: true});\n",
       "}}\n",
       "\n",
       "// Listen for the clearing of the current output cell\n",
       "var outputEl = gd.closest('.output');\n",
       "if (outputEl) {{\n",
       "    x.observe(outputEl, {childList: true});\n",
       "}}\n",
       "\n",
       "                        })                };                });            </script>        </div>"
      ]
     },
     "metadata": {},
     "output_type": "display_data"
    }
   ],
   "source": [
    "# Creating The Heatmap\n",
    "\n",
    "px.imshow(our_list1,\n",
    "         \n",
    "         x = ['Robbery','Theft','Drugs'],\n",
    "          \n",
    "         y = Crime_Sum['District'],\n",
    "                    \n",
    "          labels = dict(x=\"Crime Type\", y=\"District\", color=\"Crime Number\"),\n",
    "          \n",
    "          \n",
    "          \n",
    "          \n",
    "         ) "
   ]
  },
  {
   "cell_type": "code",
   "execution_count": null,
   "id": "e1566938",
   "metadata": {},
   "outputs": [],
   "source": []
  }
 ],
 "metadata": {
  "kernelspec": {
   "display_name": "Python 3",
   "language": "python",
   "name": "python3"
  },
  "language_info": {
   "codemirror_mode": {
    "name": "ipython",
    "version": 3
   },
   "file_extension": ".py",
   "mimetype": "text/x-python",
   "name": "python",
   "nbconvert_exporter": "python",
   "pygments_lexer": "ipython3",
   "version": "3.8.8"
  }
 },
 "nbformat": 4,
 "nbformat_minor": 5
}
